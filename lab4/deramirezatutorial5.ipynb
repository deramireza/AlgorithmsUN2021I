{
  "nbformat": 4,
  "nbformat_minor": 0,
  "metadata": {
    "colab": {
      "name": "deramirezatutorial4.ipynb",
      "provenance": [],
      "collapsed_sections": [],
      "include_colab_link": true
    },
    "kernelspec": {
      "name": "python3",
      "display_name": "Python 3"
    },
    "language_info": {
      "name": "python"
    }
  },
  "cells": [
    {
      "cell_type": "markdown",
      "metadata": {
        "id": "view-in-github",
        "colab_type": "text"
      },
      "source": [
        "<a href=\"https://colab.research.google.com/github/deramireza/AlgorithmsUN2021I/blob/main/lab4/deramirezatutorial5.ipynb\" target=\"_parent\"><img src=\"https://colab.research.google.com/assets/colab-badge.svg\" alt=\"Open In Colab\"/></a>"
      ]
    },
    {
      "cell_type": "markdown",
      "metadata": {
        "id": "MFCIhQanjJFI"
      },
      "source": [
        "# Introduction\n",
        "In the last chapter we had a glimpse of Pandas. In this chapter we will learn about resampling methods and the DataFrame object, which is a powerful tool for financial data analysis."
      ]
    },
    {
      "cell_type": "markdown",
      "metadata": {
        "id": "Zga-zOxcjNRf"
      },
      "source": [
        "# Fetching Data\n",
        "Here we use the Quandl API to retrieve data.\n",
        "\n"
      ]
    },
    {
      "cell_type": "code",
      "metadata": {
        "id": "q0rnBtP1ia3y"
      },
      "source": [
        "import pandas_datareader as pdr\n",
        "import pandas as pd\n",
        "import numpy as np"
      ],
      "execution_count": 2,
      "outputs": []
    },
    {
      "cell_type": "markdown",
      "metadata": {
        "id": "DDgjKRvLmVBb"
      },
      "source": [
        "We will create a Series named \"amzn\" whose values are Apple's daily closing prices, which are of course indexed by dates:\n",
        "\n"
      ]
    },
    {
      "cell_type": "code",
      "metadata": {
        "colab": {
          "base_uri": "https://localhost:8080/"
        },
        "id": "Y_hprbKbjTEV",
        "outputId": "0d9b7f5a-c9a2-40fb-b9e8-da9725d85835"
      },
      "source": [
        "amzn_table = pdr.get_data_yahoo('AMZN')\n",
        "amzn = amzn_table['Adj Close']['2020']\n",
        "print(amzn)"
      ],
      "execution_count": 3,
      "outputs": [
        {
          "output_type": "stream",
          "text": [
            "Date\n",
            "2020-01-02    1898.010010\n",
            "2020-01-03    1874.969971\n",
            "2020-01-06    1902.880005\n",
            "2020-01-07    1906.859985\n",
            "2020-01-08    1891.969971\n",
            "                 ...     \n",
            "2020-12-24    3172.689941\n",
            "2020-12-28    3283.959961\n",
            "2020-12-29    3322.000000\n",
            "2020-12-30    3285.850098\n",
            "2020-12-31    3256.929932\n",
            "Name: Adj Close, Length: 253, dtype: float64\n"
          ],
          "name": "stdout"
        }
      ]
    },
    {
      "cell_type": "markdown",
      "metadata": {
        "id": "FucOnagHnYQk"
      },
      "source": [
        "Recall that we can fetch a specific data point using series['yyyy-mm-dd']. We can also fetch the data in a specific month using series['yyyy-mm']."
      ]
    },
    {
      "cell_type": "code",
      "metadata": {
        "colab": {
          "base_uri": "https://localhost:8080/"
        },
        "id": "J-VTrLdAnFJg",
        "outputId": "d36e1edf-f487-420e-a801-9c02326cd12c"
      },
      "source": [
        "print(amzn['2020-7'])"
      ],
      "execution_count": 4,
      "outputs": [
        {
          "output_type": "stream",
          "text": [
            "Date\n",
            "2020-07-01    2878.699951\n",
            "2020-07-02    2890.300049\n",
            "2020-07-06    3057.040039\n",
            "2020-07-07    3000.120117\n",
            "2020-07-08    3081.110107\n",
            "2020-07-09    3182.629883\n",
            "2020-07-10    3200.000000\n",
            "2020-07-13    3104.000000\n",
            "2020-07-14    3084.000000\n",
            "2020-07-15    3008.870117\n",
            "2020-07-16    2999.899902\n",
            "2020-07-17    2961.969971\n",
            "2020-07-20    3196.840088\n",
            "2020-07-21    3138.290039\n",
            "2020-07-22    3099.909912\n",
            "2020-07-23    2986.550049\n",
            "2020-07-24    3008.909912\n",
            "2020-07-27    3055.209961\n",
            "2020-07-28    3000.330078\n",
            "2020-07-29    3033.530029\n",
            "2020-07-30    3051.879883\n",
            "2020-07-31    3164.679932\n",
            "Name: Adj Close, dtype: float64\n"
          ],
          "name": "stdout"
        }
      ]
    },
    {
      "cell_type": "markdown",
      "metadata": {
        "id": "oUuufX-CojQV"
      },
      "source": [
        "Or in several consecutive months:"
      ]
    },
    {
      "cell_type": "code",
      "metadata": {
        "colab": {
          "base_uri": "https://localhost:8080/"
        },
        "id": "WnegzqTAodTK",
        "outputId": "1a9f6e58-d9dd-4d02-e995-a2a7edf71787"
      },
      "source": [
        "amzn['2020-6':'2020-8']"
      ],
      "execution_count": 5,
      "outputs": [
        {
          "output_type": "execute_result",
          "data": {
            "text/plain": [
              "Date\n",
              "2020-06-01    2471.040039\n",
              "2020-06-02    2472.409912\n",
              "2020-06-03    2478.399902\n",
              "2020-06-04    2460.600098\n",
              "2020-06-05    2483.000000\n",
              "                 ...     \n",
              "2020-08-25    3346.489990\n",
              "2020-08-26    3441.850098\n",
              "2020-08-27    3400.000000\n",
              "2020-08-28    3401.800049\n",
              "2020-08-31    3450.959961\n",
              "Name: Adj Close, Length: 65, dtype: float64"
            ]
          },
          "metadata": {
            "tags": []
          },
          "execution_count": 5
        }
      ]
    },
    {
      "cell_type": "markdown",
      "metadata": {
        "id": "zB3C_eEtpFAa"
      },
      "source": [
        ".head(N) and .tail(N) are methods for quickly accessing the first or last N elements."
      ]
    },
    {
      "cell_type": "code",
      "metadata": {
        "colab": {
          "base_uri": "https://localhost:8080/"
        },
        "id": "UL303beoovRE",
        "outputId": "57477512-7f75-438f-eb6b-6826a18e3bcc"
      },
      "source": [
        "print(amzn.head(), '\\n')\n",
        "print(amzn.tail(10))"
      ],
      "execution_count": 6,
      "outputs": [
        {
          "output_type": "stream",
          "text": [
            "Date\n",
            "2020-01-02    1898.010010\n",
            "2020-01-03    1874.969971\n",
            "2020-01-06    1902.880005\n",
            "2020-01-07    1906.859985\n",
            "2020-01-08    1891.969971\n",
            "Name: Adj Close, dtype: float64 \n",
            "\n",
            "Date\n",
            "2020-12-17    3236.080078\n",
            "2020-12-18    3201.649902\n",
            "2020-12-21    3206.179932\n",
            "2020-12-22    3206.520020\n",
            "2020-12-23    3185.270020\n",
            "2020-12-24    3172.689941\n",
            "2020-12-28    3283.959961\n",
            "2020-12-29    3322.000000\n",
            "2020-12-30    3285.850098\n",
            "2020-12-31    3256.929932\n",
            "Name: Adj Close, dtype: float64\n"
          ],
          "name": "stdout"
        }
      ]
    },
    {
      "cell_type": "markdown",
      "metadata": {
        "id": "UPox2tCZpUPl"
      },
      "source": [
        "# Resampling\n",
        "**series.resample(freq)** is a class called \"DatetimeIndexResampler\" which groups data in a Series object into regular time intervals. The argument \"freq\" determines the length of each interval.\n",
        "\n",
        "**series.resample.mean()** is a complete statement that groups data into intervals, and then compute the mean of each interval. For example, if we want to aggregate the daily data into monthly data by mean:"
      ]
    },
    {
      "cell_type": "code",
      "metadata": {
        "colab": {
          "base_uri": "https://localhost:8080/"
        },
        "id": "wqFWj0CrpNt1",
        "outputId": "1086d4ab-d029-4d05-ffdd-27c2c0e66a75"
      },
      "source": [
        "by_month = amzn.resample('M').mean()\n",
        "print (by_month)"
      ],
      "execution_count": 7,
      "outputs": [
        {
          "output_type": "stream",
          "text": [
            "Date\n",
            "2020-01-31    1884.237613\n",
            "2020-02-29    2066.175267\n",
            "2020-03-31    1872.310436\n",
            "2020-04-30    2228.705241\n",
            "2020-05-31    2394.184021\n",
            "2020-06-30    2613.545455\n",
            "2020-07-31    3053.853183\n",
            "2020-08-31    3249.254755\n",
            "2020-09-30    3160.748105\n",
            "2020-10-31    3230.600419\n",
            "2020-11-30    3141.807996\n",
            "2020-12-31    3197.750000\n",
            "Freq: M, Name: Adj Close, dtype: float64\n"
          ],
          "name": "stdout"
        }
      ]
    },
    {
      "cell_type": "markdown",
      "metadata": {
        "id": "noV2HTS1pg-g"
      },
      "source": [
        "We can also aggregate the data by week:"
      ]
    },
    {
      "cell_type": "code",
      "metadata": {
        "colab": {
          "base_uri": "https://localhost:8080/"
        },
        "id": "U4w5FMg9pcdq",
        "outputId": "7f37645f-a48d-4344-b49c-b9da0f64f0f4"
      },
      "source": [
        "by_week = amzn.resample('W').mean()\n",
        "print( by_week.head())"
      ],
      "execution_count": 8,
      "outputs": [
        {
          "output_type": "stream",
          "text": [
            "Date\n",
            "2020-01-05    1886.489990\n",
            "2020-01-12    1897.184009\n",
            "2020-01-19    1873.083984\n",
            "2020-01-26    1881.419983\n",
            "2020-02-02    1883.797998\n",
            "Freq: W-SUN, Name: Adj Close, dtype: float64\n"
          ],
          "name": "stdout"
        }
      ]
    },
    {
      "cell_type": "markdown",
      "metadata": {
        "id": "YPphF1aEppB6"
      },
      "source": [
        "We can choose almost any frequency by using the format 'nf', where 'n' is an integer and 'f' is M for month, W for week and D for day."
      ]
    },
    {
      "cell_type": "code",
      "metadata": {
        "id": "12sfJcFApklX"
      },
      "source": [
        "three_day = amzn.resample('3D').mean()\n",
        "two_week  = amzn.resample('2W').mean()\n",
        "two_month = amzn.resample('2M').mean()"
      ],
      "execution_count": 9,
      "outputs": []
    },
    {
      "cell_type": "markdown",
      "metadata": {
        "id": "JP7BU56Gp0qo"
      },
      "source": [
        "Besides the mean() method, other methods can also be used with the resampler:\n",
        "\n"
      ]
    },
    {
      "cell_type": "code",
      "metadata": {
        "id": "H89I5pqNpwtX"
      },
      "source": [
        "std = amzn.resample('W').std()    # standard deviation\n",
        "max = amzn.resample('W').max()    # maximum value\n",
        "min = amzn.resample('W').min()    # minimum value"
      ],
      "execution_count": 10,
      "outputs": []
    },
    {
      "cell_type": "markdown",
      "metadata": {
        "id": "pxzywYiwqAsl"
      },
      "source": [
        "Often we want to calculate monthly returns of a stock, based on prices on the last day of each month. To fetch those prices, we use the series.resample.agg() method:\n",
        "\n"
      ]
    },
    {
      "cell_type": "code",
      "metadata": {
        "colab": {
          "base_uri": "https://localhost:8080/"
        },
        "id": "jhBVLzxCp8ZI",
        "outputId": "a33d8979-d6da-48bf-f869-af8ae7b1997d"
      },
      "source": [
        "last_day = amzn.resample('M').agg(lambda x: x[-1])\n",
        "print (last_day)"
      ],
      "execution_count": 11,
      "outputs": [
        {
          "output_type": "stream",
          "text": [
            "Date\n",
            "2020-01-31    2008.719971\n",
            "2020-02-29    1883.750000\n",
            "2020-03-31    1949.719971\n",
            "2020-04-30    2474.000000\n",
            "2020-05-31    2442.370117\n",
            "2020-06-30    2758.820068\n",
            "2020-07-31    3164.679932\n",
            "2020-08-31    3450.959961\n",
            "2020-09-30    3148.729980\n",
            "2020-10-31    3036.149902\n",
            "2020-11-30    3168.040039\n",
            "2020-12-31    3256.929932\n",
            "Freq: M, Name: Adj Close, dtype: float64\n"
          ],
          "name": "stdout"
        }
      ]
    },
    {
      "cell_type": "markdown",
      "metadata": {
        "id": "nBW1jdEiqMGo"
      },
      "source": [
        "Or directly calculate the monthly rates of return using the data for the first day and the last day:"
      ]
    },
    {
      "cell_type": "code",
      "metadata": {
        "colab": {
          "base_uri": "https://localhost:8080/"
        },
        "id": "nIFVFdIQqIfC",
        "outputId": "434041c6-a87c-4713-e91e-009d6352734f"
      },
      "source": [
        "monthly_return = amzn.resample('M').agg(lambda x: x[-1]/x[1] - 1)\n",
        "print (monthly_return)"
      ],
      "execution_count": 12,
      "outputs": [
        {
          "output_type": "stream",
          "text": [
            "Date\n",
            "2020-01-31    0.071334\n",
            "2020-02-29   -0.080950\n",
            "2020-03-31    0.021336\n",
            "2020-04-30    0.289327\n",
            "2020-05-31    0.054569\n",
            "2020-06-30    0.115843\n",
            "2020-07-31    0.094931\n",
            "2020-08-31    0.099441\n",
            "2020-09-30   -0.108375\n",
            "2020-10-31   -0.028432\n",
            "2020-11-30    0.039243\n",
            "2020-12-31    0.016669\n",
            "Freq: M, Name: Adj Close, dtype: float64\n"
          ],
          "name": "stdout"
        }
      ]
    },
    {
      "cell_type": "code",
      "metadata": {
        "colab": {
          "base_uri": "https://localhost:8080/"
        },
        "id": "nX_j-v2KqRHW",
        "outputId": "919d8f6d-0ec8-4822-e06c-5dba9d26a2b4"
      },
      "source": [
        "print( monthly_return.mean())\n",
        "print (monthly_return.std())\n",
        "print (monthly_return.max())"
      ],
      "execution_count": 13,
      "outputs": [
        {
          "output_type": "stream",
          "text": [
            "0.04874480696098197\n",
            "0.10311663928236184\n",
            "0.28932738004924596\n"
          ],
          "name": "stdout"
        }
      ]
    },
    {
      "cell_type": "markdown",
      "metadata": {
        "id": "zmgjNHsTqZoU"
      },
      "source": [
        "Another two methods frequently used on Series are .diff() and .pct_change(). The former calculates the difference between consecutive elements, and the latter calculates the percentage change.\n",
        "\n"
      ]
    },
    {
      "cell_type": "code",
      "metadata": {
        "colab": {
          "base_uri": "https://localhost:8080/"
        },
        "id": "nIlVLVFHqXSv",
        "outputId": "32db5478-0665-4535-ffe1-a9f16fe7dfe6"
      },
      "source": [
        "print (last_day.diff())\n",
        "print (last_day.pct_change())"
      ],
      "execution_count": 14,
      "outputs": [
        {
          "output_type": "stream",
          "text": [
            "Date\n",
            "2020-01-31           NaN\n",
            "2020-02-29   -124.969971\n",
            "2020-03-31     65.969971\n",
            "2020-04-30    524.280029\n",
            "2020-05-31    -31.629883\n",
            "2020-06-30    316.449951\n",
            "2020-07-31    405.859863\n",
            "2020-08-31    286.280029\n",
            "2020-09-30   -302.229980\n",
            "2020-10-31   -112.580078\n",
            "2020-11-30    131.890137\n",
            "2020-12-31     88.889893\n",
            "Freq: M, Name: Adj Close, dtype: float64\n",
            "Date\n",
            "2020-01-31         NaN\n",
            "2020-02-29   -0.062214\n",
            "2020-03-31    0.035021\n",
            "2020-04-30    0.268900\n",
            "2020-05-31   -0.012785\n",
            "2020-06-30    0.129567\n",
            "2020-07-31    0.147114\n",
            "2020-08-31    0.090461\n",
            "2020-09-30   -0.087579\n",
            "2020-10-31   -0.035754\n",
            "2020-11-30    0.043440\n",
            "2020-12-31    0.028058\n",
            "Freq: M, Name: Adj Close, dtype: float64\n"
          ],
          "name": "stdout"
        }
      ]
    },
    {
      "cell_type": "markdown",
      "metadata": {
        "id": "megCnM-FqhqD"
      },
      "source": [
        "Notice that we induced a NaN value while calculating percentage changes i.e. returns.\n",
        "\n",
        "When dealing with NaN values, we usually either removing the data point or fill it with a specific value. Here we fill it with 0:\n",
        "\n"
      ]
    },
    {
      "cell_type": "code",
      "metadata": {
        "colab": {
          "base_uri": "https://localhost:8080/"
        },
        "id": "vF6qIiUAqe-C",
        "outputId": "e449e6e5-62fd-489b-a754-cd235eadf1d1"
      },
      "source": [
        "daily_return = last_day.pct_change()\n",
        "print( daily_return.fillna(0))"
      ],
      "execution_count": 15,
      "outputs": [
        {
          "output_type": "stream",
          "text": [
            "Date\n",
            "2020-01-31    0.000000\n",
            "2020-02-29   -0.062214\n",
            "2020-03-31    0.035021\n",
            "2020-04-30    0.268900\n",
            "2020-05-31   -0.012785\n",
            "2020-06-30    0.129567\n",
            "2020-07-31    0.147114\n",
            "2020-08-31    0.090461\n",
            "2020-09-30   -0.087579\n",
            "2020-10-31   -0.035754\n",
            "2020-11-30    0.043440\n",
            "2020-12-31    0.028058\n",
            "Freq: M, Name: Adj Close, dtype: float64\n"
          ],
          "name": "stdout"
        }
      ]
    },
    {
      "cell_type": "markdown",
      "metadata": {
        "id": "t9ugRuTmqnNB"
      },
      "source": [
        "Alternatively, we can fill a NaN with the next fitted value. This is called 'backward fill', or 'bfill' in short:"
      ]
    },
    {
      "cell_type": "code",
      "metadata": {
        "colab": {
          "base_uri": "https://localhost:8080/"
        },
        "id": "uqJ1AQhKqk4y",
        "outputId": "de2d0045-1a36-463c-d24c-97a40392b6a6"
      },
      "source": [
        "daily_return = last_day.pct_change()\n",
        "print (daily_return.fillna(method = 'bfill'))"
      ],
      "execution_count": 16,
      "outputs": [
        {
          "output_type": "stream",
          "text": [
            "Date\n",
            "2020-01-31   -0.062214\n",
            "2020-02-29   -0.062214\n",
            "2020-03-31    0.035021\n",
            "2020-04-30    0.268900\n",
            "2020-05-31   -0.012785\n",
            "2020-06-30    0.129567\n",
            "2020-07-31    0.147114\n",
            "2020-08-31    0.090461\n",
            "2020-09-30   -0.087579\n",
            "2020-10-31   -0.035754\n",
            "2020-11-30    0.043440\n",
            "2020-12-31    0.028058\n",
            "Freq: M, Name: Adj Close, dtype: float64\n"
          ],
          "name": "stdout"
        }
      ]
    },
    {
      "cell_type": "markdown",
      "metadata": {
        "id": "3tgwJYHkqssn"
      },
      "source": [
        "As expected, since there is a 'backward fill' method, there must be a 'forward fill' method, or 'ffill' in short. However we can't use it here because the NaN is the first value.\n",
        "\n",
        "We can also simply remove NaN values by .dropna()"
      ]
    },
    {
      "cell_type": "code",
      "metadata": {
        "colab": {
          "base_uri": "https://localhost:8080/"
        },
        "id": "77OuP9E6qqTm",
        "outputId": "a56800f4-38fb-46da-f723-371cecf7022f"
      },
      "source": [
        "daily_return = last_day.pct_change().dropna()\n",
        "print (daily_return)"
      ],
      "execution_count": 17,
      "outputs": [
        {
          "output_type": "stream",
          "text": [
            "Date\n",
            "2020-02-29   -0.062214\n",
            "2020-03-31    0.035021\n",
            "2020-04-30    0.268900\n",
            "2020-05-31   -0.012785\n",
            "2020-06-30    0.129567\n",
            "2020-07-31    0.147114\n",
            "2020-08-31    0.090461\n",
            "2020-09-30   -0.087579\n",
            "2020-10-31   -0.035754\n",
            "2020-11-30    0.043440\n",
            "2020-12-31    0.028058\n",
            "Freq: M, Name: Adj Close, dtype: float64\n"
          ],
          "name": "stdout"
        }
      ]
    },
    {
      "cell_type": "markdown",
      "metadata": {
        "id": "2oqyuakRq0Q1"
      },
      "source": [
        "# DataFrame\n",
        "The DataFrame is the most commonly used data structure in Pandas. It is essentially a table, just like an Excel spreadsheet.\n",
        "\n",
        "More precisely, a DataFrame is a collection of Series objects, each of which may contain different data types. A DataFrame can be created from various data types: dictionary, 2-D numpy.ndarray, a Series or another DataFrame.\n",
        "\n",
        "### Create DataFrames\n",
        "The most common method of creating a DataFrame is passing a dictionary:"
      ]
    },
    {
      "cell_type": "code",
      "metadata": {
        "colab": {
          "base_uri": "https://localhost:8080/"
        },
        "id": "SB4R-NBhqxUG",
        "outputId": "bc349846-d0fd-455a-b75f-f4fa732b9bb6"
      },
      "source": [
        "dict = {'AMZN': [153.9,  154.29, 152.93, 154.58, 153.17],\n",
        "        'NVDA': [355.7,  352.12, 356.15, 351.15, 352.39],\n",
        "        'AMD':  [185.58, 183.97, 182.3, 182.14, 183.79]}\n",
        "dates = pd.date_range('2020-07-03', periods = 5, freq = 'D')\n",
        "df = pd.DataFrame(dict, index = dates)\n",
        "print (df)"
      ],
      "execution_count": 18,
      "outputs": [
        {
          "output_type": "stream",
          "text": [
            "              AMZN    NVDA     AMD\n",
            "2020-07-03  153.90  355.70  185.58\n",
            "2020-07-04  154.29  352.12  183.97\n",
            "2020-07-05  152.93  356.15  182.30\n",
            "2020-07-06  154.58  351.15  182.14\n",
            "2020-07-07  153.17  352.39  183.79\n"
          ],
          "name": "stdout"
        }
      ]
    },
    {
      "cell_type": "markdown",
      "metadata": {
        "id": "XS4cmBdksGO0"
      },
      "source": [
        "### Manipulating DataFrames\n",
        "We can fetch values in a DataFrame by columns and index. Each column in a DataFrame is essentially a Pandas Series. We can fetch a column by square brackets: df['column_name']\n",
        "\n",
        "If a column name contains no spaces, then we can also use df.column_name to fetch a column:\n",
        "\n"
      ]
    },
    {
      "cell_type": "code",
      "metadata": {
        "colab": {
          "base_uri": "https://localhost:8080/"
        },
        "id": "KJYgl6BMr4xY",
        "outputId": "4fcaf9b7-c5fe-4d15-c3df-2e432fba24b1"
      },
      "source": [
        "df = amzn_table\n",
        "print (df.Close.tail(5), '\\n')\n",
        "print (df['Volume'].tail(5))"
      ],
      "execution_count": 19,
      "outputs": [
        {
          "output_type": "stream",
          "text": [
            "Date\n",
            "2021-03-30    3055.290039\n",
            "2021-03-31    3094.080078\n",
            "2021-04-01    3161.000000\n",
            "2021-04-05    3226.729980\n",
            "2021-04-06    3223.820068\n",
            "Name: Close, dtype: float64 \n",
            "\n",
            "Date\n",
            "2021-03-30    2337600\n",
            "2021-03-31    3093900\n",
            "2021-04-01    2940300\n",
            "2021-04-05    3334900\n",
            "2021-04-06    2507400\n",
            "Name: Volume, dtype: int64\n"
          ],
          "name": "stdout"
        }
      ]
    },
    {
      "cell_type": "markdown",
      "metadata": {
        "id": "po1b55HJsnmW"
      },
      "source": [
        "All the methods we applied to a Series index such as iloc[], loc[] and resampling methods, can also be applied to a DataFrame:\n",
        "\n"
      ]
    },
    {
      "cell_type": "code",
      "metadata": {
        "colab": {
          "base_uri": "https://localhost:8080/"
        },
        "id": "4QyxLtV5sRj8",
        "outputId": "f5508775-b42d-4361-9d41-dcd8d7a39934"
      },
      "source": [
        "amzn_2020 = df['2020']\n",
        "amzn_month = amzn_2020.resample('M').agg(lambda x: x[-1])\n",
        "print (amzn_month)"
      ],
      "execution_count": 20,
      "outputs": [
        {
          "output_type": "stream",
          "text": [
            "                   High          Low  ...    Volume    Adj Close\n",
            "Date                                  ...                       \n",
            "2020-01-31  2055.719971  2002.270020  ...  15567300  2008.719971\n",
            "2020-02-29  1889.760010  1811.130005  ...   9493800  1883.750000\n",
            "2020-03-31  1993.020020  1944.010010  ...   5123600  1949.719971\n",
            "2020-04-30  2475.000000  2396.010010  ...   9534600  2474.000000\n",
            "2020-05-31  2442.370117  2398.199951  ...   3529300  2442.370117\n",
            "2020-06-30  2769.629883  2675.030029  ...   3769700  2758.820068\n",
            "2020-07-31  3246.820068  3151.000000  ...   8085500  3164.679932\n",
            "2020-08-31  3495.000000  3405.000000  ...   4185900  3450.959961\n",
            "2020-09-30  3212.879883  3133.989990  ...   4896100  3148.729980\n",
            "2020-10-31  3167.000000  3019.000000  ...   8386400  3036.149902\n",
            "2020-11-30  3228.389893  3125.550049  ...   4063900  3168.040039\n",
            "2020-12-31  3282.919922  3241.199951  ...   2957200  3256.929932\n",
            "\n",
            "[12 rows x 6 columns]\n"
          ],
          "name": "stdout"
        }
      ]
    },
    {
      "cell_type": "markdown",
      "metadata": {
        "id": "SuoT2ClttAP8"
      },
      "source": [
        "We may select certain columns of a DataFrame using their names:"
      ]
    },
    {
      "cell_type": "code",
      "metadata": {
        "colab": {
          "base_uri": "https://localhost:8080/"
        },
        "id": "Dj7fjjccs22e",
        "outputId": "1261579d-04e3-4b02-a8b3-2ea2caab7edf"
      },
      "source": [
        "amzn_bar = amzn_month[['Open', 'High', 'Low', 'Close']]\n",
        "print (amzn_bar)"
      ],
      "execution_count": 21,
      "outputs": [
        {
          "output_type": "stream",
          "text": [
            "                   Open         High          Low        Close\n",
            "Date                                                          \n",
            "2020-01-31  2051.469971  2055.719971  2002.270020  2008.719971\n",
            "2020-02-29  1814.630005  1889.760010  1811.130005  1883.750000\n",
            "2020-03-31  1964.349976  1993.020020  1944.010010  1949.719971\n",
            "2020-04-30  2419.840088  2475.000000  2396.010010  2474.000000\n",
            "2020-05-31  2415.939941  2442.370117  2398.199951  2442.370117\n",
            "2020-06-30  2685.070068  2769.629883  2675.030029  2758.820068\n",
            "2020-07-31  3244.000000  3246.820068  3151.000000  3164.679932\n",
            "2020-08-31  3408.989990  3495.000000  3405.000000  3450.959961\n",
            "2020-09-30  3141.139893  3212.879883  3133.989990  3148.729980\n",
            "2020-10-31  3157.750000  3167.000000  3019.000000  3036.149902\n",
            "2020-11-30  3208.479980  3228.389893  3125.550049  3168.040039\n",
            "2020-12-31  3275.000000  3282.919922  3241.199951  3256.929932\n"
          ],
          "name": "stdout"
        }
      ]
    },
    {
      "cell_type": "markdown",
      "metadata": {
        "id": "K6LHckZwtW8l"
      },
      "source": [
        "We can even specify both rows and columns using loc[]. The row indices and column names are separated by a comma:"
      ]
    },
    {
      "cell_type": "code",
      "metadata": {
        "colab": {
          "base_uri": "https://localhost:8080/"
        },
        "id": "PfxwAm6btJvN",
        "outputId": "a168947d-2cb5-469c-8c18-f34ab6c02a8e"
      },
      "source": [
        "print( amzn_month.loc['2020-03':'2020-06', ['Open', 'High', 'Low', 'Close']])"
      ],
      "execution_count": 22,
      "outputs": [
        {
          "output_type": "stream",
          "text": [
            "                   Open         High          Low        Close\n",
            "Date                                                          \n",
            "2020-03-31  1964.349976  1993.020020  1944.010010  1949.719971\n",
            "2020-04-30  2419.840088  2475.000000  2396.010010  2474.000000\n",
            "2020-05-31  2415.939941  2442.370117  2398.199951  2442.370117\n",
            "2020-06-30  2685.070068  2769.629883  2675.030029  2758.820068\n"
          ],
          "name": "stdout"
        }
      ]
    },
    {
      "cell_type": "markdown",
      "metadata": {
        "id": "cYvJOauitzdY"
      },
      "source": [
        "The subset methods in DataFrame is quite useful. By writing logical statements in square brackets, we can make customized subsets:\n",
        "\n"
      ]
    },
    {
      "cell_type": "code",
      "metadata": {
        "colab": {
          "base_uri": "https://localhost:8080/"
        },
        "id": "W3mWwIhVtoyn",
        "outputId": "ab849ec2-07d5-485f-b4c4-fb58c21971d1"
      },
      "source": [
        "above = amzn_bar[amzn_bar.Close > np.mean(amzn_bar.Close)]\n",
        "print(above)\n"
      ],
      "execution_count": 23,
      "outputs": [
        {
          "output_type": "stream",
          "text": [
            "                   Open         High          Low        Close\n",
            "Date                                                          \n",
            "2020-06-30  2685.070068  2769.629883  2675.030029  2758.820068\n",
            "2020-07-31  3244.000000  3246.820068  3151.000000  3164.679932\n",
            "2020-08-31  3408.989990  3495.000000  3405.000000  3450.959961\n",
            "2020-09-30  3141.139893  3212.879883  3133.989990  3148.729980\n",
            "2020-10-31  3157.750000  3167.000000  3019.000000  3036.149902\n",
            "2020-11-30  3208.479980  3228.389893  3125.550049  3168.040039\n",
            "2020-12-31  3275.000000  3282.919922  3241.199951  3256.929932\n"
          ],
          "name": "stdout"
        }
      ]
    },
    {
      "cell_type": "markdown",
      "metadata": {
        "id": "cC3Izm08uHpz"
      },
      "source": [
        "### Data Validation\n",
        "As mentioned, all methods that apply to a Series can also be applied to a DataFrame. Here we add a new column to an existing DataFrame:"
      ]
    },
    {
      "cell_type": "code",
      "metadata": {
        "colab": {
          "base_uri": "https://localhost:8080/"
        },
        "id": "HvTh8CPgt78j",
        "outputId": "49b21db5-9d95-4671-c2e2-b75fcbe3722c"
      },
      "source": [
        "amzn_bar['rate_return'] = amzn_bar.Close.pct_change()\n",
        "print (amzn_bar)"
      ],
      "execution_count": 24,
      "outputs": [
        {
          "output_type": "stream",
          "text": [
            "                   Open         High          Low        Close  rate_return\n",
            "Date                                                                       \n",
            "2020-01-31  2051.469971  2055.719971  2002.270020  2008.719971          NaN\n",
            "2020-02-29  1814.630005  1889.760010  1811.130005  1883.750000    -0.062214\n",
            "2020-03-31  1964.349976  1993.020020  1944.010010  1949.719971     0.035021\n",
            "2020-04-30  2419.840088  2475.000000  2396.010010  2474.000000     0.268900\n",
            "2020-05-31  2415.939941  2442.370117  2398.199951  2442.370117    -0.012785\n",
            "2020-06-30  2685.070068  2769.629883  2675.030029  2758.820068     0.129567\n",
            "2020-07-31  3244.000000  3246.820068  3151.000000  3164.679932     0.147114\n",
            "2020-08-31  3408.989990  3495.000000  3405.000000  3450.959961     0.090461\n",
            "2020-09-30  3141.139893  3212.879883  3133.989990  3148.729980    -0.087579\n",
            "2020-10-31  3157.750000  3167.000000  3019.000000  3036.149902    -0.035754\n",
            "2020-11-30  3208.479980  3228.389893  3125.550049  3168.040039     0.043440\n",
            "2020-12-31  3275.000000  3282.919922  3241.199951  3256.929932     0.028058\n"
          ],
          "name": "stdout"
        },
        {
          "output_type": "stream",
          "text": [
            "/usr/local/lib/python3.7/dist-packages/ipykernel_launcher.py:1: SettingWithCopyWarning: \n",
            "A value is trying to be set on a copy of a slice from a DataFrame.\n",
            "Try using .loc[row_indexer,col_indexer] = value instead\n",
            "\n",
            "See the caveats in the documentation: https://pandas.pydata.org/pandas-docs/stable/user_guide/indexing.html#returning-a-view-versus-a-copy\n",
            "  \"\"\"Entry point for launching an IPython kernel.\n"
          ],
          "name": "stderr"
        }
      ]
    },
    {
      "cell_type": "markdown",
      "metadata": {
        "id": "oHzUBB81uWEN"
      },
      "source": [
        "Here the calculation introduced a NaN value. If the DataFrame is large, we would not be able to observe it. isnull() provides a convenient way to check abnormal values."
      ]
    },
    {
      "cell_type": "code",
      "metadata": {
        "colab": {
          "base_uri": "https://localhost:8080/"
        },
        "id": "cpjNvqSLuSjQ",
        "outputId": "438a1dfd-45ad-4c68-cc5c-fd8e815bf8b4"
      },
      "source": [
        "missing = amzn_bar.isnull()\n",
        "print (missing)\n",
        "print ('---------------------------------------------')\n",
        "print (missing.describe())"
      ],
      "execution_count": 25,
      "outputs": [
        {
          "output_type": "stream",
          "text": [
            "             Open   High    Low  Close  rate_return\n",
            "Date                                               \n",
            "2020-01-31  False  False  False  False         True\n",
            "2020-02-29  False  False  False  False        False\n",
            "2020-03-31  False  False  False  False        False\n",
            "2020-04-30  False  False  False  False        False\n",
            "2020-05-31  False  False  False  False        False\n",
            "2020-06-30  False  False  False  False        False\n",
            "2020-07-31  False  False  False  False        False\n",
            "2020-08-31  False  False  False  False        False\n",
            "2020-09-30  False  False  False  False        False\n",
            "2020-10-31  False  False  False  False        False\n",
            "2020-11-30  False  False  False  False        False\n",
            "2020-12-31  False  False  False  False        False\n",
            "---------------------------------------------\n",
            "         Open   High    Low  Close rate_return\n",
            "count      12     12     12     12          12\n",
            "unique      1      1      1      1           2\n",
            "top     False  False  False  False       False\n",
            "freq       12     12     12     12          11\n"
          ],
          "name": "stdout"
        }
      ]
    },
    {
      "cell_type": "markdown",
      "metadata": {
        "id": "P9Fpb1bguhWj"
      },
      "source": [
        "The row labelled \"unique\" indicates the number of unique values in each column. Since the \"rate_return\" column has 2 unique values, it has at least one missing value.\n",
        "\n",
        "We can deduce the number of missing values by comparing \"count\" with \"freq\". There are 12 counts and 11 False values, so there is one True value which corresponds to the missing value.\n",
        "\n",
        "We can also find the rows with missing values easily:"
      ]
    },
    {
      "cell_type": "code",
      "metadata": {
        "colab": {
          "base_uri": "https://localhost:8080/"
        },
        "id": "oueeBp-7ueiP",
        "outputId": "679c37ab-a9de-49b2-d0f3-09c936b07bd0"
      },
      "source": [
        "print (missing[missing.rate_return == True])"
      ],
      "execution_count": 26,
      "outputs": [
        {
          "output_type": "stream",
          "text": [
            "             Open   High    Low  Close  rate_return\n",
            "Date                                               \n",
            "2020-01-31  False  False  False  False         True\n"
          ],
          "name": "stdout"
        }
      ]
    },
    {
      "cell_type": "markdown",
      "metadata": {
        "id": "zEs_4kfOuntw"
      },
      "source": [
        "Usually when dealing with missing data, we either delete the whole row or fill it with some value. As we introduced in the Series chapter, the same method dropna() and fillna() can be applied to a DataFrame.\n",
        "\n"
      ]
    },
    {
      "cell_type": "code",
      "metadata": {
        "colab": {
          "base_uri": "https://localhost:8080/"
        },
        "id": "muW7zMweulJO",
        "outputId": "d1fecfa7-2a8e-4190-bb49-a44c284f8251"
      },
      "source": [
        "drop = amzn_bar.dropna()\n",
        "print (drop)\n",
        "print ('\\n--------------------------------------------------\\n')\n",
        "fill = amzn_bar.fillna(0)\n",
        "print (fill)\n"
      ],
      "execution_count": 27,
      "outputs": [
        {
          "output_type": "stream",
          "text": [
            "                   Open         High          Low        Close  rate_return\n",
            "Date                                                                       \n",
            "2020-02-29  1814.630005  1889.760010  1811.130005  1883.750000    -0.062214\n",
            "2020-03-31  1964.349976  1993.020020  1944.010010  1949.719971     0.035021\n",
            "2020-04-30  2419.840088  2475.000000  2396.010010  2474.000000     0.268900\n",
            "2020-05-31  2415.939941  2442.370117  2398.199951  2442.370117    -0.012785\n",
            "2020-06-30  2685.070068  2769.629883  2675.030029  2758.820068     0.129567\n",
            "2020-07-31  3244.000000  3246.820068  3151.000000  3164.679932     0.147114\n",
            "2020-08-31  3408.989990  3495.000000  3405.000000  3450.959961     0.090461\n",
            "2020-09-30  3141.139893  3212.879883  3133.989990  3148.729980    -0.087579\n",
            "2020-10-31  3157.750000  3167.000000  3019.000000  3036.149902    -0.035754\n",
            "2020-11-30  3208.479980  3228.389893  3125.550049  3168.040039     0.043440\n",
            "2020-12-31  3275.000000  3282.919922  3241.199951  3256.929932     0.028058\n",
            "\n",
            "--------------------------------------------------\n",
            "\n",
            "                   Open         High          Low        Close  rate_return\n",
            "Date                                                                       \n",
            "2020-01-31  2051.469971  2055.719971  2002.270020  2008.719971     0.000000\n",
            "2020-02-29  1814.630005  1889.760010  1811.130005  1883.750000    -0.062214\n",
            "2020-03-31  1964.349976  1993.020020  1944.010010  1949.719971     0.035021\n",
            "2020-04-30  2419.840088  2475.000000  2396.010010  2474.000000     0.268900\n",
            "2020-05-31  2415.939941  2442.370117  2398.199951  2442.370117    -0.012785\n",
            "2020-06-30  2685.070068  2769.629883  2675.030029  2758.820068     0.129567\n",
            "2020-07-31  3244.000000  3246.820068  3151.000000  3164.679932     0.147114\n",
            "2020-08-31  3408.989990  3495.000000  3405.000000  3450.959961     0.090461\n",
            "2020-09-30  3141.139893  3212.879883  3133.989990  3148.729980    -0.087579\n",
            "2020-10-31  3157.750000  3167.000000  3019.000000  3036.149902    -0.035754\n",
            "2020-11-30  3208.479980  3228.389893  3125.550049  3168.040039     0.043440\n",
            "2020-12-31  3275.000000  3282.919922  3241.199951  3256.929932     0.028058\n"
          ],
          "name": "stdout"
        }
      ]
    },
    {
      "cell_type": "markdown",
      "metadata": {
        "id": "eidKdI2uu30u"
      },
      "source": [
        "### DataFrame Concat\n",
        "We have seen how to extract a Series from a dataFrame. Now we need to consider how to merge a Series or a DataFrame into another one.\n",
        "\n",
        "In Pandas, the function concat() allows us to merge multiple Series into a DataFrame:"
      ]
    },
    {
      "cell_type": "code",
      "metadata": {
        "colab": {
          "base_uri": "https://localhost:8080/"
        },
        "id": "3umqn9xDu0B7",
        "outputId": "adec8fe6-5d9a-42f5-fb5b-3fa0dc8b02b2"
      },
      "source": [
        "s1 = pd.Series([153.9,  154.29, 152.93, 154.58, 153.17], name = 'AMZN')\n",
        "s2 = pd.Series([355.7,  352.12, 356.15, 351.15, 352.39], name = 'NVDA')\n",
        "data_frame = pd.concat([s1, s2], axis = 1)\n",
        "print (data_frame)"
      ],
      "execution_count": 28,
      "outputs": [
        {
          "output_type": "stream",
          "text": [
            "     AMZN    NVDA\n",
            "0  153.90  355.70\n",
            "1  154.29  352.12\n",
            "2  152.93  356.15\n",
            "3  154.58  351.15\n",
            "4  153.17  352.39\n"
          ],
          "name": "stdout"
        }
      ]
    },
    {
      "cell_type": "markdown",
      "metadata": {
        "id": "zor0ogy6vblM"
      },
      "source": [
        "The \"axis = 1\" parameter will join two DataFrames by columns:"
      ]
    },
    {
      "cell_type": "code",
      "metadata": {
        "colab": {
          "base_uri": "https://localhost:8080/"
        },
        "id": "aS1P1JwovXO1",
        "outputId": "1620fcc7-1bbc-482a-ff16-fcde7d765400"
      },
      "source": [
        "log_price = np.log(amzn_bar.Close)\n",
        "log_price.name = 'log_price'\n",
        "print (log_price)\n",
        "print ('\\n--------------------------------------------\\n')\n",
        "concat = pd.concat([amzn_bar, log_price], axis = 1)\n",
        "print (concat)"
      ],
      "execution_count": 29,
      "outputs": [
        {
          "output_type": "stream",
          "text": [
            "Date\n",
            "2020-01-31    7.605253\n",
            "2020-02-29    7.541020\n",
            "2020-03-31    7.575441\n",
            "2020-04-30    7.813592\n",
            "2020-05-31    7.800724\n",
            "2020-06-30    7.922558\n",
            "2020-07-31    8.059807\n",
            "2020-08-31    8.146408\n",
            "2020-09-30    8.054754\n",
            "2020-10-31    8.018346\n",
            "2020-11-30    8.060868\n",
            "2020-12-31    8.088540\n",
            "Freq: M, Name: log_price, dtype: float64\n",
            "\n",
            "--------------------------------------------\n",
            "\n",
            "                   Open         High  ...  rate_return  log_price\n",
            "Date                                  ...                        \n",
            "2020-01-31  2051.469971  2055.719971  ...          NaN   7.605253\n",
            "2020-02-29  1814.630005  1889.760010  ...    -0.062214   7.541020\n",
            "2020-03-31  1964.349976  1993.020020  ...     0.035021   7.575441\n",
            "2020-04-30  2419.840088  2475.000000  ...     0.268900   7.813592\n",
            "2020-05-31  2415.939941  2442.370117  ...    -0.012785   7.800724\n",
            "2020-06-30  2685.070068  2769.629883  ...     0.129567   7.922558\n",
            "2020-07-31  3244.000000  3246.820068  ...     0.147114   8.059807\n",
            "2020-08-31  3408.989990  3495.000000  ...     0.090461   8.146408\n",
            "2020-09-30  3141.139893  3212.879883  ...    -0.087579   8.054754\n",
            "2020-10-31  3157.750000  3167.000000  ...    -0.035754   8.018346\n",
            "2020-11-30  3208.479980  3228.389893  ...     0.043440   8.060868\n",
            "2020-12-31  3275.000000  3282.919922  ...     0.028058   8.088540\n",
            "\n",
            "[12 rows x 6 columns]\n"
          ],
          "name": "stdout"
        }
      ]
    },
    {
      "cell_type": "markdown",
      "metadata": {
        "id": "RZz_kVa4vth7"
      },
      "source": [
        "We can also join two DataFrames by rows. Consider these two DataFrames:"
      ]
    },
    {
      "cell_type": "code",
      "metadata": {
        "colab": {
          "base_uri": "https://localhost:8080/"
        },
        "id": "8XilF4S9vmQd",
        "outputId": "a4f91f0c-fc26-43a3-ef4d-dbcf951a1c25"
      },
      "source": [
        "df_volume = amzn_table.loc['2020-10':'2020-04', ['Volume']].resample('M').agg(lambda x: x[-1])\n",
        "print (df_volume)\n",
        "print ('\\n-------------------------------------------\\n')\n",
        "df_2020 = amzn_table.loc['2020-10':'2020-04', ['Open', 'High', 'Low', 'Close']].resample('M').agg(lambda x: x[-1])\n",
        "print (df_2020)"
      ],
      "execution_count": 30,
      "outputs": [
        {
          "output_type": "stream",
          "text": [
            "Empty DataFrame\n",
            "Columns: [Volume]\n",
            "Index: []\n",
            "\n",
            "-------------------------------------------\n",
            "\n",
            "Empty DataFrame\n",
            "Columns: [Open, High, Low, Close]\n",
            "Index: []\n"
          ],
          "name": "stdout"
        }
      ]
    },
    {
      "cell_type": "markdown",
      "metadata": {
        "id": "NDG6DSrUxmMz"
      },
      "source": [
        "Now we merge the DataFrames with our DataFrame 'aapl_bar'"
      ]
    },
    {
      "cell_type": "code",
      "metadata": {
        "colab": {
          "base_uri": "https://localhost:8080/"
        },
        "id": "iH5jM-5cwEB9",
        "outputId": "740c2b6d-9f6f-4786-919f-4a6738c3b9fe"
      },
      "source": [
        "concat = pd.concat([amzn_bar, df_volume], axis = 1)\n",
        "print(concat)"
      ],
      "execution_count": 31,
      "outputs": [
        {
          "output_type": "stream",
          "text": [
            "                   Open         High  ...  rate_return  Volume\n",
            "Date                                  ...                     \n",
            "2020-01-31  2051.469971  2055.719971  ...          NaN     NaN\n",
            "2020-02-29  1814.630005  1889.760010  ...    -0.062214     NaN\n",
            "2020-03-31  1964.349976  1993.020020  ...     0.035021     NaN\n",
            "2020-04-30  2419.840088  2475.000000  ...     0.268900     NaN\n",
            "2020-05-31  2415.939941  2442.370117  ...    -0.012785     NaN\n",
            "2020-06-30  2685.070068  2769.629883  ...     0.129567     NaN\n",
            "2020-07-31  3244.000000  3246.820068  ...     0.147114     NaN\n",
            "2020-08-31  3408.989990  3495.000000  ...     0.090461     NaN\n",
            "2020-09-30  3141.139893  3212.879883  ...    -0.087579     NaN\n",
            "2020-10-31  3157.750000  3167.000000  ...    -0.035754     NaN\n",
            "2020-11-30  3208.479980  3228.389893  ...     0.043440     NaN\n",
            "2020-12-31  3275.000000  3282.919922  ...     0.028058     NaN\n",
            "\n",
            "[12 rows x 6 columns]\n"
          ],
          "name": "stdout"
        }
      ]
    },
    {
      "cell_type": "markdown",
      "metadata": {
        "id": "RC2TGWSjxwnY"
      },
      "source": [
        "By default the DataFrame are joined with all of the data. This default options results in zero information loss. We can also merge them by intersection, this is called 'inner join':\n",
        "\n"
      ]
    },
    {
      "cell_type": "code",
      "metadata": {
        "colab": {
          "base_uri": "https://localhost:8080/"
        },
        "id": "I5VAzImwxs75",
        "outputId": "d0c90e83-6d69-4209-f287-a3fd598f2423"
      },
      "source": [
        "concat = pd.concat([amzn_bar, df_volume], axis = 1, join = 'inner')\n",
        "print (concat)"
      ],
      "execution_count": 32,
      "outputs": [
        {
          "output_type": "stream",
          "text": [
            "Empty DataFrame\n",
            "Columns: [Open, High, Low, Close, rate_return, Volume]\n",
            "Index: []\n"
          ],
          "name": "stdout"
        }
      ]
    },
    {
      "cell_type": "markdown",
      "metadata": {
        "id": "FttYgmTgx_FK"
      },
      "source": [
        "Only the intersection part was left if use 'inner join' method. Now let's try to append a DataFrame to another one:\n",
        "\n"
      ]
    },
    {
      "cell_type": "code",
      "metadata": {
        "colab": {
          "base_uri": "https://localhost:8080/"
        },
        "id": "uJNoaxP0x1eo",
        "outputId": "4633d3db-dd9d-4dbe-faea-2dd655b631bc"
      },
      "source": [
        "append = amzn_bar.append(df_2020)\n",
        "print (append)"
      ],
      "execution_count": 33,
      "outputs": [
        {
          "output_type": "stream",
          "text": [
            "                   Open         High          Low        Close  rate_return\n",
            "Date                                                                       \n",
            "2020-01-31  2051.469971  2055.719971  2002.270020  2008.719971          NaN\n",
            "2020-02-29  1814.630005  1889.760010  1811.130005  1883.750000    -0.062214\n",
            "2020-03-31  1964.349976  1993.020020  1944.010010  1949.719971     0.035021\n",
            "2020-04-30  2419.840088  2475.000000  2396.010010  2474.000000     0.268900\n",
            "2020-05-31  2415.939941  2442.370117  2398.199951  2442.370117    -0.012785\n",
            "2020-06-30  2685.070068  2769.629883  2675.030029  2758.820068     0.129567\n",
            "2020-07-31  3244.000000  3246.820068  3151.000000  3164.679932     0.147114\n",
            "2020-08-31  3408.989990  3495.000000  3405.000000  3450.959961     0.090461\n",
            "2020-09-30  3141.139893  3212.879883  3133.989990  3148.729980    -0.087579\n",
            "2020-10-31  3157.750000  3167.000000  3019.000000  3036.149902    -0.035754\n",
            "2020-11-30  3208.479980  3228.389893  3125.550049  3168.040039     0.043440\n",
            "2020-12-31  3275.000000  3282.919922  3241.199951  3256.929932     0.028058\n"
          ],
          "name": "stdout"
        }
      ]
    },
    {
      "cell_type": "markdown",
      "metadata": {
        "id": "CawcoX_oyIZl"
      },
      "source": [
        "'Append' is essentially to concat two DataFrames by axis = 0, thus here is an alternative way to append:\n",
        "\n"
      ]
    },
    {
      "cell_type": "code",
      "metadata": {
        "colab": {
          "base_uri": "https://localhost:8080/"
        },
        "id": "uKDWk4hRyFAZ",
        "outputId": "4b203bbb-3e27-4b5b-f231-3115c3d5ab84"
      },
      "source": [
        "concat = pd.concat([amzn_bar, df_2020], axis = 0)\n",
        "print (concat)"
      ],
      "execution_count": 34,
      "outputs": [
        {
          "output_type": "stream",
          "text": [
            "                   Open         High          Low        Close  rate_return\n",
            "Date                                                                       \n",
            "2020-01-31  2051.469971  2055.719971  2002.270020  2008.719971          NaN\n",
            "2020-02-29  1814.630005  1889.760010  1811.130005  1883.750000    -0.062214\n",
            "2020-03-31  1964.349976  1993.020020  1944.010010  1949.719971     0.035021\n",
            "2020-04-30  2419.840088  2475.000000  2396.010010  2474.000000     0.268900\n",
            "2020-05-31  2415.939941  2442.370117  2398.199951  2442.370117    -0.012785\n",
            "2020-06-30  2685.070068  2769.629883  2675.030029  2758.820068     0.129567\n",
            "2020-07-31  3244.000000  3246.820068  3151.000000  3164.679932     0.147114\n",
            "2020-08-31  3408.989990  3495.000000  3405.000000  3450.959961     0.090461\n",
            "2020-09-30  3141.139893  3212.879883  3133.989990  3148.729980    -0.087579\n",
            "2020-10-31  3157.750000  3167.000000  3019.000000  3036.149902    -0.035754\n",
            "2020-11-30  3208.479980  3228.389893  3125.550049  3168.040039     0.043440\n",
            "2020-12-31  3275.000000  3282.919922  3241.199951  3256.929932     0.028058\n"
          ],
          "name": "stdout"
        }
      ]
    },
    {
      "cell_type": "markdown",
      "metadata": {
        "id": "QTMQpJ1FyR--"
      },
      "source": [
        "Please note that if the two DataFrame have some columns with the same column names, these columns are considered to be the same and will be merged. It's very important to have the right column names. If we change a column names here:"
      ]
    },
    {
      "cell_type": "code",
      "metadata": {
        "colab": {
          "base_uri": "https://localhost:8080/"
        },
        "id": "ZEqnHS1FyNS8",
        "outputId": "0712e5e8-b8f7-4099-fbf4-7573a9f1a0dc"
      },
      "source": [
        "df_2020.columns = ['Change', 'High', 'Low', 'Close']\n",
        "concat = pd.concat([amzn_bar, df_2020], axis = 0)\n",
        "print (concat)\n"
      ],
      "execution_count": 35,
      "outputs": [
        {
          "output_type": "stream",
          "text": [
            "                   Open         High  ...  rate_return  Change\n",
            "Date                                  ...                     \n",
            "2020-01-31  2051.469971  2055.719971  ...          NaN     NaN\n",
            "2020-02-29  1814.630005  1889.760010  ...    -0.062214     NaN\n",
            "2020-03-31  1964.349976  1993.020020  ...     0.035021     NaN\n",
            "2020-04-30  2419.840088  2475.000000  ...     0.268900     NaN\n",
            "2020-05-31  2415.939941  2442.370117  ...    -0.012785     NaN\n",
            "2020-06-30  2685.070068  2769.629883  ...     0.129567     NaN\n",
            "2020-07-31  3244.000000  3246.820068  ...     0.147114     NaN\n",
            "2020-08-31  3408.989990  3495.000000  ...     0.090461     NaN\n",
            "2020-09-30  3141.139893  3212.879883  ...    -0.087579     NaN\n",
            "2020-10-31  3157.750000  3167.000000  ...    -0.035754     NaN\n",
            "2020-11-30  3208.479980  3228.389893  ...     0.043440     NaN\n",
            "2020-12-31  3275.000000  3282.919922  ...     0.028058     NaN\n",
            "\n",
            "[12 rows x 6 columns]\n"
          ],
          "name": "stdout"
        }
      ]
    },
    {
      "cell_type": "markdown",
      "metadata": {
        "id": "4E73mzkqycPK"
      },
      "source": [
        "Since the column name of 'Open' has been changed, the new DataFrame has an new column named 'Change'."
      ]
    },
    {
      "cell_type": "markdown",
      "metadata": {
        "id": "6PIgcf92ye7_"
      },
      "source": [
        "# Summary\n",
        "Hereby we introduced the most import part of python: resampling and DataFrame manipulation. We only introduced the most commonly used method in Financial data analysis. There are also many methods used in data mining, which are also beneficial. You can always check the Pandas official documentations for help."
      ]
    }
  ]
}