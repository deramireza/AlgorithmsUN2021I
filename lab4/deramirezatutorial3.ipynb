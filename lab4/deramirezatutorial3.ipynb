{
  "nbformat": 4,
  "nbformat_minor": 0,
  "metadata": {
    "colab": {
      "name": "deramirezatutorial3.ipynb",
      "provenance": [],
      "collapsed_sections": [
        "2t7Ca3dBsN4u"
      ],
      "include_colab_link": true
    },
    "kernelspec": {
      "name": "python3",
      "display_name": "Python 3"
    },
    "language_info": {
      "name": "python"
    }
  },
  "cells": [
    {
      "cell_type": "markdown",
      "metadata": {
        "id": "view-in-github",
        "colab_type": "text"
      },
      "source": [
        "<a href=\"https://colab.research.google.com/github/deramireza/AlgorithmsUN2021I/blob/main/lab4/deramirezatutorial3.ipynb\" target=\"_parent\"><img src=\"https://colab.research.google.com/assets/colab-badge.svg\" alt=\"Open In Colab\"/></a>"
      ]
    },
    {
      "cell_type": "markdown",
      "metadata": {
        "id": "2t7Ca3dBsN4u"
      },
      "source": [
        "# Functions\n",
        "A function is a reusable block of code. We can use a function to output a value, or do anything else we want. We can easily define our own function by using the keyword  $def$"
      ]
    },
    {
      "cell_type": "code",
      "metadata": {
        "colab": {
          "base_uri": "https://localhost:8080/"
        },
        "id": "_wNMTdFY8wf_",
        "outputId": "c4dd518f-05f8-4f19-85f4-b08766ed381f"
      },
      "source": [
        "#GET DATE TIME\n",
        "import datetime\n",
        "def nowdata():\n",
        "  now = datetime.datetime.now()\n",
        "  format = now.strftime('Día :%d, Mes: %m, Año: %Y')\n",
        "  print(format)\n",
        "nowdata()"
      ],
      "execution_count": 2,
      "outputs": [
        {
          "output_type": "stream",
          "text": [
            "Día :07, Mes: 04, Año: 2021\n"
          ],
          "name": "stdout"
        }
      ]
    },
    {
      "cell_type": "markdown",
      "metadata": {
        "id": "9inJAOl3s4iR"
      },
      "source": [
        "The keyword $def$ is followed by the function name and the parenthesized list of formal parameters. The statements that form the body of the function start at the next line, and must be indented. A function doesn't necessarily have parameters:"
      ]
    },
    {
      "cell_type": "code",
      "metadata": {
        "colab": {
          "base_uri": "https://localhost:8080/"
        },
        "id": "MMflP0ZF-Rrl",
        "outputId": "74edc31c-9fda-43bc-dcd8-c43a22939c18"
      },
      "source": [
        "def frase():\n",
        "  print(\"andate!!\")\n",
        "\n",
        "frase()"
      ],
      "execution_count": 4,
      "outputs": [
        {
          "output_type": "stream",
          "text": [
            "andate!!\n"
          ],
          "name": "stdout"
        }
      ]
    },
    {
      "cell_type": "markdown",
      "metadata": {
        "id": "PoJiqaUUszmC"
      },
      "source": [
        "# Built-in Function\n",
        "$range()$ is a function that creates a list containing an arithmetic sequence. It's often used in for loops. The arguments must be integers. If the \"step\" argument is omitted, it defaults to $1$."
      ]
    },
    {
      "cell_type": "code",
      "metadata": {
        "colab": {
          "base_uri": "https://localhost:8080/"
        },
        "id": "6RQhJB42_qGk",
        "outputId": "be6ce1e3-4ef0-4c01-a1af-7ae6e760a2c9"
      },
      "source": [
        "l1 = []\n",
        "for i in range(33):\n",
        "  l1.append(i)\n",
        "\n",
        "print(l1)\n",
        "\n"
      ],
      "execution_count": 6,
      "outputs": [
        {
          "output_type": "stream",
          "text": [
            "[0, 1, 2, 3, 4, 5, 6, 7, 8, 9, 10, 11, 12, 13, 14, 15, 16, 17, 18, 19, 20, 21, 22, 23, 24, 25, 26, 27, 28, 29, 30, 31, 32]\n"
          ],
          "name": "stdout"
        }
      ]
    },
    {
      "cell_type": "code",
      "metadata": {
        "colab": {
          "base_uri": "https://localhost:8080/"
        },
        "id": "ztsVcEd_rVTj",
        "outputId": "688a4023-406f-4cae-9a9c-765c8cb0008e"
      },
      "source": [
        "l2 = []\n",
        "for j in range(4,16):\n",
        "  l2.append(j)\n",
        "\n",
        "print(l2)"
      ],
      "execution_count": 7,
      "outputs": [
        {
          "output_type": "stream",
          "text": [
            "[4, 5, 6, 7, 8, 9, 10, 11, 12, 13, 14, 15]\n"
          ],
          "name": "stdout"
        }
      ]
    },
    {
      "cell_type": "code",
      "metadata": {
        "id": "itxcUt6a_3PC",
        "colab": {
          "base_uri": "https://localhost:8080/"
        },
        "outputId": "9c479438-7d58-47c5-d49f-2b4d82923b8c"
      },
      "source": [
        "l3 = []\n",
        "for k in range(1,30,3):\n",
        "  l3.append(k)\n",
        "\n",
        "print(l3)"
      ],
      "execution_count": 8,
      "outputs": [
        {
          "output_type": "stream",
          "text": [
            "[1, 4, 7, 10, 13, 16, 19, 22, 25, 28]\n"
          ],
          "name": "stdout"
        }
      ]
    },
    {
      "cell_type": "markdown",
      "metadata": {
        "id": "m1jQWhkdt-LB"
      },
      "source": [
        "$len()$ is another function used together with $range()$ to create a for loop. This function returns the length of an object. The argument must be a sequence or a collection."
      ]
    },
    {
      "cell_type": "code",
      "metadata": {
        "colab": {
          "base_uri": "https://localhost:8080/"
        },
        "id": "CqKfIPWZuBq6",
        "outputId": "5d116cdc-42b2-4859-fbe3-00002f81279e"
      },
      "source": [
        "tickers = ['AMZN', 'GOOGL', 'MSFT', 'EBAY', 'FB', 'TSLA', 'NVDA', 'INTC']\n",
        "print(\"The number of tickers is {}\".format(len(tickers)))\n",
        "for tc in range(len(tickers)):\n",
        "    print(tc + 1, tickers[tc])"
      ],
      "execution_count": 9,
      "outputs": [
        {
          "output_type": "stream",
          "text": [
            "The number of tickers is 8\n",
            "1 AMZN\n",
            "2 GOOGL\n",
            "3 MSFT\n",
            "4 EBAY\n",
            "5 FB\n",
            "6 TSLA\n",
            "7 NVDA\n",
            "8 INTC\n"
          ],
          "name": "stdout"
        }
      ]
    },
    {
      "cell_type": "markdown",
      "metadata": {
        "id": "JyqgOSO5vPqG"
      },
      "source": [
        "**Note:** If you want to print only the tickers without those numbers, then simply write\n",
        "\n",
        "**for** tc **in** tickers: **print**(ticker)"
      ]
    },
    {
      "cell_type": "markdown",
      "metadata": {
        "id": "KJZIt3NXwZ6T"
      },
      "source": [
        "$map()$ is a function that applies a specific function to every item of a sequence or collection, and returns a list of the results."
      ]
    },
    {
      "cell_type": "code",
      "metadata": {
        "colab": {
          "base_uri": "https://localhost:8080/"
        },
        "id": "iHShUomuu_zT",
        "outputId": "2dade6d5-8a41-40d2-d115-1fe6a67e8057"
      },
      "source": [
        "tickers = ['AMZN', 'GOOGL', 'MSFT', 'EBAY', 'FB', 'TSLA', 'NVDA', 'INTC']\n",
        "print(list(map(len,tickers)))"
      ],
      "execution_count": 10,
      "outputs": [
        {
          "output_type": "stream",
          "text": [
            "[4, 5, 4, 4, 2, 4, 4, 4]\n"
          ],
          "name": "stdout"
        }
      ]
    },
    {
      "cell_type": "markdown",
      "metadata": {
        "id": "y2XLMSK3wvVg"
      },
      "source": [
        "The **lambda operator** is a way to create small anonymous functions. These functions are just needed where they have been created. For example:"
      ]
    },
    {
      "cell_type": "code",
      "metadata": {
        "colab": {
          "base_uri": "https://localhost:8080/"
        },
        "id": "U_N3O794wzjC",
        "outputId": "175ffa11-4707-4507-bbba-4dfc6b650f6b"
      },
      "source": [
        "print(list(map(lambda x: x**3, range(15))))"
      ],
      "execution_count": 11,
      "outputs": [
        {
          "output_type": "stream",
          "text": [
            "[0, 1, 8, 27, 64, 125, 216, 343, 512, 729, 1000, 1331, 1728, 2197, 2744]\n"
          ],
          "name": "stdout"
        }
      ]
    },
    {
      "cell_type": "markdown",
      "metadata": {
        "id": "O9-TCcq50Dq2"
      },
      "source": [
        "$map()$ can be applied to more than one list. The lists have to have the same length."
      ]
    },
    {
      "cell_type": "code",
      "metadata": {
        "colab": {
          "base_uri": "https://localhost:8080/"
        },
        "id": "IEt6o3CCxDOZ",
        "outputId": "0fb277d6-a992-4668-8739-91df4bf9db63"
      },
      "source": [
        "print(list(map(lambda x, y: x*y, [1,2,3,4,5], [6,7,8,9,10])))"
      ],
      "execution_count": 12,
      "outputs": [
        {
          "output_type": "stream",
          "text": [
            "[6, 14, 24, 36, 50]\n"
          ],
          "name": "stdout"
        }
      ]
    },
    {
      "cell_type": "markdown",
      "metadata": {
        "id": "sL_Cad8G0mYn"
      },
      "source": [
        "$sorted()$ takes a list or set and returns a new sorted list:"
      ]
    },
    {
      "cell_type": "code",
      "metadata": {
        "colab": {
          "base_uri": "https://localhost:8080/"
        },
        "id": "UoVZ23tU0rBD",
        "outputId": "9e03a7a7-9cad-48e2-e323-a4c1faff6694"
      },
      "source": [
        "sorted([2,5,9,-7,-3,0,2,15])"
      ],
      "execution_count": 13,
      "outputs": [
        {
          "output_type": "execute_result",
          "data": {
            "text/plain": [
              "[-7, -3, 0, 2, 2, 5, 9, 15]"
            ]
          },
          "metadata": {
            "tags": []
          },
          "execution_count": 13
        }
      ]
    },
    {
      "cell_type": "markdown",
      "metadata": {
        "id": "_Tc_uUSv02T_"
      },
      "source": [
        "We can add a \"key\" parameter to specify a function to be called on each list element prior to making comparisons. For example:"
      ]
    },
    {
      "cell_type": "code",
      "metadata": {
        "colab": {
          "base_uri": "https://localhost:8080/"
        },
        "id": "TwtPemih08et",
        "outputId": "17350130-fe74-4d4e-a798-e35d89dc3ec7"
      },
      "source": [
        "price_list = [('AMZN', 144.09), ('GOOGL', 911.71), ('MSFT', 69), ('FB', 150), ('EBAY', 75.32)]\n",
        "sorted(price_list, key = lambda x: x[1])"
      ],
      "execution_count": 14,
      "outputs": [
        {
          "output_type": "execute_result",
          "data": {
            "text/plain": [
              "[('MSFT', 69),\n",
              " ('EBAY', 75.32),\n",
              " ('AMZN', 144.09),\n",
              " ('FB', 150),\n",
              " ('GOOGL', 911.71)]"
            ]
          },
          "metadata": {
            "tags": []
          },
          "execution_count": 14
        }
      ]
    },
    {
      "cell_type": "markdown",
      "metadata": {
        "id": "4i8t6cJ61Ng3"
      },
      "source": [
        "By default the values are sorted by ascending order. We can change it to descending by adding an optional parameter $reverse$."
      ]
    },
    {
      "cell_type": "code",
      "metadata": {
        "colab": {
          "base_uri": "https://localhost:8080/"
        },
        "id": "s_mTzeJm1LBc",
        "outputId": "839739ac-07dc-479b-aa95-03d1f65362f0"
      },
      "source": [
        "price_list = [('AMZN', 144.09), ('GOOGL', 911.71), ('MSFT', 69), ('FB', 150), ('EBAY', 75.32)]\n",
        "sorted(price_list, key = lambda x: x[1], reverse = True)"
      ],
      "execution_count": 15,
      "outputs": [
        {
          "output_type": "execute_result",
          "data": {
            "text/plain": [
              "[('GOOGL', 911.71),\n",
              " ('FB', 150),\n",
              " ('AMZN', 144.09),\n",
              " ('EBAY', 75.32),\n",
              " ('MSFT', 69)]"
            ]
          },
          "metadata": {
            "tags": []
          },
          "execution_count": 15
        }
      ]
    },
    {
      "cell_type": "markdown",
      "metadata": {
        "id": "6IuopRgb1cM-"
      },
      "source": [
        "Lists also have a function $list.sort()$. This function takes the same $key$ and $reverse$ arguments as $sorted()$, but it doesn't return a new list."
      ]
    },
    {
      "cell_type": "code",
      "metadata": {
        "colab": {
          "base_uri": "https://localhost:8080/"
        },
        "id": "rx7e8Jeb1nk1",
        "outputId": "5119e01e-3490-4afa-dba4-c5359de30beb"
      },
      "source": [
        "price_list = [('AMZN', 144.09), ('GOOGL', 911.71), ('MSFT', 69), ('FB', 150), ('EBAY', 75.32)]\n",
        "price_list.sort(key = lambda x: x[1])\n",
        "print(price_list)"
      ],
      "execution_count": 16,
      "outputs": [
        {
          "output_type": "stream",
          "text": [
            "[('MSFT', 69), ('EBAY', 75.32), ('AMZN', 144.09), ('FB', 150), ('GOOGL', 911.71)]\n"
          ],
          "name": "stdout"
        }
      ]
    },
    {
      "cell_type": "markdown",
      "metadata": {
        "id": "x2oXbL0u1zr9"
      },
      "source": [
        "# Object-Oriented Programming\n",
        "Python is an object-oriented programming language. It's important to understand the concept of \"**objects**\" because almost every kind of data from **QuantConnect API** is an object.\n",
        "\n",
        "# Class\n",
        "A class is a type of data, just like a string, float, or list. When we create an object of that data type, we call it an instance of a class.\n",
        "\n",
        "In Python, everything is an object - everything is an instance of some class. The data stored inside an object are called attributes, and the functions which are associated with the object are called methods.\n",
        "\n",
        "For example, as mentioned above, a list is an object of the $list$ class, and it has a method $list.sort()$.\n",
        "\n",
        "We can create our own objects by defining a class. We would do this when it's helpful to group certain functions together. For example, we define a class named $Stock$ here:"
      ]
    },
    {
      "cell_type": "code",
      "metadata": {
        "id": "2v1EdeP91uKR"
      },
      "source": [
        "class Stock:\n",
        "    def __init__(self, ticker, open, close, volume):\n",
        "        self.ticker = ticker\n",
        "        self.open = open\n",
        "        self.close = close\n",
        "        self.volume = volume\n",
        "        self.rate_return = float(close)/open - 1\n",
        "\n",
        "    def update(self, open, close):\n",
        "        self.open = open\n",
        "        self.close = close\n",
        "        self.rate_return = float(self.close)/self.open - 1\n",
        "\n",
        "    def print_return(self):\n",
        "        print(self.rate_return)"
      ],
      "execution_count": 18,
      "outputs": []
    },
    {
      "cell_type": "markdown",
      "metadata": {
        "id": "-j2EQ5L_3M_i"
      },
      "source": [
        "The $Stock$ class has attributes $ticker$, $open$, $close$, $volume$ and $rate_return$. Inside the class body, the first method is called $__init__$, which is a special method. When we create a new instance of the class, the $__init__ $method is immediately executed with all the parameters that we pass to the $Stock$ object. The purpose of this method is to set up a new $Stock$ object using data we have provided.\n",
        "\n",
        "Here we create two Stock objects named $apple$ and $google$."
      ]
    },
    {
      "cell_type": "code",
      "metadata": {
        "id": "s4SSioqY3nfZ"
      },
      "source": [
        "amazon  = Stock('AMZN', 210.32, 215.15, 25634890)\n",
        "microsoft = Stock('MSFT', 921.5, 951.36, 4569872)"
      ],
      "execution_count": 19,
      "outputs": []
    },
    {
      "cell_type": "markdown",
      "metadata": {
        "id": "GLQQBfD728Z-"
      },
      "source": [
        "Stock objects also have two other methods: $update()$ and $print$_$return()$. We can access the attribues of a $Stock$ object and call its methods:"
      ]
    },
    {
      "cell_type": "code",
      "metadata": {
        "colab": {
          "base_uri": "https://localhost:8080/",
          "height": 35
        },
        "id": "tIoj6K7024hB",
        "outputId": "ae79c737-ad3d-4d16-823a-d33b99db2126"
      },
      "source": [
        "amazon.ticker"
      ],
      "execution_count": 20,
      "outputs": [
        {
          "output_type": "execute_result",
          "data": {
            "application/vnd.google.colaboratory.intrinsic+json": {
              "type": "string"
            },
            "text/plain": [
              "'AMZN'"
            ]
          },
          "metadata": {
            "tags": []
          },
          "execution_count": 20
        }
      ]
    },
    {
      "cell_type": "code",
      "metadata": {
        "colab": {
          "base_uri": "https://localhost:8080/"
        },
        "id": "8O3M5rUb3t_g",
        "outputId": "216401ee-78c3-4031-8195-ae6e51859dee"
      },
      "source": [
        "microsoft.print_return()"
      ],
      "execution_count": 21,
      "outputs": [
        {
          "output_type": "stream",
          "text": [
            "0.03240368963646234\n"
          ],
          "name": "stdout"
        }
      ]
    },
    {
      "cell_type": "code",
      "metadata": {
        "colab": {
          "base_uri": "https://localhost:8080/"
        },
        "id": "_5moUDuF3wLg",
        "outputId": "1c254912-c7bc-4966-b2e0-756f0bae0d4c"
      },
      "source": [
        "amazon.update(912.8,913.4)\n",
        "amazon.print_return()"
      ],
      "execution_count": 22,
      "outputs": [
        {
          "output_type": "stream",
          "text": [
            "0.0006573181419806673\n"
          ],
          "name": "stdout"
        }
      ]
    },
    {
      "cell_type": "markdown",
      "metadata": {
        "id": "lKmS0UrN4AxS"
      },
      "source": [
        "By calling the $update()$ function, we updated the open and close prices of a stock. Please note that when we use the attributes or call the methods inside a class, we need to specify them as self.attribute or $self.method()$, otherwise Python will deem them as global variables and thus raise an error.\n",
        "\n",
        "We can add an attribute to an object anywhere:"
      ]
    },
    {
      "cell_type": "code",
      "metadata": {
        "colab": {
          "base_uri": "https://localhost:8080/",
          "height": 35
        },
        "id": "ZFcwV_N039Zw",
        "outputId": "a1476ee9-3eb3-4f13-efd3-0cf5d56cb7ea"
      },
      "source": [
        "amazon.ceo = 'Jeff Bezos'\n",
        "amazon.ceo"
      ],
      "execution_count": 23,
      "outputs": [
        {
          "output_type": "execute_result",
          "data": {
            "application/vnd.google.colaboratory.intrinsic+json": {
              "type": "string"
            },
            "text/plain": [
              "'Jeff Bezos'"
            ]
          },
          "metadata": {
            "tags": []
          },
          "execution_count": 23
        }
      ]
    },
    {
      "cell_type": "markdown",
      "metadata": {
        "id": "B9jTSDxp4MdR"
      },
      "source": [
        "We can check what names (i.e. attributes and methods) are defined on an object using the $dir()$ function:"
      ]
    },
    {
      "cell_type": "code",
      "metadata": {
        "colab": {
          "base_uri": "https://localhost:8080/"
        },
        "id": "litT11WG4Ktw",
        "outputId": "ca0c7f1d-6d56-464d-cbc3-ef72a7981a67"
      },
      "source": [
        "dir(amazon)"
      ],
      "execution_count": 24,
      "outputs": [
        {
          "output_type": "execute_result",
          "data": {
            "text/plain": [
              "['__class__',\n",
              " '__delattr__',\n",
              " '__dict__',\n",
              " '__dir__',\n",
              " '__doc__',\n",
              " '__eq__',\n",
              " '__format__',\n",
              " '__ge__',\n",
              " '__getattribute__',\n",
              " '__gt__',\n",
              " '__hash__',\n",
              " '__init__',\n",
              " '__init_subclass__',\n",
              " '__le__',\n",
              " '__lt__',\n",
              " '__module__',\n",
              " '__ne__',\n",
              " '__new__',\n",
              " '__reduce__',\n",
              " '__reduce_ex__',\n",
              " '__repr__',\n",
              " '__setattr__',\n",
              " '__sizeof__',\n",
              " '__str__',\n",
              " '__subclasshook__',\n",
              " '__weakref__',\n",
              " 'ceo',\n",
              " 'close',\n",
              " 'open',\n",
              " 'print_return',\n",
              " 'rate_return',\n",
              " 'ticker',\n",
              " 'update',\n",
              " 'volume']"
            ]
          },
          "metadata": {
            "tags": []
          },
          "execution_count": 24
        }
      ]
    },
    {
      "cell_type": "markdown",
      "metadata": {
        "id": "iz-G2IeY5JOm"
      },
      "source": [
        "# Inheritance\n",
        "Inheritance is a way of arranging classes in a hierarchy from the most general to the most specific. A $child$ class is a more specific type of a \"parent\" class because a child class will inherit all the attribues and methods of its parent. For example, we define a class named $Child$ which inherits $Stock$:"
      ]
    },
    {
      "cell_type": "code",
      "metadata": {
        "id": "5dWvgviQ5Gkw"
      },
      "source": [
        "class Child(Stock):\n",
        "    def __init__(self, name):\n",
        "        self.name = name"
      ],
      "execution_count": 25,
      "outputs": []
    },
    {
      "cell_type": "markdown",
      "metadata": {
        "id": "ZtWYG27t5dpj"
      },
      "source": [
        "Then we create an object:"
      ]
    },
    {
      "cell_type": "code",
      "metadata": {
        "colab": {
          "base_uri": "https://localhost:8080/"
        },
        "id": "YuiLtlRN5c6k",
        "outputId": "e1b4e683-c0bc-455d-ba1d-db7eece573ec"
      },
      "source": [
        "test = Child('TEST')\n",
        "print(test.name)"
      ],
      "execution_count": 26,
      "outputs": [
        {
          "output_type": "stream",
          "text": [
            "TEST\n"
          ],
          "name": "stdout"
        }
      ]
    },
    {
      "cell_type": "code",
      "metadata": {
        "colab": {
          "base_uri": "https://localhost:8080/"
        },
        "id": "y-yZFDWM5pmw",
        "outputId": "4b8f5563-dafd-4608-be5e-6b8337ee950f"
      },
      "source": [
        "test.update(121, 153)\n",
        "print(test.open)"
      ],
      "execution_count": 27,
      "outputs": [
        {
          "output_type": "stream",
          "text": [
            "121\n"
          ],
          "name": "stdout"
        }
      ]
    },
    {
      "cell_type": "code",
      "metadata": {
        "colab": {
          "base_uri": "https://localhost:8080/"
        },
        "id": "Z72q9gw75xig",
        "outputId": "9b44bdf1-9767-4043-b2af-46f9dcfe3129"
      },
      "source": [
        "test.close\n",
        "print(test.close)"
      ],
      "execution_count": 28,
      "outputs": [
        {
          "output_type": "stream",
          "text": [
            "153\n"
          ],
          "name": "stdout"
        }
      ]
    },
    {
      "cell_type": "code",
      "metadata": {
        "colab": {
          "base_uri": "https://localhost:8080/"
        },
        "id": "mjrarxds57uA",
        "outputId": "31ce2051-4da7-438f-c9e9-cd6799f425f4"
      },
      "source": [
        "test.print_return()"
      ],
      "execution_count": 29,
      "outputs": [
        {
          "output_type": "stream",
          "text": [
            "0.2644628099173554\n"
          ],
          "name": "stdout"
        }
      ]
    },
    {
      "cell_type": "markdown",
      "metadata": {
        "id": "rNSu_EOK6E4Z"
      },
      "source": [
        "As seen above, the new class $Child$ has inherited the methods from Stock."
      ]
    },
    {
      "cell_type": "markdown",
      "metadata": {
        "id": "VkgmwNxC6H4u"
      },
      "source": [
        "# Summary\n",
        "In this chapter we have introduced functions and classes. When we write a QuantConnect algorithm, we would define our algorithm as a class (QCAlgorithm). This means our algorithm inherited the QC API methods from QCAlgorithm class.\n",
        "\n",
        "In the next chapter, we will introduce NumPy and Pandas, which enable us to conduct scientific calculations in Python."
      ]
    },
    {
      "cell_type": "markdown",
      "metadata": {
        "id": "cZC_DHPp6OHB"
      },
      "source": [
        "Tomado De \"https://www.quantconnect.com/tutorials/introduction-to-financial-python/functions-and-objective-oriented-programming\""
      ]
    }
  ]
}