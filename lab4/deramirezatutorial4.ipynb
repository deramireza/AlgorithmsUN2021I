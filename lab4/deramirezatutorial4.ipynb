{
  "nbformat": 4,
  "nbformat_minor": 0,
  "metadata": {
    "colab": {
      "name": "deramirezatutorial5.ipynb",
      "provenance": [],
      "collapsed_sections": [],
      "include_colab_link": true
    },
    "kernelspec": {
      "name": "python3",
      "display_name": "Python 3"
    },
    "language_info": {
      "name": "python"
    }
  },
  "cells": [
    {
      "cell_type": "markdown",
      "metadata": {
        "id": "view-in-github",
        "colab_type": "text"
      },
      "source": [
        "<a href=\"https://colab.research.google.com/github/deramireza/AlgorithmsUN2021I/blob/main/lab4/deramirezatutorial4.ipynb\" target=\"_parent\"><img src=\"https://colab.research.google.com/assets/colab-badge.svg\" alt=\"Open In Colab\"/></a>"
      ]
    },
    {
      "cell_type": "markdown",
      "metadata": {
        "id": "USb6zDICblEw"
      },
      "source": [
        "# NumPy\n",
        "NumPy is the core library for scientific computing in Python. It provides a high-performance multidimensional array object, and tools for working with these arrays. It also has strong integration with Pandas, which is another powerful tool for manipulating financial data.\n",
        "\n",
        "Python packages like NumPy and Pandas contain classes and methods which we can use by importing the package:"
      ]
    },
    {
      "cell_type": "code",
      "metadata": {
        "id": "wTvBZq3BbXyt"
      },
      "source": [
        "import numpy as np"
      ],
      "execution_count": 3,
      "outputs": []
    },
    {
      "cell_type": "markdown",
      "metadata": {
        "id": "E2LLMqX5b3Jt"
      },
      "source": [
        "# Basic NumPy Arrays\n",
        "A NumPy array is a grid of values, all of the same type, and is indexed by a tuple of nonnegative integers. Here we make an array by passing a list of Apple stock prices:"
      ]
    },
    {
      "cell_type": "code",
      "metadata": {
        "colab": {
          "base_uri": "https://localhost:8080/"
        },
        "id": "8bc8UN-fbzDI",
        "outputId": "8f8564f4-24b2-46fa-ac02-7c203bcd1fba"
      },
      "source": [
        "price_list = [152.32, 153.56, 153.68, 154.22, 153.51, 152.6]\n",
        "price_array = np.array(price_list)\n",
        "print(price_array, type(price_array))"
      ],
      "execution_count": 4,
      "outputs": [
        {
          "output_type": "stream",
          "text": [
            "[152.32 153.56 153.68 154.22 153.51 152.6 ] <class 'numpy.ndarray'>\n"
          ],
          "name": "stdout"
        }
      ]
    },
    {
      "cell_type": "markdown",
      "metadata": {
        "id": "nG0ZiVhbce7v"
      },
      "source": [
        "Notice that the type of array is \"ndarray\" which is a multi-dimensional array. If we pass np.array() a list of lists, it will create a 2-dimensional array."
      ]
    },
    {
      "cell_type": "code",
      "metadata": {
        "colab": {
          "base_uri": "https://localhost:8080/"
        },
        "id": "KmGa4NEeca_v",
        "outputId": "866724b0-dcf7-42ef-9f1e-2e620b23b1b5"
      },
      "source": [
        "Ar = np.array([[2,3], [1,7]])\n",
        "print(Ar, type(Ar))"
      ],
      "execution_count": 5,
      "outputs": [
        {
          "output_type": "stream",
          "text": [
            "[[2 3]\n",
            " [1 7]] <class 'numpy.ndarray'>\n"
          ],
          "name": "stdout"
        }
      ]
    },
    {
      "cell_type": "markdown",
      "metadata": {
        "id": "M_sIixp7cuT2"
      },
      "source": [
        "We get the dimensions of an ndarray using the .shape attribute:"
      ]
    },
    {
      "cell_type": "code",
      "metadata": {
        "colab": {
          "base_uri": "https://localhost:8080/"
        },
        "id": "xnhSpui2clhb",
        "outputId": "eb43eede-fb0b-474a-bcc7-73b46812c140"
      },
      "source": [
        "print(Ar.shape)"
      ],
      "execution_count": 7,
      "outputs": [
        {
          "output_type": "stream",
          "text": [
            "(2, 2)\n"
          ],
          "name": "stdout"
        }
      ]
    },
    {
      "cell_type": "markdown",
      "metadata": {
        "id": "tY5L-veLc12Z"
      },
      "source": [
        "If we create an 2-dimensional array (i.e. matrix), each row can be accessed by index:"
      ]
    },
    {
      "cell_type": "code",
      "metadata": {
        "colab": {
          "base_uri": "https://localhost:8080/"
        },
        "id": "blaUTdgPcy5-",
        "outputId": "bf197446-642a-4b33-e431-e891d4babe45"
      },
      "source": [
        "print(Ar[0])"
      ],
      "execution_count": 8,
      "outputs": [
        {
          "output_type": "stream",
          "text": [
            "[2 3]\n"
          ],
          "name": "stdout"
        }
      ]
    },
    {
      "cell_type": "code",
      "metadata": {
        "colab": {
          "base_uri": "https://localhost:8080/"
        },
        "id": "MemXnZbWc6bM",
        "outputId": "028f9b2d-fd12-468c-f21e-cb646e3fbac7"
      },
      "source": [
        "print(Ar[1])"
      ],
      "execution_count": 9,
      "outputs": [
        {
          "output_type": "stream",
          "text": [
            "[1 7]\n"
          ],
          "name": "stdout"
        }
      ]
    },
    {
      "cell_type": "markdown",
      "metadata": {
        "id": "dfkzEYTydEna"
      },
      "source": [
        "If we want to access the matrix by column instead:"
      ]
    },
    {
      "cell_type": "code",
      "metadata": {
        "colab": {
          "base_uri": "https://localhost:8080/"
        },
        "id": "UQrWdpDjdBDx",
        "outputId": "a74039f9-92c5-42da-a7d8-e6781bf74a6c"
      },
      "source": [
        "print('First column:', Ar[:,0])"
      ],
      "execution_count": 10,
      "outputs": [
        {
          "output_type": "stream",
          "text": [
            "First column: [2 1]\n"
          ],
          "name": "stdout"
        }
      ]
    },
    {
      "cell_type": "code",
      "metadata": {
        "colab": {
          "base_uri": "https://localhost:8080/"
        },
        "id": "TWf8qkwhdI_l",
        "outputId": "afa35563-771c-4a47-8427-aa85f090666a"
      },
      "source": [
        "print('Second column:', Ar[:,1])"
      ],
      "execution_count": 11,
      "outputs": [
        {
          "output_type": "stream",
          "text": [
            "Second column: [3 7]\n"
          ],
          "name": "stdout"
        }
      ]
    },
    {
      "cell_type": "markdown",
      "metadata": {
        "id": "q4Kc4_F1dWmi"
      },
      "source": [
        "# Array Functions\n",
        "Some functions built in NumPy that allow us to perform calculations on arrays. For example, we can apply the natural logarithm to each element of an array:\n",
        "\n"
      ]
    },
    {
      "cell_type": "code",
      "metadata": {
        "colab": {
          "base_uri": "https://localhost:8080/"
        },
        "id": "-4lCWnp0dSnB",
        "outputId": "0b3ce6be-cf74-466a-d9ee-10adb2f74053"
      },
      "source": [
        "np.log(price_array)"
      ],
      "execution_count": 12,
      "outputs": [
        {
          "output_type": "execute_result",
          "data": {
            "text/plain": [
              "array([5.02598357, 5.03409137, 5.03487252, 5.03838015, 5.03376571,\n",
              "       5.02782012])"
            ]
          },
          "metadata": {
            "tags": []
          },
          "execution_count": 12
        }
      ]
    },
    {
      "cell_type": "markdown",
      "metadata": {
        "id": "dD-Ymt86dcp_"
      },
      "source": [
        "Other functions return a single value:"
      ]
    },
    {
      "cell_type": "code",
      "metadata": {
        "colab": {
          "base_uri": "https://localhost:8080/"
        },
        "id": "0rWwRwRTdaBY",
        "outputId": "db462510-5d0d-47bf-d0f1-91d3c73908f6"
      },
      "source": [
        "np.mean(price_array)"
      ],
      "execution_count": 13,
      "outputs": [
        {
          "output_type": "execute_result",
          "data": {
            "text/plain": [
              "153.315"
            ]
          },
          "metadata": {
            "tags": []
          },
          "execution_count": 13
        }
      ]
    },
    {
      "cell_type": "code",
      "metadata": {
        "colab": {
          "base_uri": "https://localhost:8080/"
        },
        "id": "YTTMFsw3dfMC",
        "outputId": "ac910bff-b68f-4f08-afed-be288eb3adcf"
      },
      "source": [
        "print(np.std(price_array))"
      ],
      "execution_count": 14,
      "outputs": [
        {
          "output_type": "stream",
          "text": [
            "0.6521183430431451\n"
          ],
          "name": "stdout"
        }
      ]
    },
    {
      "cell_type": "code",
      "metadata": {
        "colab": {
          "base_uri": "https://localhost:8080/"
        },
        "id": "dSD71iKbdhya",
        "outputId": "9e7e2832-8b35-4731-f13c-c56bbb1d4837"
      },
      "source": [
        "print(np.sum(price_array))"
      ],
      "execution_count": 15,
      "outputs": [
        {
          "output_type": "stream",
          "text": [
            "919.89\n"
          ],
          "name": "stdout"
        }
      ]
    },
    {
      "cell_type": "code",
      "metadata": {
        "colab": {
          "base_uri": "https://localhost:8080/"
        },
        "id": "ozmX4N9Tdnwf",
        "outputId": "07ef1f48-3e55-49de-91d2-76afdf881067"
      },
      "source": [
        "print(np.max(price_array))"
      ],
      "execution_count": 16,
      "outputs": [
        {
          "output_type": "stream",
          "text": [
            "154.22\n"
          ],
          "name": "stdout"
        }
      ]
    },
    {
      "cell_type": "markdown",
      "metadata": {
        "id": "kJy1Zyx5dvC4"
      },
      "source": [
        "The functions above return the mean, standard deviation, total and maximum value of an array."
      ]
    },
    {
      "cell_type": "markdown",
      "metadata": {
        "id": "WQ5H4pTsd0vl"
      },
      "source": [
        "# Pandas\n",
        "Pandas is one of the most powerful tools for dealing with financial data. First we need to import Pandas:"
      ]
    },
    {
      "cell_type": "code",
      "metadata": {
        "id": "EYhwZUV7dscz"
      },
      "source": [
        "import pandas as pd"
      ],
      "execution_count": 17,
      "outputs": []
    },
    {
      "cell_type": "markdown",
      "metadata": {
        "id": "ekBURyVod_1H"
      },
      "source": [
        "### Series\n",
        "Series is a one-dimensional labeled array capable of holding any data type (integers, strings, float, Python object, etc.)\n",
        "\n",
        "We create a Series by calling pd.Series(data), where data can be a dictionary, an array or just a scalar value."
      ]
    },
    {
      "cell_type": "code",
      "metadata": {
        "id": "PQRf8tMWd5vs"
      },
      "source": [
        "price = [152.32, 153.56, 153.68, 154.22, 153.51, 152.6]"
      ],
      "execution_count": 18,
      "outputs": []
    },
    {
      "cell_type": "code",
      "metadata": {
        "id": "StbOQADleRhl"
      },
      "source": [
        "s = pd.Series(price)"
      ],
      "execution_count": 19,
      "outputs": []
    },
    {
      "cell_type": "code",
      "metadata": {
        "colab": {
          "base_uri": "https://localhost:8080/"
        },
        "id": "EAfsXRASegO5",
        "outputId": "0bd987b4-5c33-457d-8086-75001f70358a"
      },
      "source": [
        "print(s)"
      ],
      "execution_count": 20,
      "outputs": [
        {
          "output_type": "stream",
          "text": [
            "0    152.32\n",
            "1    153.56\n",
            "2    153.68\n",
            "3    154.22\n",
            "4    153.51\n",
            "5    152.60\n",
            "dtype: float64\n"
          ],
          "name": "stdout"
        }
      ]
    },
    {
      "cell_type": "markdown",
      "metadata": {
        "id": "94WWkV8ieoZy"
      },
      "source": [
        "We can customize the indices of a new Series:"
      ]
    },
    {
      "cell_type": "code",
      "metadata": {
        "colab": {
          "base_uri": "https://localhost:8080/"
        },
        "id": "Fc6Mbu72ejkh",
        "outputId": "2643c3a6-edc2-458c-f958-d5f56206bbb9"
      },
      "source": [
        "s = pd.Series(price, index = ['a', 'b', 'c', 'd', 'e', 'f'])\n",
        "print(s)"
      ],
      "execution_count": 21,
      "outputs": [
        {
          "output_type": "stream",
          "text": [
            "a    152.32\n",
            "b    153.56\n",
            "c    153.68\n",
            "d    154.22\n",
            "e    153.51\n",
            "f    152.60\n",
            "dtype: float64\n"
          ],
          "name": "stdout"
        }
      ]
    },
    {
      "cell_type": "markdown",
      "metadata": {
        "id": "G0KjE51meyUO"
      },
      "source": [
        "Or we can change the indices of an existing Series:"
      ]
    },
    {
      "cell_type": "code",
      "metadata": {
        "colab": {
          "base_uri": "https://localhost:8080/"
        },
        "id": "x21mVEPhet7c",
        "outputId": "18839869-3a6f-4cf6-8074-37457a1b56ca"
      },
      "source": [
        "s.index = [6,5,4,3,2,1]\n",
        "print(s)\n"
      ],
      "execution_count": 22,
      "outputs": [
        {
          "output_type": "stream",
          "text": [
            "6    152.32\n",
            "5    153.56\n",
            "4    153.68\n",
            "3    154.22\n",
            "2    153.51\n",
            "1    152.60\n",
            "dtype: float64\n"
          ],
          "name": "stdout"
        }
      ]
    },
    {
      "cell_type": "markdown",
      "metadata": {
        "id": "x7CP6ZJDfGeJ"
      },
      "source": [
        "Series is like a list since it can be sliced by index:"
      ]
    },
    {
      "cell_type": "code",
      "metadata": {
        "colab": {
          "base_uri": "https://localhost:8080/"
        },
        "id": "LmbWUsbafD_r",
        "outputId": "5b6ecb7f-e6ac-4d1d-876d-16f45942641d"
      },
      "source": [
        "print(s[3:],'\\n')\n",
        "print(s[:-3])"
      ],
      "execution_count": 23,
      "outputs": [
        {
          "output_type": "stream",
          "text": [
            "3    154.22\n",
            "2    153.51\n",
            "1    152.60\n",
            "dtype: float64 \n",
            "\n",
            "6    152.32\n",
            "5    153.56\n",
            "4    153.68\n",
            "dtype: float64\n"
          ],
          "name": "stdout"
        }
      ]
    },
    {
      "cell_type": "markdown",
      "metadata": {
        "id": "CnnJZNr2fnev"
      },
      "source": [
        "Series is also like a dictionary whose values can be set or fetched by index label:"
      ]
    },
    {
      "cell_type": "code",
      "metadata": {
        "colab": {
          "base_uri": "https://localhost:8080/"
        },
        "id": "WrfTooiBfJBQ",
        "outputId": "901770e6-8078-4fc0-b9af-d5ea163cfcf6"
      },
      "source": [
        "print(s[2])\n",
        "s[2] = 0\n",
        "print(s)"
      ],
      "execution_count": 25,
      "outputs": [
        {
          "output_type": "stream",
          "text": [
            "0.0\n",
            "6    152.32\n",
            "5    153.56\n",
            "4    153.68\n",
            "3    154.22\n",
            "2      0.00\n",
            "1    152.60\n",
            "dtype: float64\n"
          ],
          "name": "stdout"
        }
      ]
    },
    {
      "cell_type": "markdown",
      "metadata": {
        "id": "wAevtRggf4m5"
      },
      "source": [
        "Series can also have a name attribute, which will be used when we make up a Pandas DataFrame using several series."
      ]
    },
    {
      "cell_type": "code",
      "metadata": {
        "colab": {
          "base_uri": "https://localhost:8080/"
        },
        "id": "rOG7dcQOfx1B",
        "outputId": "06db36f4-9860-47f9-c946-a075eb4f502b"
      },
      "source": [
        "s = pd.Series(price, name = 'Amazon Prices')\n",
        "print(s)\n",
        "print(s.name)"
      ],
      "execution_count": 26,
      "outputs": [
        {
          "output_type": "stream",
          "text": [
            "0    152.32\n",
            "1    153.56\n",
            "2    153.68\n",
            "3    154.22\n",
            "4    153.51\n",
            "5    152.60\n",
            "Name: Amazon Prices, dtype: float64\n",
            "Amazon Prices\n"
          ],
          "name": "stdout"
        }
      ]
    },
    {
      "cell_type": "markdown",
      "metadata": {
        "id": "GGyNdXh-gHIE"
      },
      "source": [
        "We can get the statistical summaries of a Series:"
      ]
    },
    {
      "cell_type": "code",
      "metadata": {
        "colab": {
          "base_uri": "https://localhost:8080/"
        },
        "id": "aUrN7mJMgBt1",
        "outputId": "821f328d-701a-4e90-b9c6-68672ea60c9f"
      },
      "source": [
        "print(s.describe())"
      ],
      "execution_count": 27,
      "outputs": [
        {
          "output_type": "stream",
          "text": [
            "count      6.00000\n",
            "mean     153.31500\n",
            "std        0.71436\n",
            "min      152.32000\n",
            "25%      152.82750\n",
            "50%      153.53500\n",
            "75%      153.65000\n",
            "max      154.22000\n",
            "Name: Amazon Prices, dtype: float64\n"
          ],
          "name": "stdout"
        }
      ]
    },
    {
      "cell_type": "markdown",
      "metadata": {
        "id": "lkDAp5XCgN3W"
      },
      "source": [
        "### Time Index\n",
        "Pandas has a built-in function specifically for creating date indices: pd.date_range(). We use it to create a new index for our Series:"
      ]
    },
    {
      "cell_type": "code",
      "metadata": {
        "colab": {
          "base_uri": "https://localhost:8080/"
        },
        "id": "X2aX_7UwgK1c",
        "outputId": "398cd430-c65a-4aef-bf3e-f6311ae80997"
      },
      "source": [
        "time_index = pd.date_range('2020-01-01', periods = len(s), freq = 'D')\n",
        "print(time_index)\n",
        "s.index = time_index\n",
        "print(s)"
      ],
      "execution_count": 28,
      "outputs": [
        {
          "output_type": "stream",
          "text": [
            "DatetimeIndex(['2020-01-01', '2020-01-02', '2020-01-03', '2020-01-04',\n",
            "               '2020-01-05', '2020-01-06'],\n",
            "              dtype='datetime64[ns]', freq='D')\n",
            "2020-01-01    152.32\n",
            "2020-01-02    153.56\n",
            "2020-01-03    153.68\n",
            "2020-01-04    154.22\n",
            "2020-01-05    153.51\n",
            "2020-01-06    152.60\n",
            "Freq: D, Name: Amazon Prices, dtype: float64\n"
          ],
          "name": "stdout"
        }
      ]
    },
    {
      "cell_type": "markdown",
      "metadata": {
        "id": "A68v10AThLK-"
      },
      "source": [
        "Series are usually accessed using the iloc[] and loc[] methods. iloc[] is used to access elements by integer index, and loc[] is used to access the index of the series.\n",
        "\n",
        "iloc[] is necessary when the index of a series are integers, take our previous defined series as example:"
      ]
    },
    {
      "cell_type": "code",
      "metadata": {
        "colab": {
          "base_uri": "https://localhost:8080/"
        },
        "id": "WgShWQnwgkSv",
        "outputId": "5b27341b-776b-4117-c31b-10c3a8f35025"
      },
      "source": [
        "s.index = [6,5,4,3,2,1]\n",
        "print(s)\n",
        "print(s[1])"
      ],
      "execution_count": 29,
      "outputs": [
        {
          "output_type": "stream",
          "text": [
            "6    152.32\n",
            "5    153.56\n",
            "4    153.68\n",
            "3    154.22\n",
            "2    153.51\n",
            "1    152.60\n",
            "Name: Amazon Prices, dtype: float64\n",
            "152.6\n"
          ],
          "name": "stdout"
        }
      ]
    },
    {
      "cell_type": "markdown",
      "metadata": {
        "id": "fEFGOv1lhV3d"
      },
      "source": [
        "If we intended to take the second element of the series, we would make a mistake here, because the index are integers. In order to access to the element we want, we use iloc[] here:\n",
        "\n"
      ]
    },
    {
      "cell_type": "code",
      "metadata": {
        "colab": {
          "base_uri": "https://localhost:8080/"
        },
        "id": "FchXWb5IhRS8",
        "outputId": "08d92ba4-4e5b-4f33-8355-30457905cc3d"
      },
      "source": [
        "print(s.iloc[3])"
      ],
      "execution_count": 30,
      "outputs": [
        {
          "output_type": "stream",
          "text": [
            "154.22\n"
          ],
          "name": "stdout"
        }
      ]
    },
    {
      "cell_type": "markdown",
      "metadata": {
        "id": "MumULTKOhdAB"
      },
      "source": [
        "While working with time series data, we often use time as the index. Pandas provides us with various methods to access the data by time index.\n",
        "\n"
      ]
    },
    {
      "cell_type": "code",
      "metadata": {
        "colab": {
          "base_uri": "https://localhost:8080/"
        },
        "id": "NUBxsHW2hahf",
        "outputId": "9f19ff35-135d-47aa-e6e4-7ebed3ffabbf"
      },
      "source": [
        "s.index = time_index\n",
        "print(s['2020-01-03'])"
      ],
      "execution_count": 31,
      "outputs": [
        {
          "output_type": "stream",
          "text": [
            "153.68\n"
          ],
          "name": "stdout"
        }
      ]
    },
    {
      "cell_type": "markdown",
      "metadata": {
        "id": "-djlyIsrhnAE"
      },
      "source": [
        "We can even access to a range of dates:"
      ]
    },
    {
      "cell_type": "code",
      "metadata": {
        "colab": {
          "base_uri": "https://localhost:8080/"
        },
        "id": "VjOCeOPVhhnv",
        "outputId": "b6175367-9d43-4952-9ddc-557dfd771255"
      },
      "source": [
        "print(s['2020-01-03':'2020-01-06'])"
      ],
      "execution_count": 32,
      "outputs": [
        {
          "output_type": "stream",
          "text": [
            "2020-01-03    153.68\n",
            "2020-01-04    154.22\n",
            "2020-01-05    153.51\n",
            "2020-01-06    152.60\n",
            "Freq: D, Name: Amazon Prices, dtype: float64\n"
          ],
          "name": "stdout"
        }
      ]
    },
    {
      "cell_type": "markdown",
      "metadata": {
        "id": "5sm5EWFih24E"
      },
      "source": [
        "Series[] provides us a very flexible way to index data. We can add any condition in the square brackets:"
      ]
    },
    {
      "cell_type": "code",
      "metadata": {
        "colab": {
          "base_uri": "https://localhost:8080/"
        },
        "id": "o-4p5acwhsjt",
        "outputId": "8492bb44-b6ab-4382-a499-e8eeb5bf5827"
      },
      "source": [
        "print(s[s <= np.mean(s)], '\\n')\n",
        "print(s[(s > np.mean(s)) & (s <= np.mean(s) + 1.41*np.std(s))])"
      ],
      "execution_count": 33,
      "outputs": [
        {
          "output_type": "stream",
          "text": [
            "2020-01-01    152.32\n",
            "2020-01-06    152.60\n",
            "Name: Amazon Prices, dtype: float64 \n",
            "\n",
            "2020-01-02    153.56\n",
            "2020-01-03    153.68\n",
            "2020-01-04    154.22\n",
            "2020-01-05    153.51\n",
            "Freq: D, Name: Amazon Prices, dtype: float64\n"
          ],
          "name": "stdout"
        }
      ]
    },
    {
      "cell_type": "markdown",
      "metadata": {
        "id": "1jRV01CTiRF9"
      },
      "source": [
        "As demonstrated, we can use logical operators like & (and), | (or) and ~ (not) to group multiple conditions."
      ]
    },
    {
      "cell_type": "markdown",
      "metadata": {
        "id": "86qa9CsOiUrm"
      },
      "source": [
        "# Summary\n",
        "Here we have introduced NumPy and Pandas for scientific computing in Python. In the next chapter, we will dive into Pandas to learn resampling and manipulating Pandas DataFrame, which are commonly used in financial data analysis."
      ]
    }
  ]
}