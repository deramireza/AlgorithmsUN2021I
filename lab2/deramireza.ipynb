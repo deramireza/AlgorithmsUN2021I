{
  "nbformat": 4,
  "nbformat_minor": 0,
  "metadata": {
    "celltoolbar": "Slideshow",
    "kernelspec": {
      "display_name": "Python 3",
      "language": "python",
      "name": "python3"
    },
    "language_info": {
      "codemirror_mode": {
        "name": "ipython",
        "version": 3
      },
      "file_extension": ".py",
      "mimetype": "text/x-python",
      "name": "python",
      "nbconvert_exporter": "python",
      "pygments_lexer": "ipython3",
      "version": "3.5.2"
    },
    "livereveal": {
      "start_slideshow_at": "selected"
    },
    "name": "Main.ipynb",
    "colab": {
      "name": "deramireza.ipynb",
      "provenance": [],
      "collapsed_sections": [
        "zbdUokuL2QPl",
        "rk-FtDio2QPu",
        "ICcxIr8o2QPx",
        "cmiUZCNb2QP4",
        "Hdg_qTng2QP4",
        "ZKezKzo-2QP9",
        "LNdtZaVx2QP9",
        "uvVWwHdv2QP-",
        "hJqtb4g82QP-",
        "iG_IOYyn2QQA",
        "Wxu3gQIS2QQD",
        "Ouj-tvmE2QQE",
        "MfyYZDuE2QQG",
        "WwW1WvZ92QQG"
      ],
      "include_colab_link": true
    }
  },
  "cells": [
    {
      "cell_type": "markdown",
      "metadata": {
        "id": "view-in-github",
        "colab_type": "text"
      },
      "source": [
        "<a href=\"https://colab.research.google.com/github/deramireza/AlgorithmsUN2021I/blob/main/lab2/deramireza.ipynb\" target=\"_parent\"><img src=\"https://colab.research.google.com/assets/colab-badge.svg\" alt=\"Open In Colab\"/></a>"
      ]
    },
    {
      "cell_type": "code",
      "metadata": {
        "colab": {
          "base_uri": "https://localhost:8080/"
        },
        "id": "O956ajbs2W3Q",
        "outputId": "bda9e0c2-2e29-48f7-8104-a476618d8d28"
      },
      "source": [
        "pip install -U fortran-magic"
      ],
      "execution_count": 7,
      "outputs": [
        {
          "output_type": "stream",
          "text": [
            "Requirement already up-to-date: fortran-magic in /usr/local/lib/python3.7/dist-packages (0.7)\n",
            "Requirement already satisfied, skipping upgrade: ipython in /usr/local/lib/python3.7/dist-packages (from fortran-magic) (5.5.0)\n",
            "Requirement already satisfied, skipping upgrade: numpy in /usr/local/lib/python3.7/dist-packages (from fortran-magic) (1.19.5)\n",
            "Requirement already satisfied, skipping upgrade: traitlets>=4.2 in /usr/local/lib/python3.7/dist-packages (from ipython->fortran-magic) (5.0.5)\n",
            "Requirement already satisfied, skipping upgrade: pexpect; sys_platform != \"win32\" in /usr/local/lib/python3.7/dist-packages (from ipython->fortran-magic) (4.8.0)\n",
            "Requirement already satisfied, skipping upgrade: pygments in /usr/local/lib/python3.7/dist-packages (from ipython->fortran-magic) (2.6.1)\n",
            "Requirement already satisfied, skipping upgrade: simplegeneric>0.8 in /usr/local/lib/python3.7/dist-packages (from ipython->fortran-magic) (0.8.1)\n",
            "Requirement already satisfied, skipping upgrade: setuptools>=18.5 in /usr/local/lib/python3.7/dist-packages (from ipython->fortran-magic) (54.1.2)\n",
            "Requirement already satisfied, skipping upgrade: decorator in /usr/local/lib/python3.7/dist-packages (from ipython->fortran-magic) (4.4.2)\n",
            "Requirement already satisfied, skipping upgrade: pickleshare in /usr/local/lib/python3.7/dist-packages (from ipython->fortran-magic) (0.7.5)\n",
            "Requirement already satisfied, skipping upgrade: prompt-toolkit<2.0.0,>=1.0.4 in /usr/local/lib/python3.7/dist-packages (from ipython->fortran-magic) (1.0.18)\n",
            "Requirement already satisfied, skipping upgrade: ipython-genutils in /usr/local/lib/python3.7/dist-packages (from traitlets>=4.2->ipython->fortran-magic) (0.2.0)\n",
            "Requirement already satisfied, skipping upgrade: ptyprocess>=0.5 in /usr/local/lib/python3.7/dist-packages (from pexpect; sys_platform != \"win32\"->ipython->fortran-magic) (0.7.0)\n",
            "Requirement already satisfied, skipping upgrade: wcwidth in /usr/local/lib/python3.7/dist-packages (from prompt-toolkit<2.0.0,>=1.0.4->ipython->fortran-magic) (0.2.5)\n",
            "Requirement already satisfied, skipping upgrade: six>=1.9.0 in /usr/local/lib/python3.7/dist-packages (from prompt-toolkit<2.0.0,>=1.0.4->ipython->fortran-magic) (1.15.0)\n"
          ],
          "name": "stdout"
        }
      ]
    },
    {
      "cell_type": "code",
      "metadata": {
        "colab": {
          "base_uri": "https://localhost:8080/",
          "height": 51
        },
        "id": "VHM72Hxg2dbv",
        "outputId": "b061bb0b-812d-4138-b8cf-5ad03d88ee22"
      },
      "source": [
        "%reload_ext fortranmagic"
      ],
      "execution_count": 8,
      "outputs": [
        {
          "output_type": "stream",
          "text": [
            "/usr/local/lib/python3.7/dist-packages/fortranmagic.py:147: UserWarning: get_ipython_cache_dir has moved to the IPython.paths module since IPython 4.0.\n",
            "  self._lib_dir = os.path.join(get_ipython_cache_dir(), 'fortran')\n"
          ],
          "name": "stderr"
        },
        {
          "output_type": "display_data",
          "data": {
            "application/javascript": [
              "$.getScript(\"https://raw.github.com/marijnh/CodeMirror/master/mode/fortran/fortran.js\", function () {\n",
              "IPython.config.cell_magic_highlight['magic_fortran'] = {'reg':[/^%%fortran/]};});\n"
            ]
          },
          "metadata": {
            "tags": []
          }
        }
      ]
    },
    {
      "cell_type": "code",
      "metadata": {
        "autoscroll": false,
        "ein.tags": "worksheet-0",
        "colab": {
          "base_uri": "https://localhost:8080/"
        },
        "id": "9wtHKQ5z2QPb",
        "outputId": "de5e9e95-f379-4799-c4af-c85e845f8135"
      },
      "source": [
        "%matplotlib inline\n",
        "%load_ext fortranmagic\n",
        "\n",
        "import sys; sys.path.append('..')\n",
        "\n",
        "import pandas as pd\n",
        "import numpy as np\n",
        "import matplotlib as mpl\n",
        "import matplotlib.pyplot as plt\n",
        "import seaborn as sns\n",
        "\n",
        "mpl.rc('figure', figsize=(12, 7))\n",
        "\n",
        "ran_the_first_cell = True\n",
        "\n",
        "jan2017 = pd.to_datetime(['2017-01-03 00:00:00+00:00',\n",
        " '2017-01-04 00:00:00+00:00',\n",
        " '2017-01-05 00:00:00+00:00',\n",
        " '2017-01-06 00:00:00+00:00',\n",
        " '2017-01-09 00:00:00+00:00',\n",
        " '2017-01-10 00:00:00+00:00',\n",
        " '2017-01-11 00:00:00+00:00',\n",
        " '2017-01-12 00:00:00+00:00',\n",
        " '2017-01-13 00:00:00+00:00',\n",
        " '2017-01-17 00:00:00+00:00',\n",
        " '2017-01-18 00:00:00+00:00',\n",
        " '2017-01-19 00:00:00+00:00',\n",
        " '2017-01-20 00:00:00+00:00',\n",
        " '2017-01-23 00:00:00+00:00',\n",
        " '2017-01-24 00:00:00+00:00',\n",
        " '2017-01-25 00:00:00+00:00',\n",
        " '2017-01-26 00:00:00+00:00',\n",
        " '2017-01-27 00:00:00+00:00',\n",
        " '2017-01-30 00:00:00+00:00',\n",
        " '2017-01-31 00:00:00+00:00',\n",
        " '2017-02-01 00:00:00+00:00'])\n",
        "calendar = jan2017.values.astype('datetime64[D]')\n",
        "\n",
        "event_dates = pd.to_datetime(['2017-01-06 00:00:00+00:00', \n",
        "                             '2017-01-07 00:00:00+00:00', \n",
        "                             '2017-01-08 00:00:00+00:00']).values.astype('datetime64[D]')\n",
        "event_values = np.array([10, 15, 20])"
      ],
      "execution_count": 9,
      "outputs": [
        {
          "output_type": "stream",
          "text": [
            "The fortranmagic extension is already loaded. To reload it, use:\n",
            "  %reload_ext fortranmagic\n"
          ],
          "name": "stdout"
        }
      ]
    },
    {
      "cell_type": "markdown",
      "metadata": {
        "ein.tags": "worksheet-0",
        "id": "ZCLHoO432QPg"
      },
      "source": [
        "<center>\n",
        "  <h1>The PyData Toolbox</h1>\n",
        "  <h3>Scott Sanderson (Twitter: @scottbsanderson, GitHub: ssanderson)</h3>\n",
        "  <h3><a href=\"https://github.com/ssanderson/pydata-toolbox\">https://github.com/ssanderson/pydata-toolbox</a></h3>\n",
        "</center>"
      ]
    },
    {
      "cell_type": "markdown",
      "metadata": {
        "collapsed": true,
        "ein.tags": "worksheet-0",
        "id": "DG2nXS2I2QPh"
      },
      "source": [
        "# About Me:\n",
        "\n",
        "<img src=\"images/me.jpg\" alt=\"Drawing\" style=\"width: 300px;\"/>\n",
        "\n",
        "- Senior Engineer at [Quantopian](www.quantopian.com)\n",
        "- Background in Mathematics and Philosophy\n",
        "- **Twitter:** [@scottbsanderson](https://twitter.com/scottbsanderson)\n",
        "- **GitHub:** [ssanderson](github.com/ssanderson)"
      ]
    },
    {
      "cell_type": "markdown",
      "metadata": {
        "id": "UZUXyjV52QPh"
      },
      "source": [
        "## Outline\n",
        "\n",
        "- Built-in Data Structures\n",
        "- Numpy `array`\n",
        "- Pandas `Series`/`DataFrame`\n",
        "- Plotting and \"Real-World\" Analyses"
      ]
    },
    {
      "cell_type": "markdown",
      "metadata": {
        "id": "ThzHQBJS2QPh"
      },
      "source": [
        "# Data Structures"
      ]
    },
    {
      "cell_type": "markdown",
      "metadata": {
        "id": "7-zeIl-E2QPh"
      },
      "source": [
        "> Rule 5. Data dominates. If you've chosen the right data structures and organized things well, the algorithms\n",
        "will almost always be self-evident. Data structures, not algorithms, are central to programming.\n",
        "\n",
        "- *Notes on Programming in C*, by Rob Pike."
      ]
    },
    {
      "cell_type": "markdown",
      "metadata": {
        "id": "mNJc-jFN2QPi"
      },
      "source": [
        "# Lists"
      ]
    },
    {
      "cell_type": "code",
      "metadata": {
        "collapsed": true,
        "id": "4TX9-pQv2QPi"
      },
      "source": [
        "assert ran_the_first_cell, \"Oh noes!\""
      ],
      "execution_count": null,
      "outputs": []
    },
    {
      "cell_type": "code",
      "metadata": {
        "colab": {
          "base_uri": "https://localhost:8080/"
        },
        "id": "FCHIuSsX2QPi",
        "outputId": "8f0f248b-87e3-4171-a2b8-a97606ba5aab"
      },
      "source": [
        "#l = [1, 'two', 3.0, 4, 5.0, \"six\"]\n",
        "#l\n",
        "\n",
        "lista = [67, 'horse', 7.12, 8, 8.01, \"dog\"]\n",
        "lista"
      ],
      "execution_count": null,
      "outputs": [
        {
          "output_type": "execute_result",
          "data": {
            "text/plain": [
              "[67, 'horse', 7.12, 8, 8.01, 'dog']"
            ]
          },
          "metadata": {
            "tags": []
          },
          "execution_count": 4
        }
      ]
    },
    {
      "cell_type": "code",
      "metadata": {
        "colab": {
          "base_uri": "https://localhost:8080/"
        },
        "id": "NJAWgu583MhP",
        "outputId": "751d8ace-6dec-4900-be2f-7902371398c2"
      },
      "source": [
        "l1 = [\"\", 23, 45, 4.6, \"plane\", 9.3, \"boat\"]\n",
        "l1"
      ],
      "execution_count": null,
      "outputs": [
        {
          "output_type": "execute_result",
          "data": {
            "text/plain": [
              "['', 23, 45, 4.6, 'plane', 9.3, 'boat']"
            ]
          },
          "metadata": {
            "tags": []
          },
          "execution_count": 3
        }
      ]
    },
    {
      "cell_type": "code",
      "metadata": {
        "colab": {
          "base_uri": "https://localhost:8080/"
        },
        "id": "LclSFcJF2QPi",
        "outputId": "f09cd4c3-6e57-4cfd-c591-d2e3b1fd3a93"
      },
      "source": [
        "# Lists can be indexed like C-style arrays.\n",
        "# first = l[0]\n",
        "# second = l[1]\n",
        "# print(\"first:\", first)\n",
        "# print(\"second:\", second)\n",
        "\n",
        "primero = lista[0]\n",
        "segundo= lista[1]\n",
        "print(\"primero:\", primero)\n",
        "print(\"segundo:\", segundo)\n",
        "\n"
      ],
      "execution_count": null,
      "outputs": [
        {
          "output_type": "stream",
          "text": [
            "primero: 67\n",
            "segundo: horse\n"
          ],
          "name": "stdout"
        }
      ]
    },
    {
      "cell_type": "code",
      "metadata": {
        "colab": {
          "base_uri": "https://localhost:8080/"
        },
        "id": "nEzX4H8R2QPj",
        "outputId": "dced39cf-9b7e-4f7f-9786-328f260c2cf9"
      },
      "source": [
        "# Negative indexing gives elements relative to the end of the list.\n",
        "# last = l[-1]\n",
        "# penultimate = l[-2]\n",
        "# print(\"last:\", last)\n",
        "# print(\"second to last:\", penultimate)\n",
        "\n",
        "ultimo = lista[-1]\n",
        "penultimo = lista[-2]\n",
        "print(\"ultimo:\", ultimo)\n",
        "print(\"penultmo:\", penultimo)"
      ],
      "execution_count": null,
      "outputs": [
        {
          "output_type": "stream",
          "text": [
            "ultimo: dog\n",
            "penultmo: 8.01\n"
          ],
          "name": "stdout"
        }
      ]
    },
    {
      "cell_type": "code",
      "metadata": {
        "colab": {
          "base_uri": "https://localhost:8080/"
        },
        "id": "iqv61r7R2QPj",
        "outputId": "23fb081a-64f5-4861-e72e-8e74ad904960"
      },
      "source": [
        "# Lists can also be sliced, which makes a copy of elements between \n",
        "# start (inclusive) and stop (exclusive)\n",
        "# sublist = l[1:3]\n",
        "# sublist\n",
        "\n",
        "sublista = lista[2:6]\n",
        "sublista"
      ],
      "execution_count": null,
      "outputs": [
        {
          "output_type": "execute_result",
          "data": {
            "text/plain": [
              "[7.12, 8, 8.01, 'dog']"
            ]
          },
          "metadata": {
            "tags": []
          },
          "execution_count": 7
        }
      ]
    },
    {
      "cell_type": "code",
      "metadata": {
        "colab": {
          "base_uri": "https://localhost:8080/"
        },
        "id": "ZUUvc5dS2QPj",
        "outputId": "eb27f323-59a6-4c02-cd13-b51aad463e1d"
      },
      "source": [
        "# l[:N] is equivalent to l[0:N].\n",
        "# first_three = l[:3]\n",
        "# first_three\n",
        "\n",
        "primeros_tres = lista[:3]\n",
        "primeros_tres"
      ],
      "execution_count": null,
      "outputs": [
        {
          "output_type": "execute_result",
          "data": {
            "text/plain": [
              "[67, 'horse', 7.12]"
            ]
          },
          "metadata": {
            "tags": []
          },
          "execution_count": 8
        }
      ]
    },
    {
      "cell_type": "code",
      "metadata": {
        "colab": {
          "base_uri": "https://localhost:8080/"
        },
        "id": "sAbtIZbH2QPk",
        "outputId": "6ee932ea-9815-43ff-d977-50130ae05b42"
      },
      "source": [
        "# l[3:] is equivalent to l[3:len(l)].\n",
        "# after_three = l[3:]\n",
        "# after_three\n",
        "\n",
        "despues_tres = lista[3:]\n",
        "despues_tres\n",
        "\n",
        "primeros_tres = lista[:3]\n",
        "primeros_tres"
      ],
      "execution_count": null,
      "outputs": [
        {
          "output_type": "execute_result",
          "data": {
            "text/plain": [
              "['hola', 'soy', 'una']"
            ]
          },
          "metadata": {
            "tags": []
          },
          "execution_count": 13
        }
      ]
    },
    {
      "cell_type": "code",
      "metadata": {
        "colab": {
          "base_uri": "https://localhost:8080/"
        },
        "id": "e_TLkjB32QPk",
        "outputId": "d3581d0a-8088-4688-e134-0666d7451ac7"
      },
      "source": [
        "# There's also a third parameter, \"step\", which gets every Nth element.\n",
        "# l = ['a', 'b', 'c', 'd', 'e', 'f', 'g','h']\n",
        "# l[1:7:2]\n",
        "\n",
        "lista = [0,3,6,9,12,15,18,21,24,27,30,33,36,39,42,45,48,51,54]\n",
        "lista[1:8:3]"
      ],
      "execution_count": null,
      "outputs": [
        {
          "output_type": "execute_result",
          "data": {
            "text/plain": [
              "[3, 12, 21]"
            ]
          },
          "metadata": {
            "tags": []
          },
          "execution_count": 14
        }
      ]
    },
    {
      "cell_type": "code",
      "metadata": {
        "colab": {
          "base_uri": "https://localhost:8080/"
        },
        "id": "AkJzBSny2QPk",
        "outputId": "8d82f270-1a10-4532-f8c4-49e7213a5185"
      },
      "source": [
        "# This is a cute way to reverse a list.\n",
        "# l[::-1]\n",
        "\n",
        "lista[::-1]"
      ],
      "execution_count": null,
      "outputs": [
        {
          "output_type": "execute_result",
          "data": {
            "text/plain": [
              "[54, 51, 48, 45, 42, 39, 36, 33, 30, 27, 24, 21, 18, 15, 12, 9, 6, 3, 0]"
            ]
          },
          "metadata": {
            "tags": []
          },
          "execution_count": 15
        }
      ]
    },
    {
      "cell_type": "code",
      "metadata": {
        "colab": {
          "base_uri": "https://localhost:8080/"
        },
        "id": "EzbOpjvL2QPk",
        "outputId": "d9ae4397-3deb-498f-bd54-669be80a5067"
      },
      "source": [
        "# Lists can be grown efficiently (in O(1) amortized time).\n",
        "# l = [1, 2, 3, 4, 5]\n",
        "# print(\"Before:\", l)\n",
        "# l.append('six')\n",
        "# print(\"After:\", l)\n",
        "\n",
        "lista = ['k', 'l', 'm', 'n', 'o','p']\n",
        "print(\"antes:\", lista)\n",
        "lista.append([1,2,3])\n",
        "print(\"Despues:\", lista)"
      ],
      "execution_count": null,
      "outputs": [
        {
          "output_type": "stream",
          "text": [
            "antes: ['k', 'l', 'm', 'n', 'o', 'p']\n",
            "Despues: ['k', 'l', 'm', 'n', 'o', 'p', [1, 2, 3]]\n"
          ],
          "name": "stdout"
        }
      ]
    },
    {
      "cell_type": "code",
      "metadata": {
        "colab": {
          "base_uri": "https://localhost:8080/"
        },
        "id": "Ee44oCGr2QPl",
        "outputId": "56b6ab8e-6da7-49bb-98a1-4dfd70fa17bb"
      },
      "source": [
        "\n",
        "# Comprehensions let us perform elementwise computations.\n",
        "# l = [1, 2, 3, 4, 5]\n",
        "# [x * 2 for x in l]\n",
        "\n",
        "lista = [10, 20, 30, 40, 50]\n",
        "[x * 2 for x in lista]\n"
      ],
      "execution_count": null,
      "outputs": [
        {
          "output_type": "execute_result",
          "data": {
            "text/plain": [
              "[20, 40, 60, 80, 100]"
            ]
          },
          "metadata": {
            "tags": []
          },
          "execution_count": 24
        }
      ]
    },
    {
      "cell_type": "markdown",
      "metadata": {
        "ein.tags": "worksheet-0",
        "id": "zbdUokuL2QPl"
      },
      "source": [
        "## Review: Python Lists\n",
        "\n",
        "- Zero-indexed sequence of arbitrary Python values.\n",
        "- Slicing syntax: `l[start:stop:step]` copies elements at regular intervals from `start` to `stop`.\n",
        "- Efficient (`O(1)`) appends and removes from end.\n",
        "- Comprehension syntax: `[f(x) for x in l if cond(x)]`."
      ]
    },
    {
      "cell_type": "markdown",
      "metadata": {
        "id": "h9QUAUNF2QPl"
      },
      "source": [
        "# Dictionaries"
      ]
    },
    {
      "cell_type": "code",
      "metadata": {
        "colab": {
          "base_uri": "https://localhost:8080/"
        },
        "id": "4Fv0cVgf2QPl",
        "outputId": "eb123591-8f19-4ba4-9b40-24d818f94898"
      },
      "source": [
        "# Dictionaries are key-value mappings.\n",
        "# philosophers = {'David': 'Hume', 'Immanuel': 'Kant', 'Bertrand': 'Russell'}\n",
        "# philosophers\n",
        "\n",
        "edades = {'Camila': 14, 'Sofia': 23, 'Damian': 19}\n",
        "edades"
      ],
      "execution_count": null,
      "outputs": [
        {
          "output_type": "execute_result",
          "data": {
            "text/plain": [
              "{'Camila': 14, 'Damian': 19, 'Sofia': 23}"
            ]
          },
          "metadata": {
            "tags": []
          },
          "execution_count": 25
        }
      ]
    },
    {
      "cell_type": "code",
      "metadata": {
        "colab": {
          "base_uri": "https://localhost:8080/"
        },
        "id": "w0vkh84_2QPm",
        "outputId": "1fe9110f-e805-4947-c5c1-0722fd9dc722"
      },
      "source": [
        "# Like lists, dictionaries are size-mutable.\n",
        "#philosophers['Ludwig'] = 'Wittgenstein'\n",
        "#philosophers\n",
        "edades['Camila']=\"Don Vito\"\n",
        "edades\n"
      ],
      "execution_count": null,
      "outputs": [
        {
          "output_type": "execute_result",
          "data": {
            "text/plain": [
              "{'Camila': 'Don Vito', 'Damian': 19, 'Sofia': 23}"
            ]
          },
          "metadata": {
            "tags": []
          },
          "execution_count": 27
        }
      ]
    },
    {
      "cell_type": "code",
      "metadata": {
        "colab": {
          "base_uri": "https://localhost:8080/"
        },
        "id": "hJPSXFGC2QPm",
        "outputId": "280de206-aa0c-4970-db22-b88cee02e38c"
      },
      "source": [
        "#del philosophers['David']\n",
        "#philosophers\n",
        "del edades['Damian']\n",
        "edades"
      ],
      "execution_count": null,
      "outputs": [
        {
          "output_type": "execute_result",
          "data": {
            "text/plain": [
              "{'Camila': 'Don Vito', 'Sofia': 23}"
            ]
          },
          "metadata": {
            "tags": []
          },
          "execution_count": 29
        }
      ]
    },
    {
      "cell_type": "code",
      "metadata": {
        "id": "Gid05l-y2QPm"
      },
      "source": [
        "# No slicing.\n",
        "#philosophers['Bertrand':'Immanuel']\n",
        "\n",
        "#edades['Camila': 14]"
      ],
      "execution_count": null,
      "outputs": []
    },
    {
      "cell_type": "markdown",
      "metadata": {
        "ein.tags": "worksheet-0",
        "id": "364w2KBe2QPm"
      },
      "source": [
        "## Review: Python Dictionaries\n",
        "\n",
        "- Unordered key-value mapping from (almost) arbitrary keys to arbitrary values.\n",
        "- Efficient (`O(1)`) lookup, insertion, and deletion.\n",
        "- No slicing (would require a notion of order)."
      ]
    },
    {
      "cell_type": "markdown",
      "metadata": {
        "id": "9kP1sav52QPm"
      },
      "source": [
        "<center><img src=\"images/pacino.gif\" alt=\"Drawing\" style=\"width: 100%;\"/></center>\n"
      ]
    },
    {
      "cell_type": "code",
      "metadata": {
        "collapsed": true,
        "id": "IoTgpydK2QPn"
      },
      "source": [
        "# # Suppose we have some matrices...\n",
        "# a = [[1, 2, 3],\n",
        "#      [2, 3, 4],\n",
        "#      [5, 6, 7],\n",
        "#      [1, 1, 1]]\n",
        "\n",
        "# b = [[1, 2, 3, 4],\n",
        "#      [2, 3, 4, 5]]\n",
        "\n",
        "c = [[1, 2, 3],\n",
        "     [4, 5, 6],\n",
        "     [7, 8, 9],\n",
        "     [10, 11, 12]]\n",
        "\n",
        "d = [[13, 24, 35, 46],\n",
        "     [20, 39, 48, 57]]"
      ],
      "execution_count": null,
      "outputs": []
    },
    {
      "cell_type": "code",
      "metadata": {
        "collapsed": true,
        "id": "LOzwdKbC2QPn"
      },
      "source": [
        "def matmul(A, B):\n",
        "    \"\"\"Multiply matrix A by matrix B.\"\"\"\n",
        "    rows_out = len(A)\n",
        "    cols_out = len(B[0])\n",
        "    out = [[0 for col in range(cols_out)] for row in range(rows_out)]\n",
        "    \n",
        "    for i in range(rows_out):\n",
        "        for j in range(cols_out):\n",
        "            for k in range(len(B)):\n",
        "                out[i][j] += A[i][k] * B[k][j]\n",
        "    return out"
      ],
      "execution_count": null,
      "outputs": []
    },
    {
      "cell_type": "markdown",
      "metadata": {
        "id": "4TzYYGyo2QPn"
      },
      "source": [
        "<center><img src=\"images/gross.gif\" alt=\"Drawing\" style=\"width: 50%;\"/></center>\n"
      ]
    },
    {
      "cell_type": "code",
      "metadata": {
        "colab": {
          "base_uri": "https://localhost:8080/"
        },
        "id": "DJDbta2m2QPn",
        "outputId": "373aa06d-f4ae-491e-daeb-bf57c3cc3729"
      },
      "source": [
        "%%time\n",
        "\n",
        "matmul(c, d)"
      ],
      "execution_count": null,
      "outputs": [
        {
          "output_type": "stream",
          "text": [
            "CPU times: user 40 µs, sys: 0 ns, total: 40 µs\n",
            "Wall time: 43.6 µs\n"
          ],
          "name": "stdout"
        },
        {
          "output_type": "execute_result",
          "data": {
            "text/plain": [
              "[[53, 102, 131, 160],\n",
              " [152, 291, 380, 469],\n",
              " [251, 480, 629, 778],\n",
              " [350, 669, 878, 1087]]"
            ]
          },
          "metadata": {
            "tags": []
          },
          "execution_count": 47
        }
      ]
    },
    {
      "cell_type": "code",
      "metadata": {
        "colab": {
          "base_uri": "https://localhost:8080/"
        },
        "id": "x65w-4Zp2QPn",
        "outputId": "a6ff4428-1aa3-4b04-852c-a9eb9068cc13"
      },
      "source": [
        "import random\n",
        "def random_matrix(m, n):\n",
        "    out = []\n",
        "    for row in range(m):\n",
        "        out.append([random.random() for _ in range(n)])\n",
        "    return out\n",
        "\n",
        "randm = random_matrix(2, 3)\n",
        "randm"
      ],
      "execution_count": null,
      "outputs": [
        {
          "output_type": "execute_result",
          "data": {
            "text/plain": [
              "[[0.7639176054352926, 0.5794363370195394, 0.1991145278443056],\n",
              " [0.975104794430689, 0.913746556715167, 0.7236503106459996]]"
            ]
          },
          "metadata": {
            "tags": []
          },
          "execution_count": 49
        }
      ]
    },
    {
      "cell_type": "code",
      "metadata": {
        "scrolled": true,
        "colab": {
          "base_uri": "https://localhost:8080/"
        },
        "id": "9RmUfiH_2QPo",
        "outputId": "f37d4d2b-24d2-4929-a09b-177293f59358"
      },
      "source": [
        "%%time\n",
        "randa = random_matrix(600, 100)\n",
        "randb = random_matrix(100, 600)\n",
        "x = matmul(randa, randb)"
      ],
      "execution_count": null,
      "outputs": [
        {
          "output_type": "stream",
          "text": [
            "CPU times: user 8.88 s, sys: 20.9 ms, total: 8.9 s\n",
            "Wall time: 8.92 s\n"
          ],
          "name": "stdout"
        }
      ]
    },
    {
      "cell_type": "code",
      "metadata": {
        "collapsed": true,
        "id": "sT7N2eb62QPo"
      },
      "source": [
        "# Maybe that's not that bad?  Let's try a simpler case.\n",
        "def python_dot_product(xs, ys):\n",
        "    return sum(x * y for x, y in zip(xs, ys))"
      ],
      "execution_count": null,
      "outputs": []
    },
    {
      "cell_type": "code",
      "metadata": {
        "collapsed": true,
        "id": "_BdRXTFO2QPo"
      },
      "source": [
        "%%fortran\n",
        "subroutine fortran_dot_product(xs, ys, result)\n",
        "    double precision, intent(in) :: xs(:)\n",
        "    double precision, intent(in) :: ys(:)\n",
        "    double precision, intent(out) :: result\n",
        "    \n",
        "    result = sum(xs * ys)\n",
        "end"
      ],
      "execution_count": null,
      "outputs": []
    },
    {
      "cell_type": "code",
      "metadata": {
        "collapsed": true,
        "id": "p5qshKaH2QPo"
      },
      "source": [
        "import numpy as np\n",
        "# list_data = [float(i) for i in range(100000)]\n",
        "# array_data = np.array(list_data)\n",
        "lista_datos = [float(i) for i in range(100000)]\n",
        "arreglo_datos = np.array(lista_datos)"
      ],
      "execution_count": 39,
      "outputs": []
    },
    {
      "cell_type": "code",
      "metadata": {
        "id": "qLG-a1qA2QPo",
        "outputId": "6998b4b7-2ef6-4bb5-e652-fd2e2d8043be"
      },
      "source": [
        "%%time\n",
        "python_dot_product(list_data, list_data)"
      ],
      "execution_count": null,
      "outputs": [
        {
          "output_type": "stream",
          "text": [
            "CPU times: user 4 ms, sys: 0 ns, total: 4 ms\n",
            "Wall time: 6.95 ms\n"
          ],
          "name": "stdout"
        },
        {
          "output_type": "execute_result",
          "data": {
            "text/plain": [
              "333328333350000.0"
            ]
          },
          "metadata": {
            "tags": []
          },
          "execution_count": 25
        }
      ]
    },
    {
      "cell_type": "code",
      "metadata": {
        "colab": {
          "base_uri": "https://localhost:8080/"
        },
        "id": "OrMTdHdy2QPp",
        "outputId": "ac9c558f-33e0-4ca1-d5bd-43c54296bdd4"
      },
      "source": [
        "\n",
        "%%time\n",
        "fortran_dot_product(arreglo_datos, arreglo_datos) # 32 veces mas rapido"
      ],
      "execution_count": null,
      "outputs": [
        {
          "output_type": "stream",
          "text": [
            "CPU times: user 209 µs, sys: 0 ns, total: 209 µs\n",
            "Wall time: 215 µs\n"
          ],
          "name": "stdout"
        },
        {
          "output_type": "execute_result",
          "data": {
            "text/plain": [
              "333328333350000.0"
            ]
          },
          "metadata": {
            "tags": []
          },
          "execution_count": 69
        }
      ]
    },
    {
      "cell_type": "markdown",
      "metadata": {
        "id": "_UDtwgl52QPp"
      },
      "source": [
        "<center><img src=\"images/sloth.gif\" alt=\"Drawing\" style=\"width: 1080px;\"/></center>\n"
      ]
    },
    {
      "cell_type": "markdown",
      "metadata": {
        "id": "-mUPzA812QPp"
      },
      "source": [
        "## Why is the Python Version so Much Slower?"
      ]
    },
    {
      "cell_type": "code",
      "metadata": {
        "colab": {
          "base_uri": "https://localhost:8080/"
        },
        "id": "GMJXd7f72QPp",
        "outputId": "14a4e826-4993-4e8e-9f41-03c55c566c02"
      },
      "source": [
        "# Dynamic typing.\n",
        "def mul_elemwise(xs, ys):\n",
        "    return [x * y for x, y in zip(xs, ys)]\n",
        "\n",
        "mul_elemwise([1, 2, 3, 4], [1, 2 + 0j, 3.0, 'four'])\n",
        "#[type(x) for x in _]"
      ],
      "execution_count": null,
      "outputs": [
        {
          "output_type": "execute_result",
          "data": {
            "text/plain": [
              "[1, (4+0j), 9.0, 'fourfourfourfour']"
            ]
          },
          "metadata": {
            "tags": []
          },
          "execution_count": 76
        }
      ]
    },
    {
      "cell_type": "code",
      "metadata": {
        "colab": {
          "base_uri": "https://localhost:8080/"
        },
        "id": "VUREainH2QPp",
        "outputId": "fed5317b-7c0f-4a79-d07b-b153512a53a3"
      },
      "source": [
        "# Interpretation overhead.\n",
        "source_code = 'a - b * c'\n",
        "bytecode = compile(source_code, '', 'eval')\n",
        "import dis; dis.dis(bytecode)"
      ],
      "execution_count": null,
      "outputs": [
        {
          "output_type": "stream",
          "text": [
            "  1           0 LOAD_NAME                0 (a)\n",
            "              2 LOAD_NAME                1 (b)\n",
            "              4 LOAD_NAME                2 (c)\n",
            "              6 BINARY_MULTIPLY\n",
            "              8 BINARY_SUBTRACT\n",
            "             10 RETURN_VALUE\n"
          ],
          "name": "stdout"
        }
      ]
    },
    {
      "cell_type": "markdown",
      "metadata": {
        "id": "lmprBbVO2QPq"
      },
      "source": [
        "## Why is the Python Version so Slow?\n",
        "- Dynamic typing means that every single operation requires dispatching on the input type.\n",
        "- Having an interpreter means that every instruction is fetched and dispatched at runtime.\n",
        "- Other overheads:\n",
        "  - Arbitrary-size integers.\n",
        "  - Reference-counted garbage collection."
      ]
    },
    {
      "cell_type": "markdown",
      "metadata": {
        "id": "RP3JdKN22QPq"
      },
      "source": [
        "> This is the paradox that we have to work with when we're doing scientific or numerically-intensive Python. What makes Python fast for development -- this high-level, interpreted, and dynamically-typed aspect of the language -- is exactly what makes it slow for code execution.\n",
        "\n",
        "- Jake VanderPlas, [*Losing Your Loops: Fast Numerical Computing with NumPy*](https://www.youtube.com/watch?v=EEUXKG97YRw)"
      ]
    },
    {
      "cell_type": "markdown",
      "metadata": {
        "id": "jniLWjJN2QPq"
      },
      "source": [
        "# What Do We Do?"
      ]
    },
    {
      "cell_type": "markdown",
      "metadata": {
        "id": "nJKn2fqD2QPq"
      },
      "source": [
        "<center><img src=\"images/runaway.gif\" alt=\"Drawing\" style=\"width: 50%;\"/></center>"
      ]
    },
    {
      "cell_type": "markdown",
      "metadata": {
        "id": "xU1VZNEY2QPq"
      },
      "source": [
        "<center><img src=\"images/thisisfine.gif\" alt=\"Drawing\" style=\"width: 1080px;\"/></center>"
      ]
    },
    {
      "cell_type": "markdown",
      "metadata": {
        "id": "rFRrnIEe2QPq"
      },
      "source": [
        "- Python is slow for numerical computation because it performs dynamic dispatch on every operation we perform..."
      ]
    },
    {
      "cell_type": "markdown",
      "metadata": {
        "collapsed": true,
        "id": "G3GY7-fG2QPr"
      },
      "source": [
        "- ...but often, we just want to do the same thing over and over in a loop!"
      ]
    },
    {
      "cell_type": "markdown",
      "metadata": {
        "id": "e65BvXJ32QPr"
      },
      "source": [
        "- If we don't need Python's dynamicism, we don't want to pay (much) for it."
      ]
    },
    {
      "cell_type": "markdown",
      "metadata": {
        "id": "hzWXXKDw2QPr"
      },
      "source": [
        "- **Idea:** Dispatch **once per operation** instead of **once per element**."
      ]
    },
    {
      "cell_type": "code",
      "metadata": {
        "colab": {
          "base_uri": "https://localhost:8080/"
        },
        "id": "8Fwlwwp42QPr",
        "outputId": "25134f4a-3bfd-49d3-c955-dbbde96eadad"
      },
      "source": [
        "import numpy as np\n",
        "\n",
        "# data = np.array([1, 2, 3, 4])\n",
        "# data\n",
        "\n",
        "dato = np.array([190, 208, 137, 346])\n",
        "dato"
      ],
      "execution_count": null,
      "outputs": [
        {
          "output_type": "execute_result",
          "data": {
            "text/plain": [
              "array([190, 208, 137, 346])"
            ]
          },
          "metadata": {
            "tags": []
          },
          "execution_count": 89
        }
      ]
    },
    {
      "cell_type": "code",
      "metadata": {
        "colab": {
          "base_uri": "https://localhost:8080/",
          "height": 180
        },
        "id": "-UWCFCt62QPr",
        "outputId": "b41de232-0268-4a09-c9ba-a4239890ae0e"
      },
      "source": [
        "# data + data\n",
        "dato + dato"
      ],
      "execution_count": 1,
      "outputs": [
        {
          "output_type": "error",
          "ename": "NameError",
          "evalue": "ignored",
          "traceback": [
            "\u001b[0;31m---------------------------------------------------------------------------\u001b[0m",
            "\u001b[0;31mNameError\u001b[0m                                 Traceback (most recent call last)",
            "\u001b[0;32m<ipython-input-1-15072ce86201>\u001b[0m in \u001b[0;36m<module>\u001b[0;34m()\u001b[0m\n\u001b[1;32m      1\u001b[0m \u001b[0;31m# data + data\u001b[0m\u001b[0;34m\u001b[0m\u001b[0;34m\u001b[0m\u001b[0;34m\u001b[0m\u001b[0m\n\u001b[0;32m----> 2\u001b[0;31m \u001b[0mdato\u001b[0m \u001b[0;34m+\u001b[0m \u001b[0mdato\u001b[0m\u001b[0;34m\u001b[0m\u001b[0;34m\u001b[0m\u001b[0m\n\u001b[0m",
            "\u001b[0;31mNameError\u001b[0m: name 'dato' is not defined"
          ]
        }
      ]
    },
    {
      "cell_type": "code",
      "metadata": {
        "colab": {
          "base_uri": "https://localhost:8080/"
        },
        "id": "eAemqo2q2QPr",
        "outputId": "13ac0bc7-b775-4960-c35a-3a5ba0fdd5b8"
      },
      "source": [
        "\n",
        "%%time\n",
        "# Naive dot product\n",
        "(arreglo_datos * arreglo_datos).sum()  # según el video son 0 nanosegundos, tenemos diferencia de resultado"
      ],
      "execution_count": null,
      "outputs": [
        {
          "output_type": "stream",
          "text": [
            "CPU times: user 1.33 ms, sys: 0 ns, total: 1.33 ms\n",
            "Wall time: 884 µs\n"
          ],
          "name": "stdout"
        },
        {
          "output_type": "execute_result",
          "data": {
            "text/plain": [
              "333328333350000.0"
            ]
          },
          "metadata": {
            "tags": []
          },
          "execution_count": 93
        }
      ]
    },
    {
      "cell_type": "code",
      "metadata": {
        "colab": {
          "base_uri": "https://localhost:8080/"
        },
        "id": "TZYGs8ti2QPs",
        "outputId": "48eb2bca-856d-43f3-a623-8e0bc063b7c9"
      },
      "source": [
        "%%time\n",
        "# Built-in dot product.\n",
        "arreglo_datos.dot(arreglo_datos)#en el video esta opracion se hace en 0 ns. grrr"
      ],
      "execution_count": null,
      "outputs": [
        {
          "output_type": "stream",
          "text": [
            "CPU times: user 951 µs, sys: 1.05 ms, total: 2 ms\n",
            "Wall time: 1.5 ms\n"
          ],
          "name": "stdout"
        },
        {
          "output_type": "execute_result",
          "data": {
            "text/plain": [
              "333328333350000.0"
            ]
          },
          "metadata": {
            "tags": []
          },
          "execution_count": 97
        }
      ]
    },
    {
      "cell_type": "code",
      "metadata": {
        "colab": {
          "base_uri": "https://localhost:8080/"
        },
        "id": "J21TEhte2QPs",
        "outputId": "84951cda-3fba-4ae6-c9ad-be0e1ea105ca"
      },
      "source": [
        "%%time\n",
        "fortran_dot_product(arreglo_datos, arreglo_datos)"
      ],
      "execution_count": null,
      "outputs": [
        {
          "output_type": "stream",
          "text": [
            "CPU times: user 177 µs, sys: 10 µs, total: 187 µs\n",
            "Wall time: 192 µs\n"
          ],
          "name": "stdout"
        },
        {
          "output_type": "execute_result",
          "data": {
            "text/plain": [
              "333328333350000.0"
            ]
          },
          "metadata": {
            "tags": []
          },
          "execution_count": 98
        }
      ]
    },
    {
      "cell_type": "code",
      "metadata": {
        "id": "WZy5JdIw2QPt"
      },
      "source": [
        "# Numpy won't allow us to write a string into an int array.\n",
        "data[0] = \"foo\"\n",
        "dato[0]=\"mamam\" # no permite escribir un string "
      ],
      "execution_count": null,
      "outputs": []
    },
    {
      "cell_type": "code",
      "metadata": {
        "collapsed": true,
        "id": "Pm-ISIkF2QPt"
      },
      "source": [
        "# We also can't grow an array once it's created.\n",
        "# data.append(3)\n",
        "\n",
        "# dato.append(2)"
      ],
      "execution_count": null,
      "outputs": []
    },
    {
      "cell_type": "code",
      "metadata": {
        "collapsed": true,
        "colab": {
          "base_uri": "https://localhost:8080/"
        },
        "id": "G-sfCpge2QPt",
        "outputId": "4bd5286f-0bd1-430e-d5b5-08be3de9ac3d"
      },
      "source": [
        "\n",
        "# We **can** reshape an array though.\n",
        "# two_by_two = data.reshape(2, 2)\n",
        "# two_by_two\n",
        "\n",
        "re_array = dato.reshape(2, 2)\n",
        "re_array"
      ],
      "execution_count": null,
      "outputs": [
        {
          "output_type": "execute_result",
          "data": {
            "text/plain": [
              "array([[190, 208],\n",
              "       [137, 346]])"
            ]
          },
          "metadata": {
            "tags": []
          },
          "execution_count": 103
        }
      ]
    },
    {
      "cell_type": "markdown",
      "metadata": {
        "id": "T4_4_ty-2QPt"
      },
      "source": [
        "Numpy arrays are:\n",
        "\n",
        "- Fixed-type"
      ]
    },
    {
      "cell_type": "markdown",
      "metadata": {
        "id": "UB9qKbfY2QPt"
      },
      "source": [
        "- Size-immutable"
      ]
    },
    {
      "cell_type": "markdown",
      "metadata": {
        "id": "TNyBzn1W2QPt"
      },
      "source": [
        "- Multi-dimensional"
      ]
    },
    {
      "cell_type": "markdown",
      "metadata": {
        "id": "Ab1S4blM2QPu"
      },
      "source": [
        "- Fast\\*"
      ]
    },
    {
      "cell_type": "markdown",
      "metadata": {
        "id": "w1R6-qFt2QPu"
      },
      "source": [
        "\\* If you use them correctly."
      ]
    },
    {
      "cell_type": "markdown",
      "metadata": {
        "id": "FIaBE_2S2QPu"
      },
      "source": [
        "# What's in an Array?"
      ]
    },
    {
      "cell_type": "code",
      "metadata": {
        "colab": {
          "base_uri": "https://localhost:8080/"
        },
        "id": "L1kyz8pk2QPu",
        "outputId": "e861df9c-af79-4570-eecc-4d1c55e27eb6"
      },
      "source": [
        "# arr = np.array([1, 2, 3, 4, 5, 6], dtype='int16').reshape(2, 3)\n",
        "# print(\"Array:\\n\", arr, sep='')\n",
        "# print(\"===========\")\n",
        "# print(\"DType:\", arr.dtype)\n",
        "# print(\"Shape:\", arr.shape)\n",
        "# print(\"Strides:\", arr.strides)\n",
        "# print(\"Data:\", arr.data.tobytes())\n",
        "\n",
        "arreglo = np.array([1, 2, 8, 4, 5, 6,4,2,8], dtype='int16').reshape(3, 3)\n",
        "print(\"Arreglo pasado a 3x3:\\n\", arreglo, sep='')\n",
        "print(\"tipo de dato:\", arreglo.dtype)\n",
        "print(\"forma:\", arreglo.shape)\n",
        "print(\"Strides:\", arreglo.strides)\n",
        "print(\"dato:\", arreglo.data.tobytes())"
      ],
      "execution_count": 10,
      "outputs": [
        {
          "output_type": "stream",
          "text": [
            "Arreglo pasado a 3x3:\n",
            "[[1 2 8]\n",
            " [4 5 6]\n",
            " [4 2 8]]\n",
            "tipo de dato: int16\n",
            "forma: (3, 3)\n",
            "Strides: (6, 2)\n",
            "dato: b'\\x01\\x00\\x02\\x00\\x08\\x00\\x04\\x00\\x05\\x00\\x06\\x00\\x04\\x00\\x02\\x00\\x08\\x00'\n"
          ],
          "name": "stdout"
        }
      ]
    },
    {
      "cell_type": "markdown",
      "metadata": {
        "id": "rk-FtDio2QPu"
      },
      "source": [
        "# Core Operations\n",
        "\n",
        "- Vectorized **ufuncs** for elementwise operations.\n",
        "- Fancy indexing and masking for selection and filtering.\n",
        "- Aggregations across axes.\n",
        "- Broadcasting"
      ]
    },
    {
      "cell_type": "markdown",
      "metadata": {
        "id": "LJeHuMjv2QPu"
      },
      "source": [
        "# UFuncs\n",
        "\n",
        "UFuncs (universal functions) are functions that operate elementwise on one or more arrays."
      ]
    },
    {
      "cell_type": "code",
      "metadata": {
        "colab": {
          "base_uri": "https://localhost:8080/"
        },
        "id": "IfFW0PDE2QPv",
        "outputId": "a1b60675-cac9-408a-9b63-ac0b6f4cbf52"
      },
      "source": [
        "# data\n",
        "\n",
        "dato = np.arange(12).reshape(4, 3)\n",
        "dato\n"
      ],
      "execution_count": null,
      "outputs": [
        {
          "output_type": "execute_result",
          "data": {
            "text/plain": [
              "array([[ 0,  1,  2],\n",
              "       [ 3,  4,  5],\n",
              "       [ 6,  7,  8],\n",
              "       [ 9, 10, 11]])"
            ]
          },
          "metadata": {
            "tags": []
          },
          "execution_count": 109
        }
      ]
    },
    {
      "cell_type": "code",
      "metadata": {
        "colab": {
          "base_uri": "https://localhost:8080/"
        },
        "id": "e_UIUtSc2QPv",
        "outputId": "b34f5bb4-9c01-4b5f-d881-9e7cfc2f4fc9"
      },
      "source": [
        "\n",
        "# Binary operators.\n",
        "# data * data\n",
        "\n",
        "dato * dato"
      ],
      "execution_count": null,
      "outputs": [
        {
          "output_type": "execute_result",
          "data": {
            "text/plain": [
              "array([[  0,   1,   4],\n",
              "       [  9,  16,  25],\n",
              "       [ 36,  49,  64],\n",
              "       [ 81, 100, 121]])"
            ]
          },
          "metadata": {
            "tags": []
          },
          "execution_count": 111
        }
      ]
    },
    {
      "cell_type": "code",
      "metadata": {
        "colab": {
          "base_uri": "https://localhost:8080/"
        },
        "id": "oxMg6wFe2QPv",
        "outputId": "b686bae3-4405-4946-90fa-dc9fa3631017"
      },
      "source": [
        "# Unary functions.\n",
        "# np.sqrt(data)\n",
        "\n",
        "np.sqrt(dato)"
      ],
      "execution_count": null,
      "outputs": [
        {
          "output_type": "execute_result",
          "data": {
            "text/plain": [
              "array([[0.        , 1.        , 1.41421356],\n",
              "       [1.73205081, 2.        , 2.23606798],\n",
              "       [2.44948974, 2.64575131, 2.82842712],\n",
              "       [3.        , 3.16227766, 3.31662479]])"
            ]
          },
          "metadata": {
            "tags": []
          },
          "execution_count": 113
        }
      ]
    },
    {
      "cell_type": "code",
      "metadata": {
        "colab": {
          "base_uri": "https://localhost:8080/"
        },
        "id": "1F9A6PJj2QPw",
        "outputId": "bb633123-350a-43c6-b3bd-3b0ea19f492a"
      },
      "source": [
        "# Comparison operations\n",
        "# (data % 3) == 0\n",
        "\n",
        "(dato%5)==0"
      ],
      "execution_count": null,
      "outputs": [
        {
          "output_type": "execute_result",
          "data": {
            "text/plain": [
              "array([[ True, False, False],\n",
              "       [False, False,  True],\n",
              "       [False, False, False],\n",
              "       [False,  True, False]])"
            ]
          },
          "metadata": {
            "tags": []
          },
          "execution_count": 115
        }
      ]
    },
    {
      "cell_type": "code",
      "metadata": {
        "colab": {
          "base_uri": "https://localhost:8080/"
        },
        "id": "3TjYMdAu2QPw",
        "outputId": "69f48e95-073f-4a43-b558-58bc47d462d0"
      },
      "source": [
        "# Boolean combinators.\n",
        "((dato % 2) == 0) & ((dato % 3) == 0)"
      ],
      "execution_count": null,
      "outputs": [
        {
          "output_type": "execute_result",
          "data": {
            "text/plain": [
              "array([[ True, False, False],\n",
              "       [False, False, False],\n",
              "       [ True, False, False],\n",
              "       [False, False, False]])"
            ]
          },
          "metadata": {
            "tags": []
          },
          "execution_count": 116
        }
      ]
    },
    {
      "cell_type": "code",
      "metadata": {
        "colab": {
          "base_uri": "https://localhost:8080/"
        },
        "id": "AHy4wU5P2QPw",
        "outputId": "6c4b902f-b45e-43c3-c3bf-323f32e2efbc"
      },
      "source": [
        "# as of python 3.5, @ is matrix-multiply\n",
        "# data @ data.T\n",
        "\n",
        "dato @ dato.T"
      ],
      "execution_count": null,
      "outputs": [
        {
          "output_type": "execute_result",
          "data": {
            "text/plain": [
              "array([[  5,  14,  23,  32],\n",
              "       [ 14,  50,  86, 122],\n",
              "       [ 23,  86, 149, 212],\n",
              "       [ 32, 122, 212, 302]])"
            ]
          },
          "metadata": {
            "tags": []
          },
          "execution_count": 118
        }
      ]
    },
    {
      "cell_type": "markdown",
      "metadata": {
        "id": "ICcxIr8o2QPx"
      },
      "source": [
        "# UFuncs Review\n",
        "\n",
        "- UFuncs provide efficient elementwise operations applied across one or more arrays.\n",
        "- Arithmetic Operators (`+`, `*`, `/`)\n",
        "- Comparisons (`==`, `>`, `!=`)\n",
        "- Boolean Operators (`&`, `|`, `^`)\n",
        "- Trigonometric Functions (`sin`, `cos`)\n",
        "- Transcendental Functions (`exp`, `log`)"
      ]
    },
    {
      "cell_type": "markdown",
      "metadata": {
        "id": "W2L5rq_X2QPx"
      },
      "source": [
        "# Selections"
      ]
    },
    {
      "cell_type": "markdown",
      "metadata": {
        "id": "pGuaTDMM2QPy"
      },
      "source": [
        "We often want to perform an operation on just a subset of our data."
      ]
    },
    {
      "cell_type": "code",
      "metadata": {
        "id": "aSfarfk1Eode"
      },
      "source": [
        "import math as mt"
      ],
      "execution_count": 12,
      "outputs": []
    },
    {
      "cell_type": "code",
      "metadata": {
        "colab": {
          "base_uri": "https://localhost:8080/"
        },
        "id": "RdmyacDn2QPy",
        "outputId": "a9cbe665-aedd-44a7-8fc8-c0740b5fd990"
      },
      "source": [
        "\n",
        "# sines = np.sin(np.linspace(0, 3.14, 10))\n",
        "# cosines = np.cos(np.linspace(0, 3.14, 10))\n",
        "# sines\n",
        "\n",
        "senos = np.sin(np.linspace(0, mt.pi, 8))\n",
        "cosenos = np.cos(np.linspace(0,mt.pi, 8))\n",
        "print(senos)\n",
        "# print(cosenos)"
      ],
      "execution_count": 13,
      "outputs": [
        {
          "output_type": "stream",
          "text": [
            "[0.00000000e+00 4.33883739e-01 7.81831482e-01 9.74927912e-01\n",
            " 9.74927912e-01 7.81831482e-01 4.33883739e-01 1.22464680e-16]\n"
          ],
          "name": "stdout"
        }
      ]
    },
    {
      "cell_type": "code",
      "metadata": {
        "colab": {
          "base_uri": "https://localhost:8080/"
        },
        "id": "VRG3bMUU2QPy",
        "outputId": "4c9450ed-fe92-49fd-897f-aa7f78af3129"
      },
      "source": [
        "# Slicing works with the same semantics as Python lists.\n",
        "# sines[0]\n",
        "\n",
        "senos[1]"
      ],
      "execution_count": 14,
      "outputs": [
        {
          "output_type": "execute_result",
          "data": {
            "text/plain": [
              "0.4338837391175581"
            ]
          },
          "metadata": {
            "tags": []
          },
          "execution_count": 14
        }
      ]
    },
    {
      "cell_type": "code",
      "metadata": {
        "colab": {
          "base_uri": "https://localhost:8080/"
        },
        "id": "f8kVNmm52QPz",
        "outputId": "08ac81eb-2c89-403a-87f1-ba10eaf60bb3"
      },
      "source": [
        "# sines[:3]  # First three elements  \n",
        "\n",
        "senos[:5]"
      ],
      "execution_count": 15,
      "outputs": [
        {
          "output_type": "execute_result",
          "data": {
            "text/plain": [
              "array([0.        , 0.43388374, 0.78183148, 0.97492791, 0.97492791])"
            ]
          },
          "metadata": {
            "tags": []
          },
          "execution_count": 15
        }
      ]
    },
    {
      "cell_type": "code",
      "metadata": {
        "colab": {
          "base_uri": "https://localhost:8080/"
        },
        "id": "ZnrlwlIC2QPz",
        "outputId": "66697c29-4670-4c10-8938-8e23e006998e"
      },
      "source": [
        "# sines[5:]  # Elements from 5 on.\n",
        "\n",
        "senos[3:]"
      ],
      "execution_count": 16,
      "outputs": [
        {
          "output_type": "execute_result",
          "data": {
            "text/plain": [
              "array([9.74927912e-01, 9.74927912e-01, 7.81831482e-01, 4.33883739e-01,\n",
              "       1.22464680e-16])"
            ]
          },
          "metadata": {
            "tags": []
          },
          "execution_count": 16
        }
      ]
    },
    {
      "cell_type": "code",
      "metadata": {
        "colab": {
          "base_uri": "https://localhost:8080/"
        },
        "id": "J0QmZq8T2QPz",
        "outputId": "1e470ad6-77f5-469b-89bb-2dd095834de0"
      },
      "source": [
        "\n",
        "# sines[::2]  # Every other element.\n",
        "\n",
        "senos[::3]"
      ],
      "execution_count": 17,
      "outputs": [
        {
          "output_type": "execute_result",
          "data": {
            "text/plain": [
              "array([0.        , 0.97492791, 0.43388374])"
            ]
          },
          "metadata": {
            "tags": []
          },
          "execution_count": 17
        }
      ]
    },
    {
      "cell_type": "code",
      "metadata": {
        "colab": {
          "base_uri": "https://localhost:8080/"
        },
        "id": "A5xEuiUl2QP0",
        "outputId": "8e23eaae-af75-4262-fd23-2c6eeccb4e44"
      },
      "source": [
        "# More interesting: we can index with boolean arrays to filter by a predicate.\n",
        "# print(\"sines:\\n\", sines)\n",
        "# print(\"sines > 0.5:\\n\", sines > 0.5)\n",
        "# print(\"sines[sines > 0.5]:\\n\", sines[sines > 0.5])\n",
        "\n",
        "print(\"senos:\\n\", senos)\n",
        "print(\"senos > 0.5:\\n\", senos > .6)\n",
        "print(\"senos[senos > 0.5]:\\n\", senos[senos > .4])"
      ],
      "execution_count": 20,
      "outputs": [
        {
          "output_type": "stream",
          "text": [
            "senos:\n",
            " [0.00000000e+00 4.33883739e-01 7.81831482e-01 9.74927912e-01\n",
            " 9.74927912e-01 7.81831482e-01 4.33883739e-01 1.22464680e-16]\n",
            "senos > 0.5:\n",
            " [False False  True  True  True  True False False]\n",
            "senos[senos > 0.5]:\n",
            " [0.43388374 0.78183148 0.97492791 0.97492791 0.78183148 0.43388374]\n"
          ],
          "name": "stdout"
        }
      ]
    },
    {
      "cell_type": "code",
      "metadata": {
        "colab": {
          "base_uri": "https://localhost:8080/"
        },
        "id": "c_PJrejg2QP0",
        "outputId": "cc54f4d5-3edf-4e0b-ede3-5a8f14c7ded7"
      },
      "source": [
        "\n",
        "# We index with lists/arrays of integers to select values at those indices.\n",
        "# print(sines)\n",
        "# sines[[0, 4, 7]]\n",
        "\n",
        "print(cosenos)\n",
        "cosenos[[1, 2, 5]]"
      ],
      "execution_count": 19,
      "outputs": [
        {
          "output_type": "stream",
          "text": [
            "[ 1.          0.90096887  0.6234898   0.22252093 -0.22252093 -0.6234898\n",
            " -0.90096887 -1.        ]\n"
          ],
          "name": "stdout"
        },
        {
          "output_type": "execute_result",
          "data": {
            "text/plain": [
              "array([ 0.90096887,  0.6234898 , -0.6234898 ])"
            ]
          },
          "metadata": {
            "tags": []
          },
          "execution_count": 19
        }
      ]
    },
    {
      "cell_type": "code",
      "metadata": {
        "collapsed": true,
        "id": "QKdeydiX2QP0"
      },
      "source": [
        "# Index arrays are often used for sorting one or more arrays.\n",
        "# unsorted_data = np.array([1, 3, 2, 12, -1, 5, 2])\n",
        "\n",
        "datos_desordenados = np.array([1, 9, 5, 23, -5, 6, 22])"
      ],
      "execution_count": 22,
      "outputs": []
    },
    {
      "cell_type": "code",
      "metadata": {
        "colab": {
          "base_uri": "https://localhost:8080/"
        },
        "id": "Vj6Dm1xz2QP1",
        "outputId": "25d8eccf-2142-4053-dfa2-1044717022a0"
      },
      "source": [
        "\n",
        "# sort_indices = np.argsort(unsorted_data)\n",
        "# sort_indices\n",
        "\n",
        "ind_ord = np.argsort(datos_desordenados)\n",
        "ind_ord"
      ],
      "execution_count": 23,
      "outputs": [
        {
          "output_type": "execute_result",
          "data": {
            "text/plain": [
              "array([4, 0, 2, 5, 1, 6, 3])"
            ]
          },
          "metadata": {
            "tags": []
          },
          "execution_count": 23
        }
      ]
    },
    {
      "cell_type": "code",
      "metadata": {
        "colab": {
          "base_uri": "https://localhost:8080/"
        },
        "id": "5K50uA4x2QP1",
        "outputId": "7867d22c-5ca4-4f62-814b-2d4a555ee894"
      },
      "source": [
        "# unsorted_data[sort_indices]\n",
        "\n",
        "datos_desordenados[ind_ord]"
      ],
      "execution_count": 40,
      "outputs": [
        {
          "output_type": "execute_result",
          "data": {
            "text/plain": [
              "array([-5,  1,  5,  6,  9, 22, 23])"
            ]
          },
          "metadata": {
            "tags": []
          },
          "execution_count": 40
        }
      ]
    },
    {
      "cell_type": "code",
      "metadata": {
        "collapsed": true,
        "id": "9VTYcgSh2QP1"
      },
      "source": [
        "# market_caps = np.array([12, 6, 10, 5, 6])  # Presumably in dollars?\n",
        "# assets = np.array(['A', 'B', 'C', 'D', 'E'])\n",
        "\n",
        "mc = np.array([65, 63, 101, 57, 63])\n",
        "assets = np.array(['A', 'B', 'C', 'D', 'E'])"
      ],
      "execution_count": 25,
      "outputs": []
    },
    {
      "cell_type": "code",
      "metadata": {
        "colab": {
          "base_uri": "https://localhost:8080/"
        },
        "id": "P91VQ9GU2QP2",
        "outputId": "9da81146-eda8-404b-85c3-4e4f82ba7cfc"
      },
      "source": [
        "\n",
        "# Sort assets by market cap by using the permutation that would sort market caps on ``assets``.\n",
        "sort_by_mc = np.argsort(mc)\n",
        "assets[sort_by_mc]"
      ],
      "execution_count": 38,
      "outputs": [
        {
          "output_type": "execute_result",
          "data": {
            "text/plain": [
              "array(['D', 'B', 'E', 'A', 'C'], dtype='<U1')"
            ]
          },
          "metadata": {
            "tags": []
          },
          "execution_count": 38
        }
      ]
    },
    {
      "cell_type": "code",
      "metadata": {
        "scrolled": true,
        "id": "YQvrltHr2QP2",
        "colab": {
          "base_uri": "https://localhost:8080/"
        },
        "outputId": "01aba330-963c-412e-beca-f2ec534a71e2"
      },
      "source": [
        "# Indexers are also useful for aligning data.\n",
        "print(\"Dates:\\n\", repr(event_dates))\n",
        "print(\"Values:\\n\", repr(event_values))\n",
        "print(\"Calendar:\\n\", repr(calendar))"
      ],
      "execution_count": 41,
      "outputs": [
        {
          "output_type": "stream",
          "text": [
            "Dates:\n",
            " array(['2017-01-06', '2017-01-07', '2017-01-08'], dtype='datetime64[D]')\n",
            "Values:\n",
            " array([10, 15, 20])\n",
            "Calendar:\n",
            " array(['2017-01-03', '2017-01-04', '2017-01-05', '2017-01-06',\n",
            "       '2017-01-09', '2017-01-10', '2017-01-11', '2017-01-12',\n",
            "       '2017-01-13', '2017-01-17', '2017-01-18', '2017-01-19',\n",
            "       '2017-01-20', '2017-01-23', '2017-01-24', '2017-01-25',\n",
            "       '2017-01-26', '2017-01-27', '2017-01-30', '2017-01-31',\n",
            "       '2017-02-01'], dtype='datetime64[D]')\n"
          ],
          "name": "stdout"
        }
      ]
    },
    {
      "cell_type": "code",
      "metadata": {
        "id": "lgih3i6J2QP2",
        "colab": {
          "base_uri": "https://localhost:8080/"
        },
        "outputId": "c5884d87-c11a-46d8-95f2-609d1a876a4b"
      },
      "source": [
        "print(\"Raw Dates:\", event_dates)\n",
        "print(\"Indices:\", calendar.searchsorted(event_dates))\n",
        "print(\"Forward-Filled Dates:\", calendar[calendar.searchsorted(event_dates)])"
      ],
      "execution_count": 32,
      "outputs": [
        {
          "output_type": "stream",
          "text": [
            "Raw Dates: ['2017-01-06' '2017-01-07' '2017-01-08']\n",
            "Indices: [3 4 4]\n",
            "Forward-Filled Dates: ['2017-01-06' '2017-01-09' '2017-01-09']\n"
          ],
          "name": "stdout"
        }
      ]
    },
    {
      "cell_type": "markdown",
      "metadata": {
        "id": "EQRY06vG2QP3"
      },
      "source": [
        "On multi-dimensional arrays, we can slice along each axis independently."
      ]
    },
    {
      "cell_type": "code",
      "metadata": {
        "id": "jUeZtlax2QP3",
        "colab": {
          "base_uri": "https://localhost:8080/"
        },
        "outputId": "5e6ee6a5-9e52-4e20-842b-68eeddd2fec0"
      },
      "source": [
        "# data = np.arange(25).reshape(5, 5)\n",
        "# data\n",
        "\n",
        "dato = np.arange(63).reshape(7, 9)\n",
        "dato"
      ],
      "execution_count": 43,
      "outputs": [
        {
          "output_type": "execute_result",
          "data": {
            "text/plain": [
              "array([[ 0,  1,  2,  3,  4,  5,  6,  7,  8],\n",
              "       [ 9, 10, 11, 12, 13, 14, 15, 16, 17],\n",
              "       [18, 19, 20, 21, 22, 23, 24, 25, 26],\n",
              "       [27, 28, 29, 30, 31, 32, 33, 34, 35],\n",
              "       [36, 37, 38, 39, 40, 41, 42, 43, 44],\n",
              "       [45, 46, 47, 48, 49, 50, 51, 52, 53],\n",
              "       [54, 55, 56, 57, 58, 59, 60, 61, 62]])"
            ]
          },
          "metadata": {
            "tags": []
          },
          "execution_count": 43
        }
      ]
    },
    {
      "cell_type": "code",
      "metadata": {
        "id": "mMWivySz2QP3",
        "colab": {
          "base_uri": "https://localhost:8080/"
        },
        "outputId": "ce322f5f-0e07-43fa-82ee-9b2f9505d3c4"
      },
      "source": [
        "# data[:2, :2]  # First two rows and first two columns.\n",
        "\n",
        "dato[:4, :2]"
      ],
      "execution_count": 49,
      "outputs": [
        {
          "output_type": "execute_result",
          "data": {
            "text/plain": [
              "array([[ 0,  1],\n",
              "       [ 9, 10],\n",
              "       [18, 19],\n",
              "       [27, 28]])"
            ]
          },
          "metadata": {
            "tags": []
          },
          "execution_count": 49
        }
      ]
    },
    {
      "cell_type": "code",
      "metadata": {
        "id": "zglzKiQL2QP4",
        "colab": {
          "base_uri": "https://localhost:8080/"
        },
        "outputId": "7f692de7-0fd5-4f2a-f748-97d074799471"
      },
      "source": [
        "# data[:2, [0, -2]]  # First two rows, first and last columns.\n",
        "\n",
        "dato[:7,[3,-1]]"
      ],
      "execution_count": 48,
      "outputs": [
        {
          "output_type": "execute_result",
          "data": {
            "text/plain": [
              "array([[ 3,  8],\n",
              "       [12, 17],\n",
              "       [21, 26],\n",
              "       [30, 35],\n",
              "       [39, 44],\n",
              "       [48, 53],\n",
              "       [57, 62]])"
            ]
          },
          "metadata": {
            "tags": []
          },
          "execution_count": 48
        }
      ]
    },
    {
      "cell_type": "code",
      "metadata": {
        "id": "GfzKoOQc2QP4",
        "colab": {
          "base_uri": "https://localhost:8080/"
        },
        "outputId": "608f43a8-9154-4c33-e93b-3e432f92ae7d"
      },
      "source": [
        "# data[(data[:, 0] % 2) == 0]  # Rows where the first column is divisible by two.\n",
        "\n",
        "dato[(dato[:,4]%2)==0]"
      ],
      "execution_count": 47,
      "outputs": [
        {
          "output_type": "execute_result",
          "data": {
            "text/plain": [
              "array([[ 0,  1,  2,  3,  4,  5,  6,  7,  8],\n",
              "       [18, 19, 20, 21, 22, 23, 24, 25, 26],\n",
              "       [36, 37, 38, 39, 40, 41, 42, 43, 44],\n",
              "       [54, 55, 56, 57, 58, 59, 60, 61, 62]])"
            ]
          },
          "metadata": {
            "tags": []
          },
          "execution_count": 47
        }
      ]
    },
    {
      "cell_type": "markdown",
      "metadata": {
        "id": "cmiUZCNb2QP4"
      },
      "source": [
        "# Selections Review\n",
        "\n",
        "- Indexing with an integer removes a dimension.\n",
        "- Slicing operations work on Numpy arrays the same way they do on lists.\n",
        "- Indexing with a boolean array filters to True locations.\n",
        "- Indexing with an integer array selects indices along an axis.\n",
        "- Multidimensional arrays can apply selections independently along different axes."
      ]
    },
    {
      "cell_type": "markdown",
      "metadata": {
        "id": "Hdg_qTng2QP4"
      },
      "source": [
        "## Reductions\n",
        "\n",
        "Functions that reduce an array to a scalar."
      ]
    },
    {
      "cell_type": "markdown",
      "metadata": {
        "id": "y7DpZ6kk2QP5"
      },
      "source": [
        "$Var(X) = \\frac{1}{N}\\sqrt{\\sum_{i=1}^N (x_i - \\bar{x})^2}$"
      ]
    },
    {
      "cell_type": "code",
      "metadata": {
        "collapsed": true,
        "id": "R9PhaQqc2QP7"
      },
      "source": [
        " def variance(x):\n",
        "    return ((x - x.mean()) ** 2).sum() / len(x)"
      ],
      "execution_count": 58,
      "outputs": []
    },
    {
      "cell_type": "code",
      "metadata": {
        "id": "F37a881-2QP8",
        "colab": {
          "base_uri": "https://localhost:8080/"
        },
        "outputId": "efd6b053-e182-4fff-e606-79235fe3d4c4"
      },
      "source": [
        "variance(np.random.standard_normal(1000))"
      ],
      "execution_count": 52,
      "outputs": [
        {
          "output_type": "execute_result",
          "data": {
            "text/plain": [
              "0.9800877957820535"
            ]
          },
          "metadata": {
            "tags": []
          },
          "execution_count": 52
        }
      ]
    },
    {
      "cell_type": "markdown",
      "metadata": {
        "id": "7QvVC4cm2QP8"
      },
      "source": [
        "- `sum()` and `mean()` are both **reductions**."
      ]
    },
    {
      "cell_type": "markdown",
      "metadata": {
        "id": "_AEvb0372QP8"
      },
      "source": [
        "- In the simplest case, we use these to reduce an entire array into a single value..."
      ]
    },
    {
      "cell_type": "code",
      "metadata": {
        "id": "Xp5vELvn2QP8",
        "colab": {
          "base_uri": "https://localhost:8080/"
        },
        "outputId": "3934390c-dcc1-46be-ad3c-68fc4858602f"
      },
      "source": [
        "data = np.arange(30)\n",
        "data.mean()"
      ],
      "execution_count": 53,
      "outputs": [
        {
          "output_type": "execute_result",
          "data": {
            "text/plain": [
              "14.5"
            ]
          },
          "metadata": {
            "tags": []
          },
          "execution_count": 53
        }
      ]
    },
    {
      "cell_type": "markdown",
      "metadata": {
        "id": "-0G-zzvP2QP8"
      },
      "source": [
        "- ...but we can do more interesting things with multi-dimensional arrays."
      ]
    },
    {
      "cell_type": "code",
      "metadata": {
        "id": "XYR2ovTw2QP8",
        "colab": {
          "base_uri": "https://localhost:8080/"
        },
        "outputId": "45ca3f12-edbc-407b-d44b-de11a75ec2ef"
      },
      "source": [
        "data = np.arange(30).reshape(3, 10)\n",
        "data"
      ],
      "execution_count": 54,
      "outputs": [
        {
          "output_type": "execute_result",
          "data": {
            "text/plain": [
              "array([[ 0,  1,  2,  3,  4,  5,  6,  7,  8,  9],\n",
              "       [10, 11, 12, 13, 14, 15, 16, 17, 18, 19],\n",
              "       [20, 21, 22, 23, 24, 25, 26, 27, 28, 29]])"
            ]
          },
          "metadata": {
            "tags": []
          },
          "execution_count": 54
        }
      ]
    },
    {
      "cell_type": "code",
      "metadata": {
        "id": "XfTpBVhm2QP9",
        "colab": {
          "base_uri": "https://localhost:8080/"
        },
        "outputId": "37984cc1-3559-4f96-befc-e8140ca4b49a"
      },
      "source": [
        "data.mean()"
      ],
      "execution_count": 55,
      "outputs": [
        {
          "output_type": "execute_result",
          "data": {
            "text/plain": [
              "14.5"
            ]
          },
          "metadata": {
            "tags": []
          },
          "execution_count": 55
        }
      ]
    },
    {
      "cell_type": "code",
      "metadata": {
        "id": "K0c5gUyE2QP9",
        "colab": {
          "base_uri": "https://localhost:8080/"
        },
        "outputId": "56d2d321-04b4-44c4-8f7a-201b95d260f9"
      },
      "source": [
        "data.mean(axis=0)"
      ],
      "execution_count": 56,
      "outputs": [
        {
          "output_type": "execute_result",
          "data": {
            "text/plain": [
              "array([10., 11., 12., 13., 14., 15., 16., 17., 18., 19.])"
            ]
          },
          "metadata": {
            "tags": []
          },
          "execution_count": 56
        }
      ]
    },
    {
      "cell_type": "code",
      "metadata": {
        "id": "feXgWD6B2QP9",
        "colab": {
          "base_uri": "https://localhost:8080/"
        },
        "outputId": "ee09f5f7-0dff-46a9-c76c-6e0db758f152"
      },
      "source": [
        "data.mean(axis=1)"
      ],
      "execution_count": 57,
      "outputs": [
        {
          "output_type": "execute_result",
          "data": {
            "text/plain": [
              "array([ 4.5, 14.5, 24.5])"
            ]
          },
          "metadata": {
            "tags": []
          },
          "execution_count": 57
        }
      ]
    },
    {
      "cell_type": "markdown",
      "metadata": {
        "id": "ZKezKzo-2QP9"
      },
      "source": [
        "## Reductions Review\n",
        "\n",
        "- Reductions allow us to perform efficient aggregations over arrays.\n",
        "- We can do aggregations over a single axis to collapse a single dimension.\n",
        "- Many built-in reductions (`mean`, `sum`, `min`, `max`, `median`, ...)."
      ]
    },
    {
      "cell_type": "markdown",
      "metadata": {
        "id": "LNdtZaVx2QP9"
      },
      "source": [
        "# Broadcasting"
      ]
    },
    {
      "cell_type": "code",
      "metadata": {
        "id": "vdDVAl__2QP9",
        "colab": {
          "base_uri": "https://localhost:8080/"
        },
        "outputId": "60e6669d-b241-4ecb-c9c4-fd9ff0d7e5ac"
      },
      "source": [
        "\n",
        "# row = np.array([1, 2, 3, 4])\n",
        "# column = np.array([[1], [2], [3]])\n",
        "# print(\"Row:\\n\", row, sep='')\n",
        "# print(\"Column:\\n\", column, sep='')\n",
        "\n",
        "fila = np.array([8, 21, 5, 79956])\n",
        "columna = np.array([[1], [21], [13]])\n",
        "print(\"fila:\", fila, sep='')\n",
        "print(\"columna:\", columna, sep='')"
      ],
      "execution_count": 60,
      "outputs": [
        {
          "output_type": "stream",
          "text": [
            "fila:[    8    21     5 79956]\n",
            "columna:[[ 1]\n",
            " [21]\n",
            " [13]]\n"
          ],
          "name": "stdout"
        }
      ]
    },
    {
      "cell_type": "code",
      "metadata": {
        "id": "vrZ-Ocsk2QP-",
        "colab": {
          "base_uri": "https://localhost:8080/"
        },
        "outputId": "99053fd2-d8cb-4ad4-b1d3-7ebee4e373e1"
      },
      "source": [
        "\n",
        "# row + column\n",
        "\n",
        "fila + columna"
      ],
      "execution_count": 61,
      "outputs": [
        {
          "output_type": "execute_result",
          "data": {
            "text/plain": [
              "array([[    9,    22,     6, 79957],\n",
              "       [   29,    42,    26, 79977],\n",
              "       [   21,    34,    18, 79969]])"
            ]
          },
          "metadata": {
            "tags": []
          },
          "execution_count": 61
        }
      ]
    },
    {
      "cell_type": "markdown",
      "metadata": {
        "id": "8kwkQeKK2QP-"
      },
      "source": [
        "<center><img src=\"images/broadcasting.png\" alt=\"Drawing\" style=\"width: 60%;\"/></center>\n",
        "\n",
        "<h5>Source: http://www.scipy-lectures.org/_images/numpy_broadcasting.png</h5>"
      ]
    },
    {
      "cell_type": "code",
      "metadata": {
        "id": "mlo8CkA72QP-",
        "colab": {
          "base_uri": "https://localhost:8080/"
        },
        "outputId": "7f2acb95-0d59-484c-bdc0-4c2d861e6deb"
      },
      "source": [
        "# print(\"Data:\\n\", data, sep='')\n",
        "# print(\"Mean:\\n\", data.mean(axis=0), sep='')\n",
        "# print(\"Data - Mean:\\n\", data - data.mean(axis=0), sep='')\n",
        "\n",
        "print(\"dato:\\n\", dato, sep='')\n",
        "print(\"media:\\n\", dato.mean(axis=0), sep='')\n",
        "print(\"dato - Mean:\\n\", dato - dato.mean(axis=0), sep='')"
      ],
      "execution_count": 63,
      "outputs": [
        {
          "output_type": "stream",
          "text": [
            "dato:\n",
            "[[ 0  1  2  3  4  5  6  7  8]\n",
            " [ 9 10 11 12 13 14 15 16 17]\n",
            " [18 19 20 21 22 23 24 25 26]\n",
            " [27 28 29 30 31 32 33 34 35]\n",
            " [36 37 38 39 40 41 42 43 44]\n",
            " [45 46 47 48 49 50 51 52 53]\n",
            " [54 55 56 57 58 59 60 61 62]]\n",
            "media:\n",
            "[27. 28. 29. 30. 31. 32. 33. 34. 35.]\n",
            "dato - Mean:\n",
            "[[-27. -27. -27. -27. -27. -27. -27. -27. -27.]\n",
            " [-18. -18. -18. -18. -18. -18. -18. -18. -18.]\n",
            " [ -9.  -9.  -9.  -9.  -9.  -9.  -9.  -9.  -9.]\n",
            " [  0.   0.   0.   0.   0.   0.   0.   0.   0.]\n",
            " [  9.   9.   9.   9.   9.   9.   9.   9.   9.]\n",
            " [ 18.  18.  18.  18.  18.  18.  18.  18.  18.]\n",
            " [ 27.  27.  27.  27.  27.  27.  27.  27.  27.]]\n"
          ],
          "name": "stdout"
        }
      ]
    },
    {
      "cell_type": "markdown",
      "metadata": {
        "id": "uvVWwHdv2QP-"
      },
      "source": [
        "# Broadcasting Review\n",
        "\n",
        "- Numpy operations can work on arrays of different dimensions as long as the arrays' shapes are still \"compatible\".\n",
        "- Broadcasting works by \"tiling\" the smaller array along the missing dimension.\n",
        "- The result of a broadcasted operation is always at least as large in each dimension as the largest array in that dimension."
      ]
    },
    {
      "cell_type": "markdown",
      "metadata": {
        "id": "hJqtb4g82QP-"
      },
      "source": [
        "# Numpy Review"
      ]
    },
    {
      "cell_type": "markdown",
      "metadata": {
        "id": "n9h47Q592QP_"
      },
      "source": [
        "- Numerical algorithms are slow in pure Python because the overhead dynamic dispatch dominates our runtime."
      ]
    },
    {
      "cell_type": "markdown",
      "metadata": {
        "id": "BkGQcXlO2QP_"
      },
      "source": [
        "- Numpy solves this problem by:\n",
        "  1. Imposing additional restrictions on the contents of arrays.\n",
        "  2. Moving the inner loops of our algorithms into compiled C code."
      ]
    },
    {
      "cell_type": "markdown",
      "metadata": {
        "id": "DpnVcTxZ2QP_"
      },
      "source": [
        "- Using Numpy effectively often requires reworking an algorithms to use vectorized operations instead of for-loops, but the resulting operations are usually simpler, clearer, and faster than the pure Python equivalent."
      ]
    },
    {
      "cell_type": "markdown",
      "metadata": {
        "id": "X5_aaMyX2QP_"
      },
      "source": [
        "<center><img src=\"images/unicorn.jpg\" alt=\"Drawing\" style=\"width: 75%;\"/></center>"
      ]
    },
    {
      "cell_type": "markdown",
      "metadata": {
        "id": "6h6qj2hW2QP_"
      },
      "source": [
        "Numpy is great for many things, but..."
      ]
    },
    {
      "cell_type": "markdown",
      "metadata": {
        "id": "2p8G39pg2QP_"
      },
      "source": [
        "- Sometimes our data is equipped with a natural set of **labels**:\n",
        "  - Dates/Times\n",
        "  - Stock Tickers\n",
        "  - Field Names (e.g. Open/High/Low/Close)"
      ]
    },
    {
      "cell_type": "markdown",
      "metadata": {
        "id": "ygfUH_ZT2QP_"
      },
      "source": [
        "- Sometimes we have **more than one type of data** that we want to keep grouped together.\n",
        "  - Tables with a mix of real-valued and categorical data."
      ]
    },
    {
      "cell_type": "markdown",
      "metadata": {
        "id": "8ORHYMtd2QP_"
      },
      "source": [
        "- Sometimes we have **missing** data, which we need to ignore, fill, or otherwise work around."
      ]
    },
    {
      "cell_type": "markdown",
      "metadata": {
        "id": "Sj3tNg0E2QQA"
      },
      "source": [
        "<center><img src=\"images/panda-wrangling.gif\" alt=\"Drawing\" style=\"width: 75%;\"/></center>"
      ]
    },
    {
      "cell_type": "markdown",
      "metadata": {
        "id": "4-R4gGNA2QQA"
      },
      "source": [
        "<center><img src=\"images/pandas_logo.png\" alt=\"Drawing\" style=\"width: 75%;\"/></center>\n"
      ]
    },
    {
      "cell_type": "markdown",
      "metadata": {
        "id": "sh4F0k-x2QQA"
      },
      "source": [
        "Pandas extends Numpy with more complex data structures:\n",
        "\n",
        "- `Series`: 1-dimensional, homogenously-typed, labelled array.\n",
        "- `DataFrame`: 2-dimensional, semi-homogenous, labelled table."
      ]
    },
    {
      "cell_type": "markdown",
      "metadata": {
        "id": "71QvP4pk2QQA"
      },
      "source": [
        "Pandas also provides many utilities for: \n",
        "- Input/Output\n",
        "- Data Cleaning\n",
        "- Rolling Algorithms\n",
        "- Plotting"
      ]
    },
    {
      "cell_type": "markdown",
      "metadata": {
        "id": "iG_IOYyn2QQA"
      },
      "source": [
        "# Selection in Pandas"
      ]
    },
    {
      "cell_type": "code",
      "metadata": {
        "id": "tznDIvGz2QQB",
        "colab": {
          "base_uri": "https://localhost:8080/"
        },
        "outputId": "b9a34c87-05fe-4e84-ef96-4429180c44e7"
      },
      "source": [
        "# s = pd.Series(index=['a', 'b', 'c', 'd', 'e'], data=[1, 2, 3, 4, 5])\n",
        "# s\n",
        "\n",
        "s = pd.Series(index=['a', 'b', 'c', 'd', 'e'], data=[450, 120, 740, 840, 190])\n",
        "print(s, type(s))"
      ],
      "execution_count": 66,
      "outputs": [
        {
          "output_type": "stream",
          "text": [
            "a    450\n",
            "b    120\n",
            "c    740\n",
            "d    840\n",
            "e    190\n",
            "dtype: int64 <class 'pandas.core.series.Series'>\n"
          ],
          "name": "stdout"
        }
      ]
    },
    {
      "cell_type": "code",
      "metadata": {
        "id": "zbEnNznC2QQB",
        "colab": {
          "base_uri": "https://localhost:8080/"
        },
        "outputId": "28f0e31c-114b-4efd-e589-e737f411ea38"
      },
      "source": [
        "# There are two pieces to a Series: the index and the values.\n",
        "print(\"The index is:\", s.index)\n",
        "print(\"The values are:\", s.values)"
      ],
      "execution_count": 67,
      "outputs": [
        {
          "output_type": "stream",
          "text": [
            "The index is: Index(['a', 'b', 'c', 'd', 'e'], dtype='object')\n",
            "The values are: [450 120 740 840 190]\n"
          ],
          "name": "stdout"
        }
      ]
    },
    {
      "cell_type": "code",
      "metadata": {
        "id": "6DrasCjO2QQB",
        "colab": {
          "base_uri": "https://localhost:8080/"
        },
        "outputId": "1e172d9b-49b4-4400-b23d-ce8e2933049c"
      },
      "source": [
        "# There are two pieces to a Series: the index and the values.\n",
        "print(\"The index is:\", s.index)\n",
        "print(\"The values are:\", s.values)"
      ],
      "execution_count": 72,
      "outputs": [
        {
          "output_type": "stream",
          "text": [
            "The index is: Index(['a', 'b', 'c', 'd', 'e'], dtype='object')\n",
            "The values are: [450 120 740 840 190]\n"
          ],
          "name": "stdout"
        }
      ]
    },
    {
      "cell_type": "code",
      "metadata": {
        "id": "pclHQFDz2QQB",
        "colab": {
          "base_uri": "https://localhost:8080/"
        },
        "outputId": "11a3b8f7-7795-4b6a-aa85-cf16ce7ff353"
      },
      "source": [
        "# ... or by label.\n",
        "# s.loc['a']\n",
        "\n",
        "s.loc['b']"
      ],
      "execution_count": 74,
      "outputs": [
        {
          "output_type": "execute_result",
          "data": {
            "text/plain": [
              "120"
            ]
          },
          "metadata": {
            "tags": []
          },
          "execution_count": 74
        }
      ]
    },
    {
      "cell_type": "code",
      "metadata": {
        "id": "0GS3oqOa2QQB",
        "colab": {
          "base_uri": "https://localhost:8080/"
        },
        "outputId": "c0573dad-7de0-4ace-f5a4-0ae829bd8686"
      },
      "source": [
        "# Slicing works as expected...\n",
        "# s.iloc[:2]\n",
        "s.iloc[:3]"
      ],
      "execution_count": 75,
      "outputs": [
        {
          "output_type": "execute_result",
          "data": {
            "text/plain": [
              "a    450\n",
              "b    120\n",
              "c    740\n",
              "dtype: int64"
            ]
          },
          "metadata": {
            "tags": []
          },
          "execution_count": 75
        }
      ]
    },
    {
      "cell_type": "code",
      "metadata": {
        "id": "a2-4I4i22QQC",
        "colab": {
          "base_uri": "https://localhost:8080/"
        },
        "outputId": "f8744cd5-0b68-430e-fc66-e6674914b55b"
      },
      "source": [
        "# ...but it works with labels too!\n",
        "s.loc[:'y']\n"
      ],
      "execution_count": 76,
      "outputs": [
        {
          "output_type": "execute_result",
          "data": {
            "text/plain": [
              "a    450\n",
              "b    120\n",
              "c    740\n",
              "d    840\n",
              "e    190\n",
              "dtype: int64"
            ]
          },
          "metadata": {
            "tags": []
          },
          "execution_count": 76
        }
      ]
    },
    {
      "cell_type": "code",
      "metadata": {
        "id": "FatL66zW2QQC",
        "colab": {
          "base_uri": "https://localhost:8080/"
        },
        "outputId": "f3363bdf-ac7e-4457-d782-33452712ea39"
      },
      "source": [
        "# Fancy indexing works the same as in numpy.\n",
        "s.iloc[[0, -1]]"
      ],
      "execution_count": 77,
      "outputs": [
        {
          "output_type": "execute_result",
          "data": {
            "text/plain": [
              "a    450\n",
              "e    190\n",
              "dtype: int64"
            ]
          },
          "metadata": {
            "tags": []
          },
          "execution_count": 77
        }
      ]
    },
    {
      "cell_type": "code",
      "metadata": {
        "id": "-vKbpZTm2QQC",
        "colab": {
          "base_uri": "https://localhost:8080/"
        },
        "outputId": "8e2e32ed-bf60-4d8f-9f97-5d7faf89a3e7"
      },
      "source": [
        "# As does boolean masking.\n",
        "# s.loc[s > 2]\n",
        "\n",
        "s.loc[s > 1]"
      ],
      "execution_count": 78,
      "outputs": [
        {
          "output_type": "execute_result",
          "data": {
            "text/plain": [
              "a    450\n",
              "b    120\n",
              "c    740\n",
              "d    840\n",
              "e    190\n",
              "dtype: int64"
            ]
          },
          "metadata": {
            "tags": []
          },
          "execution_count": 78
        }
      ]
    },
    {
      "cell_type": "code",
      "metadata": {
        "id": "34jpGpiK2QQC",
        "colab": {
          "base_uri": "https://localhost:8080/"
        },
        "outputId": "67771580-2df3-4ee2-c33e-697c572df17e"
      },
      "source": [
        "\n",
        "# Element-wise operations are aligned by index.\n",
        "# other_s = pd.Series({'a': 10.0, 'c': 20.0, 'd': 30.0, 'z': 40.0})\n",
        "# other_s\n",
        "\n",
        "other_s = pd.Series({'a': 503.7, 'b': 708.3, 'c': 102.4, 'd': 802.2})\n",
        "other_s"
      ],
      "execution_count": 81,
      "outputs": [
        {
          "output_type": "execute_result",
          "data": {
            "text/plain": [
              "a    503.7\n",
              "b    708.3\n",
              "c    102.4\n",
              "d    802.2\n",
              "dtype: float64"
            ]
          },
          "metadata": {
            "tags": []
          },
          "execution_count": 81
        }
      ]
    },
    {
      "cell_type": "code",
      "metadata": {
        "id": "DcnwCH-12QQC",
        "colab": {
          "base_uri": "https://localhost:8080/"
        },
        "outputId": "9c5a8739-4272-4c38-c488-e6e8e2afbfa4"
      },
      "source": [
        "s + other_s"
      ],
      "execution_count": 82,
      "outputs": [
        {
          "output_type": "execute_result",
          "data": {
            "text/plain": [
              "a     953.7\n",
              "b     828.3\n",
              "c     842.4\n",
              "d    1642.2\n",
              "e       NaN\n",
              "dtype: float64"
            ]
          },
          "metadata": {
            "tags": []
          },
          "execution_count": 82
        }
      ]
    },
    {
      "cell_type": "code",
      "metadata": {
        "id": "f0iAAJNO2QQC",
        "colab": {
          "base_uri": "https://localhost:8080/"
        },
        "outputId": "9d2b8b80-c1a2-4a10-8c25-a3810dcf7959"
      },
      "source": [
        "# We can fill in missing values with fillna().\n",
        "# (s + other_s).fillna(0.0)\n",
        "\n",
        "(s + other_s).fillna(458.23)"
      ],
      "execution_count": 83,
      "outputs": [
        {
          "output_type": "execute_result",
          "data": {
            "text/plain": [
              "a     953.70\n",
              "b     828.30\n",
              "c     842.40\n",
              "d    1642.20\n",
              "e     458.23\n",
              "dtype: float64"
            ]
          },
          "metadata": {
            "tags": []
          },
          "execution_count": 83
        }
      ]
    },
    {
      "cell_type": "code",
      "metadata": {
        "id": "62vtcKDi2QQD"
      },
      "source": [
        "import pandas_datareader as pdr\n",
        "import datetime"
      ],
      "execution_count": 84,
      "outputs": []
    },
    {
      "cell_type": "code",
      "metadata": {
        "colab": {
          "base_uri": "https://localhost:8080/",
          "height": 235
        },
        "id": "Gtf5JhqTddy4",
        "outputId": "d14373cb-fb32-42fc-b93a-336b5d1fed7f"
      },
      "source": [
        "# Most real datasets are read in from an external file format.\n",
        "# import pandas_datareader as pdr\n",
        "# aapl = pd.read_csv('AAPL.csv', parse_dates=['Date'], index_col='Date')\n",
        "\n",
        "aapl = pdr.get_data_yahoo('AAPL',start=datetime.datetime(2020,1,4),end=datetime.datetime(2021,2,1))\n",
        "aapl.head()"
      ],
      "execution_count": 85,
      "outputs": [
        {
          "output_type": "execute_result",
          "data": {
            "text/html": [
              "<div>\n",
              "<style scoped>\n",
              "    .dataframe tbody tr th:only-of-type {\n",
              "        vertical-align: middle;\n",
              "    }\n",
              "\n",
              "    .dataframe tbody tr th {\n",
              "        vertical-align: top;\n",
              "    }\n",
              "\n",
              "    .dataframe thead th {\n",
              "        text-align: right;\n",
              "    }\n",
              "</style>\n",
              "<table border=\"1\" class=\"dataframe\">\n",
              "  <thead>\n",
              "    <tr style=\"text-align: right;\">\n",
              "      <th></th>\n",
              "      <th>High</th>\n",
              "      <th>Low</th>\n",
              "      <th>Open</th>\n",
              "      <th>Close</th>\n",
              "      <th>Volume</th>\n",
              "      <th>Adj Close</th>\n",
              "    </tr>\n",
              "    <tr>\n",
              "      <th>Date</th>\n",
              "      <th></th>\n",
              "      <th></th>\n",
              "      <th></th>\n",
              "      <th></th>\n",
              "      <th></th>\n",
              "      <th></th>\n",
              "    </tr>\n",
              "  </thead>\n",
              "  <tbody>\n",
              "    <tr>\n",
              "      <th>2020-01-06</th>\n",
              "      <td>74.989998</td>\n",
              "      <td>73.187500</td>\n",
              "      <td>73.447502</td>\n",
              "      <td>74.949997</td>\n",
              "      <td>118387200.0</td>\n",
              "      <td>74.197395</td>\n",
              "    </tr>\n",
              "    <tr>\n",
              "      <th>2020-01-07</th>\n",
              "      <td>75.224998</td>\n",
              "      <td>74.370003</td>\n",
              "      <td>74.959999</td>\n",
              "      <td>74.597504</td>\n",
              "      <td>108872000.0</td>\n",
              "      <td>73.848442</td>\n",
              "    </tr>\n",
              "    <tr>\n",
              "      <th>2020-01-08</th>\n",
              "      <td>76.110001</td>\n",
              "      <td>74.290001</td>\n",
              "      <td>74.290001</td>\n",
              "      <td>75.797501</td>\n",
              "      <td>132079200.0</td>\n",
              "      <td>75.036385</td>\n",
              "    </tr>\n",
              "    <tr>\n",
              "      <th>2020-01-09</th>\n",
              "      <td>77.607498</td>\n",
              "      <td>76.550003</td>\n",
              "      <td>76.809998</td>\n",
              "      <td>77.407501</td>\n",
              "      <td>170108400.0</td>\n",
              "      <td>76.630219</td>\n",
              "    </tr>\n",
              "    <tr>\n",
              "      <th>2020-01-10</th>\n",
              "      <td>78.167503</td>\n",
              "      <td>77.062500</td>\n",
              "      <td>77.650002</td>\n",
              "      <td>77.582497</td>\n",
              "      <td>140644800.0</td>\n",
              "      <td>76.803459</td>\n",
              "    </tr>\n",
              "  </tbody>\n",
              "</table>\n",
              "</div>"
            ],
            "text/plain": [
              "                 High        Low       Open      Close       Volume  Adj Close\n",
              "Date                                                                          \n",
              "2020-01-06  74.989998  73.187500  73.447502  74.949997  118387200.0  74.197395\n",
              "2020-01-07  75.224998  74.370003  74.959999  74.597504  108872000.0  73.848442\n",
              "2020-01-08  76.110001  74.290001  74.290001  75.797501  132079200.0  75.036385\n",
              "2020-01-09  77.607498  76.550003  76.809998  77.407501  170108400.0  76.630219\n",
              "2020-01-10  78.167503  77.062500  77.650002  77.582497  140644800.0  76.803459"
            ]
          },
          "metadata": {
            "tags": []
          },
          "execution_count": 85
        }
      ]
    },
    {
      "cell_type": "code",
      "metadata": {
        "id": "JGJLk3Am2QQD",
        "colab": {
          "base_uri": "https://localhost:8080/",
          "height": 173
        },
        "outputId": "ae903d63-8aad-40ba-afd2-17413a8f5c4d"
      },
      "source": [
        "# Slicing generalizes to two dimensions as you'd expect:\n",
        "# aapl.iloc[:2, :2]\n",
        "\n",
        "aapl.iloc[:3, :6]"
      ],
      "execution_count": 86,
      "outputs": [
        {
          "output_type": "execute_result",
          "data": {
            "text/html": [
              "<div>\n",
              "<style scoped>\n",
              "    .dataframe tbody tr th:only-of-type {\n",
              "        vertical-align: middle;\n",
              "    }\n",
              "\n",
              "    .dataframe tbody tr th {\n",
              "        vertical-align: top;\n",
              "    }\n",
              "\n",
              "    .dataframe thead th {\n",
              "        text-align: right;\n",
              "    }\n",
              "</style>\n",
              "<table border=\"1\" class=\"dataframe\">\n",
              "  <thead>\n",
              "    <tr style=\"text-align: right;\">\n",
              "      <th></th>\n",
              "      <th>High</th>\n",
              "      <th>Low</th>\n",
              "      <th>Open</th>\n",
              "      <th>Close</th>\n",
              "      <th>Volume</th>\n",
              "      <th>Adj Close</th>\n",
              "    </tr>\n",
              "    <tr>\n",
              "      <th>Date</th>\n",
              "      <th></th>\n",
              "      <th></th>\n",
              "      <th></th>\n",
              "      <th></th>\n",
              "      <th></th>\n",
              "      <th></th>\n",
              "    </tr>\n",
              "  </thead>\n",
              "  <tbody>\n",
              "    <tr>\n",
              "      <th>2020-01-06</th>\n",
              "      <td>74.989998</td>\n",
              "      <td>73.187500</td>\n",
              "      <td>73.447502</td>\n",
              "      <td>74.949997</td>\n",
              "      <td>118387200.0</td>\n",
              "      <td>74.197395</td>\n",
              "    </tr>\n",
              "    <tr>\n",
              "      <th>2020-01-07</th>\n",
              "      <td>75.224998</td>\n",
              "      <td>74.370003</td>\n",
              "      <td>74.959999</td>\n",
              "      <td>74.597504</td>\n",
              "      <td>108872000.0</td>\n",
              "      <td>73.848442</td>\n",
              "    </tr>\n",
              "    <tr>\n",
              "      <th>2020-01-08</th>\n",
              "      <td>76.110001</td>\n",
              "      <td>74.290001</td>\n",
              "      <td>74.290001</td>\n",
              "      <td>75.797501</td>\n",
              "      <td>132079200.0</td>\n",
              "      <td>75.036385</td>\n",
              "    </tr>\n",
              "  </tbody>\n",
              "</table>\n",
              "</div>"
            ],
            "text/plain": [
              "                 High        Low       Open      Close       Volume  Adj Close\n",
              "Date                                                                          \n",
              "2020-01-06  74.989998  73.187500  73.447502  74.949997  118387200.0  74.197395\n",
              "2020-01-07  75.224998  74.370003  74.959999  74.597504  108872000.0  73.848442\n",
              "2020-01-08  76.110001  74.290001  74.290001  75.797501  132079200.0  75.036385"
            ]
          },
          "metadata": {
            "tags": []
          },
          "execution_count": 86
        }
      ]
    },
    {
      "cell_type": "code",
      "metadata": {
        "id": "KGzDllW_2QQD",
        "colab": {
          "base_uri": "https://localhost:8080/",
          "height": 424
        },
        "outputId": "700d7e59-fda0-43e1-ad66-7c4f44152c32"
      },
      "source": [
        "\n",
        "# aapl.rolling(5)[['Close', 'Adj Close']].mean().plot();\n",
        "\n",
        "aapl.rolling(2)[['High', 'Low']].mean().plot();"
      ],
      "execution_count": 88,
      "outputs": [
        {
          "output_type": "display_data",
          "data": {
            "image/png": "[encoded data removed]",
            "text/plain": [
              "<Figure size 864x504 with 1 Axes>"
            ]
          },
          "metadata": {
            "tags": [],
            "needs_background": "light"
          }
        }
      ]
    },
    {
      "cell_type": "markdown",
      "metadata": {
        "id": "Wxu3gQIS2QQD"
      },
      "source": [
        "# Rolling Operations"
      ]
    },
    {
      "cell_type": "markdown",
      "metadata": {
        "id": "bMusZ-1G2QQD"
      },
      "source": [
        "<center><img src=\"images/rolling.gif\" alt=\"Drawing\" style=\"width: 75%;\"/></center>"
      ]
    },
    {
      "cell_type": "code",
      "metadata": {
        "id": "mwD97vao2QQE",
        "colab": {
          "base_uri": "https://localhost:8080/",
          "height": 424
        },
        "outputId": "9167d8fa-1aba-4c6b-fc66-be3c3f169e1f"
      },
      "source": [
        "aapl.rolling(5)[['Close', 'Adj Close']].mean().plot();"
      ],
      "execution_count": 87,
      "outputs": [
        {
          "output_type": "display_data",
          "data": {
            "image/png": "[encoded data removed]",
            "text/plain": [
              "<Figure size 864x504 with 1 Axes>"
            ]
          },
          "metadata": {
            "tags": [],
            "needs_background": "light"
          }
        }
      ]
    },
    {
      "cell_type": "code",
      "metadata": {
        "id": "UjQ8TPXA2QQE",
        "colab": {
          "base_uri": "https://localhost:8080/",
          "height": 454
        },
        "outputId": "1484601b-f783-4282-ffcb-bbedf0afea80"
      },
      "source": [
        "# Drop `Volume`, since it's way bigger than everything else.\n",
        "# aapl.drop('Volume', axis=1).resample('2W').max().plot();\n",
        "\n",
        "aapl.drop('Volume', axis=1).resample('40W').max().plot();#W de weeks"
      ],
      "execution_count": 90,
      "outputs": [
        {
          "output_type": "display_data",
          "data": {
            "image/png": "[encoded data removed]",
            "text/plain": [
              "<Figure size 864x504 with 1 Axes>"
            ]
          },
          "metadata": {
            "tags": [],
            "needs_background": "light"
          }
        }
      ]
    },
    {
      "cell_type": "code",
      "metadata": {
        "id": "f15nJbp12QQE",
        "colab": {
          "base_uri": "https://localhost:8080/",
          "height": 424
        },
        "outputId": "06f85286-f972-4ac4-a851-ae7ef2f1b69f"
      },
      "source": [
        "# aapl['Close'].pct_change().ewm(span=30).std().plot();\n",
        "\n",
        "aapl['Close'].pct_change().ewm(span=10).std().plot();#ewn exponencial"
      ],
      "execution_count": 91,
      "outputs": [
        {
          "output_type": "display_data",
          "data": {
            "image/png": "[encoded data removed]",
            "text/plain": [
              "<Figure size 864x504 with 1 Axes>"
            ]
          },
          "metadata": {
            "tags": [],
            "needs_background": "light"
          }
        }
      ]
    },
    {
      "cell_type": "markdown",
      "metadata": {
        "id": "Ouj-tvmE2QQE"
      },
      "source": [
        "# \"Real World\" Data"
      ]
    },
    {
      "cell_type": "code",
      "metadata": {
        "id": "_BrSqyKU2QQE"
      },
      "source": [
        "\n",
        "from io import BytesIO\n",
        "import os\n",
        "from urllib.parse import urlencode\n",
        "\n",
        "import requests\n",
        "import numpy as np\n",
        "import pandas as pd\n",
        "\n",
        "\n",
        "def read_avocadata(start_date, end_date, cache_loc='avocadata.html'):\n",
        "    \"\"\"Download avocado data to a dataframe.\n",
        "    Parameters\n",
        "    ----------\n",
        "    \"\"\"\n",
        "    start_date = pd.Timestamp(start_date)\n",
        "    end_date = pd.Timestamp(end_date)\n",
        "    base_url = 'https://www.marketnews.usda.gov/mnp/fv-report-retail'\n",
        "    query_params = {\n",
        "        'class': ['FRUITS'],\n",
        "        'commodity': ['AVOCADOS'],\n",
        "        'compareLy': ['No'],\n",
        "        'endDate': [end_date.strftime(\"%m/%d/%Y\")],\n",
        "        'format': ['excel'],\n",
        "        'organic': ['ALL'],\n",
        "        'portal': ['fv'],\n",
        "        'region': ['ALL'],\n",
        "        'repDate': [start_date.strftime(\"%m/%d/%Y\")],\n",
        "        'type': ['retail'],\n",
        "    }\n",
        "\n",
        "    url = base_url + '?' + urlencode(query_params, doseq=1)\n",
        "\n",
        "    if not os.path.exists(cache_loc):\n",
        "        resp = requests.get(url, stream=True)\n",
        "        resp.raise_for_status()\n",
        "\n",
        "        with open(cache_loc, 'wb') as f:\n",
        "            for block in resp.iter_content(chunk_size=4096):\n",
        "                f.write(block)\n",
        "        f.close()\n",
        "\n",
        "    with open(cache_loc, 'rb') as f:\n",
        "        frame = pd.read_html(f, header=0)[0]\n",
        "\n",
        "    # Cleanup\n",
        "    frame = frame[frame['Unit'] == 'each']\n",
        "    frame['Organic'] = (frame['Organic'] == 'Y')\n",
        "    frame['Variety'].replace(\n",
        "        {'VARIOUS GREENSKIN VARIETIES': 'GREENSKIN'},\n",
        "        inplace=True,\n",
        "    )\n",
        "    frame['Date'] = pd.to_datetime(frame['Date'].values, utc=True)\n",
        "\n",
        "    frame['Region'] = frame['Region'].str.replace(' U.S.', '')\n",
        "    frame['Region'] = frame['Region'].str.replace(' ', '_')\n",
        "\n",
        "    # Drop useless columns.\n",
        "    return frame.drop(\n",
        "        ['Class', 'Commodity', 'Environment', 'Unit', '% Marked Local'],\n",
        "        axis=1,\n",
        "    )"
      ],
      "execution_count": 92,
      "outputs": []
    },
    {
      "cell_type": "code",
      "metadata": {
        "id": "1nEzNmxZ2QQE",
        "outputId": "5ece4c1e-0c67-4415-b768-45f4be4ba935"
      },
      "source": [
        "# Unlike numpy arrays, pandas DataFrames can have a different dtype for each column.\n",
        "avocados.dtypes"
      ],
      "execution_count": null,
      "outputs": [
        {
          "output_type": "execute_result",
          "data": {
            "text/plain": [
              "Date                  datetime64[ns, UTC]\n",
              "Region                             object\n",
              "Variety                            object\n",
              "Organic                              bool\n",
              "Number of Stores                    int64\n",
              "Weighted Avg Price                float64\n",
              "Low Price                         float64\n",
              "High Price                        float64\n",
              "dtype: object"
            ]
          },
          "metadata": {
            "tags": []
          },
          "execution_count": 96
        }
      ]
    },
    {
      "cell_type": "code",
      "metadata": {
        "colab": {
          "base_uri": "https://localhost:8080/",
          "height": 204
        },
        "id": "n0yYWJpFeL1A",
        "outputId": "eadedcbd-864d-4a0b-d3ed-4d8947a15d7c"
      },
      "source": [
        "\n",
        "# from demos.avocados import read_avocadata\n",
        "# import read_avocadata\n",
        "\n",
        "# avocados = read_avocadata('2014', '2016')\n",
        "# avocados.head()\n",
        "\n",
        "avocados = read_avocadata('2017', '2018')\n",
        "avocados.head()"
      ],
      "execution_count": 95,
      "outputs": [
        {
          "output_type": "execute_result",
          "data": {
            "text/html": [
              "<div>\n",
              "<style scoped>\n",
              "    .dataframe tbody tr th:only-of-type {\n",
              "        vertical-align: middle;\n",
              "    }\n",
              "\n",
              "    .dataframe tbody tr th {\n",
              "        vertical-align: top;\n",
              "    }\n",
              "\n",
              "    .dataframe thead th {\n",
              "        text-align: right;\n",
              "    }\n",
              "</style>\n",
              "<table border=\"1\" class=\"dataframe\">\n",
              "  <thead>\n",
              "    <tr style=\"text-align: right;\">\n",
              "      <th></th>\n",
              "      <th>Date</th>\n",
              "      <th>Region</th>\n",
              "      <th>Variety</th>\n",
              "      <th>Organic</th>\n",
              "      <th>Number of Stores</th>\n",
              "      <th>Weighted Avg Price</th>\n",
              "      <th>Low Price</th>\n",
              "      <th>High Price</th>\n",
              "    </tr>\n",
              "  </thead>\n",
              "  <tbody>\n",
              "    <tr>\n",
              "      <th>0</th>\n",
              "      <td>2014-01-03 00:00:00+00:00</td>\n",
              "      <td>NATIONAL</td>\n",
              "      <td>HASS</td>\n",
              "      <td>False</td>\n",
              "      <td>9184</td>\n",
              "      <td>0.93</td>\n",
              "      <td>NaN</td>\n",
              "      <td>NaN</td>\n",
              "    </tr>\n",
              "    <tr>\n",
              "      <th>1</th>\n",
              "      <td>2014-01-03 00:00:00+00:00</td>\n",
              "      <td>NATIONAL</td>\n",
              "      <td>HASS</td>\n",
              "      <td>True</td>\n",
              "      <td>872</td>\n",
              "      <td>1.44</td>\n",
              "      <td>NaN</td>\n",
              "      <td>NaN</td>\n",
              "    </tr>\n",
              "    <tr>\n",
              "      <th>2</th>\n",
              "      <td>2014-01-03 00:00:00+00:00</td>\n",
              "      <td>NORTHEAST</td>\n",
              "      <td>HASS</td>\n",
              "      <td>False</td>\n",
              "      <td>1449</td>\n",
              "      <td>1.08</td>\n",
              "      <td>0.5</td>\n",
              "      <td>1.67</td>\n",
              "    </tr>\n",
              "    <tr>\n",
              "      <th>3</th>\n",
              "      <td>2014-01-03 00:00:00+00:00</td>\n",
              "      <td>NORTHEAST</td>\n",
              "      <td>HASS</td>\n",
              "      <td>True</td>\n",
              "      <td>66</td>\n",
              "      <td>1.54</td>\n",
              "      <td>1.5</td>\n",
              "      <td>2.00</td>\n",
              "    </tr>\n",
              "    <tr>\n",
              "      <th>4</th>\n",
              "      <td>2014-01-03 00:00:00+00:00</td>\n",
              "      <td>SOUTHEAST</td>\n",
              "      <td>HASS</td>\n",
              "      <td>False</td>\n",
              "      <td>2286</td>\n",
              "      <td>0.98</td>\n",
              "      <td>0.5</td>\n",
              "      <td>1.99</td>\n",
              "    </tr>\n",
              "  </tbody>\n",
              "</table>\n",
              "</div>"
            ],
            "text/plain": [
              "                       Date     Region  ... Low Price  High Price\n",
              "0 2014-01-03 00:00:00+00:00   NATIONAL  ...       NaN         NaN\n",
              "1 2014-01-03 00:00:00+00:00   NATIONAL  ...       NaN         NaN\n",
              "2 2014-01-03 00:00:00+00:00  NORTHEAST  ...       0.5        1.67\n",
              "3 2014-01-03 00:00:00+00:00  NORTHEAST  ...       1.5        2.00\n",
              "4 2014-01-03 00:00:00+00:00  SOUTHEAST  ...       0.5        1.99\n",
              "\n",
              "[5 rows x 8 columns]"
            ]
          },
          "metadata": {
            "tags": []
          },
          "execution_count": 95
        }
      ]
    },
    {
      "cell_type": "code",
      "metadata": {
        "id": "Hf9RnINX2QQF",
        "colab": {
          "base_uri": "https://localhost:8080/",
          "height": 224
        },
        "outputId": "0a3a6adf-cdd6-4227-d7dc-ee88a0383610"
      },
      "source": [
        "water = pd.read_csv('https://www.datos.gov.co/resource/3dma-ihgq.csv')\n",
        "water.head()"
      ],
      "execution_count": 96,
      "outputs": [
        {
          "output_type": "execute_result",
          "data": {
            "text/html": [
              "<div>\n",
              "<style scoped>\n",
              "    .dataframe tbody tr th:only-of-type {\n",
              "        vertical-align: middle;\n",
              "    }\n",
              "\n",
              "    .dataframe tbody tr th {\n",
              "        vertical-align: top;\n",
              "    }\n",
              "\n",
              "    .dataframe thead th {\n",
              "        text-align: right;\n",
              "    }\n",
              "</style>\n",
              "<table border=\"1\" class=\"dataframe\">\n",
              "  <thead>\n",
              "    <tr style=\"text-align: right;\">\n",
              "      <th></th>\n",
              "      <th>tipo_de_usuario</th>\n",
              "      <th>estrato_de_la_vivienda</th>\n",
              "      <th>consumo_julio_2020</th>\n",
              "      <th>consumo_agosto_2020</th>\n",
              "      <th>consumo_septiembre_2020</th>\n",
              "      <th>consumo_octubre_2020</th>\n",
              "      <th>consumo_noviem_2020</th>\n",
              "      <th>consumo_diciembre_2020</th>\n",
              "      <th>promedio</th>\n",
              "    </tr>\n",
              "  </thead>\n",
              "  <tbody>\n",
              "    <tr>\n",
              "      <th>0</th>\n",
              "      <td>RESIDENCIAL</td>\n",
              "      <td>ESTRATO 1</td>\n",
              "      <td>30</td>\n",
              "      <td>1</td>\n",
              "      <td>1</td>\n",
              "      <td>3</td>\n",
              "      <td>3</td>\n",
              "      <td>23</td>\n",
              "      <td>10.166667</td>\n",
              "    </tr>\n",
              "    <tr>\n",
              "      <th>1</th>\n",
              "      <td>RESIDENCIAL</td>\n",
              "      <td>ESTRATO 2</td>\n",
              "      <td>0</td>\n",
              "      <td>0</td>\n",
              "      <td>1</td>\n",
              "      <td>0</td>\n",
              "      <td>2</td>\n",
              "      <td>0</td>\n",
              "      <td>0.500000</td>\n",
              "    </tr>\n",
              "    <tr>\n",
              "      <th>2</th>\n",
              "      <td>RESIDENCIAL</td>\n",
              "      <td>ESTRATO 2</td>\n",
              "      <td>31</td>\n",
              "      <td>10</td>\n",
              "      <td>8</td>\n",
              "      <td>19</td>\n",
              "      <td>8</td>\n",
              "      <td>46</td>\n",
              "      <td>20.333333</td>\n",
              "    </tr>\n",
              "    <tr>\n",
              "      <th>3</th>\n",
              "      <td>RESIDENCIAL</td>\n",
              "      <td>ESTRATO 2</td>\n",
              "      <td>14</td>\n",
              "      <td>9</td>\n",
              "      <td>8</td>\n",
              "      <td>26</td>\n",
              "      <td>5</td>\n",
              "      <td>19</td>\n",
              "      <td>13.500000</td>\n",
              "    </tr>\n",
              "    <tr>\n",
              "      <th>4</th>\n",
              "      <td>RESIDENCIAL</td>\n",
              "      <td>ESTRATO 2</td>\n",
              "      <td>39</td>\n",
              "      <td>22</td>\n",
              "      <td>0</td>\n",
              "      <td>0</td>\n",
              "      <td>0</td>\n",
              "      <td>6</td>\n",
              "      <td>11.166667</td>\n",
              "    </tr>\n",
              "  </tbody>\n",
              "</table>\n",
              "</div>"
            ],
            "text/plain": [
              "  tipo_de_usuario estrato_de_la_vivienda  ...  consumo_diciembre_2020   promedio\n",
              "0     RESIDENCIAL              ESTRATO 1  ...                      23  10.166667\n",
              "1     RESIDENCIAL              ESTRATO 2  ...                       0   0.500000\n",
              "2     RESIDENCIAL              ESTRATO 2  ...                      46  20.333333\n",
              "3     RESIDENCIAL              ESTRATO 2  ...                      19  13.500000\n",
              "4     RESIDENCIAL              ESTRATO 2  ...                       6  11.166667\n",
              "\n",
              "[5 rows x 9 columns]"
            ]
          },
          "metadata": {
            "tags": []
          },
          "execution_count": 96
        }
      ]
    },
    {
      "cell_type": "code",
      "metadata": {
        "collapsed": true,
        "id": "7Fe-FJSI2QQF"
      },
      "source": [
        "def _organic_spread(group):\n",
        "\n",
        "    if len(group.columns) != 2:\n",
        "        return pd.Series(index=group.index, data=0.0)\n",
        "    \n",
        "    is_organic = group.columns.get_level_values('Organic').values.astype(bool)\n",
        "    organics = group.loc[:, is_organic].squeeze()\n",
        "    non_organics = group.loc[:, ~is_organic].squeeze()\n",
        "    diff = organics - non_organics\n",
        "    return diff\n",
        "\n",
        "def organic_spread_by_region(df):\n",
        "    \"\"\"What's the difference between the price of an organic \n",
        "    and non-organic avocado within each region?\n",
        "    \"\"\"\n",
        "    return (\n",
        "        df\n",
        "        .set_index(['Date', 'Region', 'Organic'])\n",
        "         ['Weighted Avg Price']\n",
        "        .unstack(level=['Region', 'Organic'])\n",
        "        .ffill()\n",
        "        .groupby(level='Region', axis=1)\n",
        "        .apply(_organic_spread)\n",
        "    )"
      ],
      "execution_count": null,
      "outputs": []
    },
    {
      "cell_type": "code",
      "metadata": {
        "id": "OQYD9F5g2QQF",
        "colab": {
          "base_uri": "https://localhost:8080/",
          "height": 454
        },
        "outputId": "e3f3a806-65da-4a11-9244-b17bbe3aa147"
      },
      "source": [
        "# What's the regional average price of a HASS avocado every day?\n",
        "# hass = avocados[avocados.Variety == 'HASS']\n",
        "# hass.groupby(['Date', 'Region'])['Weighted Avg Price'].mean().unstack().ffill().plot();\n",
        "\n",
        "hass = avocados[avocados.Variety == 'HASS']\n",
        "hass.groupby(['Date', 'Variety'])['Weighted Avg Price'].mean().unstack().ffill().plot();"
      ],
      "execution_count": 98,
      "outputs": [
        {
          "output_type": "display_data",
          "data": {
            "image/png": "[encoded data removed]",
            "text/plain": [
              "<Figure size 864x504 with 1 Axes>"
            ]
          },
          "metadata": {
            "tags": [],
            "needs_background": "light"
          }
        }
      ]
    },
    {
      "cell_type": "code",
      "metadata": {
        "id": "Rr5uEmVE2QQF",
        "colab": {
          "base_uri": "https://localhost:8080/",
          "height": 443
        },
        "outputId": "cbd26280-5df2-498d-c790-0324751c492e"
      },
      "source": [
        "residencial = water[water.tipo_de_usuario == 'RESIDENCIAL']\n",
        "residencial.groupby(['estrato_de_la_vivienda', 'tipo_de_usuario'])['promedio'].mean().unstack().ffill().plot();"
      ],
      "execution_count": 99,
      "outputs": [
        {
          "output_type": "display_data",
          "data": {
            "image/png": "[encoded data removed]",
            "text/plain": [
              "<Figure size 864x504 with 1 Axes>"
            ]
          },
          "metadata": {
            "tags": [],
            "needs_background": "light"
          }
        }
      ]
    },
    {
      "cell_type": "markdown",
      "metadata": {
        "id": "MfyYZDuE2QQG"
      },
      "source": [
        "# Pandas Review\n",
        "\n",
        "- Pandas extends numpy with more complex datastructures and algorithms.\n",
        "- If you understand numpy, you understand 90% of pandas.\n",
        "- `groupby`, `set_index`, and `unstack` are powerful tools for working with categorical data.\n",
        "- Avocado prices are surprisingly interesting :)"
      ]
    },
    {
      "cell_type": "markdown",
      "metadata": {
        "id": "WwW1WvZ92QQG"
      },
      "source": [
        "# Thanks!"
      ]
    }
  ]
}