{
  "nbformat": 4,
  "nbformat_minor": 0,
  "metadata": {
    "kernelspec": {
      "name": "python3",
      "display_name": "Python 3"
    },
    "colab": {
      "name": "deramirezaLecture4b.ipynb",
      "provenance": [],
      "include_colab_link": true
    },
    "language_info": {
      "name": "python"
    }
  },
  "cells": [
    {
      "cell_type": "markdown",
      "metadata": {
        "id": "view-in-github",
        "colab_type": "text"
      },
      "source": [
        "<a href=\"https://colab.research.google.com/github/deramireza/AlgorithmsUN2021I/blob/main/lab1/deramirezaLecture4b.ipynb\" target=\"_parent\"><img src=\"https://colab.research.google.com/assets/colab-badge.svg\" alt=\"Open In Colab\"/></a>"
      ]
    },
    {
      "cell_type": "markdown",
      "metadata": {
        "deletable": true,
        "editable": true,
        "id": "n9mrX3t4WzKA"
      },
      "source": [
        "# Exercises: Introduction to pandas - Answer Key\n",
        "By Christopher van Hoecke, Maxwell Margenot\n",
        "\n",
        "## Lecture Link : \n",
        "https://www.quantopian.com/lectures/introduction-to-pandas\n",
        "\n",
        "### IMPORTANT NOTE: \n",
        "This lecture corresponds to the Introduction to Pandas lecture, which is part of the Quantopian lecture series. This homework expects you to rely heavily on the code presented in the corresponding lecture. Please copy and paste regularly from that lecture when starting to work on the problems, as trying to do them from scratch will likely be too difficult.\n",
        "\n",
        "Part of the Quantopian Lecture Series:\n",
        "\n",
        "* [www.quantopian.com/lectures](https://www.quantopian.com/lectures)\n",
        "* [github.com/quantopian/research_public](https://github.com/quantopian/research_public)\n",
        "\n",
        "\n",
        "----"
      ]
    },
    {
      "cell_type": "code",
      "metadata": {
        "collapsed": true,
        "deletable": true,
        "editable": true,
        "id": "MvtzMbZ7WzKF"
      },
      "source": [
        "# Useful Functions\n",
        "import numpy as np\n",
        "import pandas as pd\n",
        "import matplotlib.pyplot as plt"
      ],
      "execution_count": null,
      "outputs": []
    },
    {
      "cell_type": "markdown",
      "metadata": {
        "deletable": true,
        "editable": true,
        "id": "qTm5W100WzKG"
      },
      "source": [
        "----"
      ]
    },
    {
      "cell_type": "markdown",
      "metadata": {
        "deletable": true,
        "editable": true,
        "id": "cl7UxWAKWzKG"
      },
      "source": [
        "# Exercise 1 \n",
        "## a. Series \n",
        "Given an array of data, please create a pandas Series `s` with a datetime index starting `2016-01-01`. The index should be daily frequency and should be the same length as the data."
      ]
    },
    {
      "cell_type": "code",
      "metadata": {
        "deletable": true,
        "editable": true,
        "id": "kwbYECPQWzKH",
        "outputId": "6ae5e31f-9d68-45b2-a6a4-426fde381a69"
      },
      "source": [
        "l = np.random.randint(1,100, size=1000)\n",
        "s = pd.Series(l)\n",
        "\n",
        "new_index = pd.date_range(\"2016-01-01\", periods=len(s), freq=\"D\")\n",
        "s.index = new_index\n",
        "print s"
      ],
      "execution_count": null,
      "outputs": [
        {
          "output_type": "stream",
          "text": [
            "2016-01-01    80\n",
            "2016-01-02    96\n",
            "2016-01-03    32\n",
            "2016-01-04    88\n",
            "2016-01-05     9\n",
            "2016-01-06     8\n",
            "2016-01-07    84\n",
            "2016-01-08    46\n",
            "2016-01-09    94\n",
            "2016-01-10    43\n",
            "2016-01-11     7\n",
            "2016-01-12    82\n",
            "2016-01-13    95\n",
            "2016-01-14    33\n",
            "2016-01-15    73\n",
            "2016-01-16    43\n",
            "2016-01-17    39\n",
            "2016-01-18    52\n",
            "2016-01-19    72\n",
            "2016-01-20    27\n",
            "2016-01-21    48\n",
            "2016-01-22    32\n",
            "2016-01-23    86\n",
            "2016-01-24    13\n",
            "2016-01-25    30\n",
            "2016-01-26    60\n",
            "2016-01-27    65\n",
            "2016-01-28    58\n",
            "2016-01-29    76\n",
            "2016-01-30    14\n",
            "              ..\n",
            "2018-08-28    60\n",
            "2018-08-29    77\n",
            "2018-08-30    91\n",
            "2018-08-31    75\n",
            "2018-09-01    68\n",
            "2018-09-02    95\n",
            "2018-09-03    30\n",
            "2018-09-04    59\n",
            "2018-09-05    31\n",
            "2018-09-06    76\n",
            "2018-09-07     4\n",
            "2018-09-08    71\n",
            "2018-09-09    73\n",
            "2018-09-10    89\n",
            "2018-09-11    11\n",
            "2018-09-12    36\n",
            "2018-09-13     7\n",
            "2018-09-14    59\n",
            "2018-09-15    77\n",
            "2018-09-16    64\n",
            "2018-09-17    82\n",
            "2018-09-18    19\n",
            "2018-09-19    81\n",
            "2018-09-20    91\n",
            "2018-09-21     9\n",
            "2018-09-22    16\n",
            "2018-09-23    19\n",
            "2018-09-24    65\n",
            "2018-09-25    83\n",
            "2018-09-26    69\n",
            "Freq: D, dtype: int64\n"
          ],
          "name": "stdout"
        }
      ]
    },
    {
      "cell_type": "markdown",
      "metadata": {
        "deletable": true,
        "editable": true,
        "id": "GcsVwPLYWzKI"
      },
      "source": [
        "## b. Accessing Series Elements.\n",
        "- Print every other element of the first 50 elements of series `s`.\n",
        "- Find the value associated with the index `2017-02-20`."
      ]
    },
    {
      "cell_type": "code",
      "metadata": {
        "deletable": true,
        "editable": true,
        "id": "tqKJfz_wWzKI",
        "outputId": "ca7464a6-8b86-4f5b-d20e-dad1ddf10155"
      },
      "source": [
        "# Print every other element of the first 50 elements\n",
        "s.iloc[:50:2];\n",
        "# Values associated with the index 2017-02-20\n",
        "s.loc['2017-02-20']"
      ],
      "execution_count": null,
      "outputs": [
        {
          "output_type": "execute_result",
          "data": {
            "text/plain": [
              "81"
            ]
          },
          "metadata": {
            "tags": []
          },
          "execution_count": 3
        }
      ]
    },
    {
      "cell_type": "markdown",
      "metadata": {
        "deletable": true,
        "editable": true,
        "id": "ztFmHmAiWzKI"
      },
      "source": [
        "## c. Boolean Indexing.\n",
        "In the series `s`, print all the values between 1 and 3."
      ]
    },
    {
      "cell_type": "code",
      "metadata": {
        "deletable": true,
        "editable": true,
        "scrolled": true,
        "id": "TusAyI62WzKJ",
        "outputId": "aafe2d9d-3d68-4285-c109-c63107cca7c7"
      },
      "source": [
        "# Print s between 1 and 3\n",
        "s.loc[(s>1) & (s<3)]"
      ],
      "execution_count": null,
      "outputs": [
        {
          "output_type": "execute_result",
          "data": {
            "text/plain": [
              "2016-06-13    2\n",
              "2016-08-15    2\n",
              "2017-02-05    2\n",
              "2017-03-20    2\n",
              "2017-03-22    2\n",
              "2017-04-11    2\n",
              "2017-07-14    2\n",
              "2017-07-30    2\n",
              "2017-09-22    2\n",
              "2017-12-22    2\n",
              "2018-03-14    2\n",
              "2018-05-30    2\n",
              "2018-07-02    2\n",
              "2018-07-12    2\n",
              "dtype: int64"
            ]
          },
          "metadata": {
            "tags": []
          },
          "execution_count": 4
        }
      ]
    },
    {
      "cell_type": "markdown",
      "metadata": {
        "deletable": true,
        "editable": true,
        "id": "0dm7On2CWzKJ"
      },
      "source": [
        "----"
      ]
    },
    {
      "cell_type": "markdown",
      "metadata": {
        "deletable": true,
        "editable": true,
        "id": "yyDJ1wppWzKJ"
      },
      "source": [
        "#Exercise 2 : Indexing and time series. \n",
        "###a. Display\n",
        "Print the first and last 5 elements of the series `s`."
      ]
    },
    {
      "cell_type": "code",
      "metadata": {
        "deletable": true,
        "editable": true,
        "id": "hAm-H_BHWzKJ",
        "outputId": "96628d44-af26-4c2b-d34c-6aac60fd6fe9"
      },
      "source": [
        "# First 5 elements\n",
        "s.head(5)\n",
        "# Last 5 elements\n",
        "s.tail(5)"
      ],
      "execution_count": null,
      "outputs": [
        {
          "output_type": "execute_result",
          "data": {
            "text/plain": [
              "2018-09-22    16\n",
              "2018-09-23    19\n",
              "2018-09-24    65\n",
              "2018-09-25    83\n",
              "2018-09-26    69\n",
              "Freq: D, dtype: int64"
            ]
          },
          "metadata": {
            "tags": []
          },
          "execution_count": 5
        }
      ]
    },
    {
      "cell_type": "markdown",
      "metadata": {
        "deletable": true,
        "editable": true,
        "id": "ykqJoGF7WzKK"
      },
      "source": [
        "### b. Resampling\n",
        "- Using the resample method, upsample the daily data to monthly frequency. Use the median method so that each monthly value is the median price of all the days in that month.\n",
        "- Take the daily data and fill in every day, including weekends and holidays, using forward-fills. "
      ]
    },
    {
      "cell_type": "code",
      "metadata": {
        "deletable": true,
        "editable": true,
        "id": "snOQM90kWzKK",
        "outputId": "56638689-8fac-4332-9e21-e0390879b8c5"
      },
      "source": [
        "symbol = \"CMG\"\n",
        "start = \"2012-01-01\"\n",
        "end = \"2016-01-01\"\n",
        "prices = get_pricing(symbol, start_date=start, end_date=end, fields=\"price\")\n",
        "\n",
        "# Resample daily prices to get monthly prices using median. \n",
        "monthly_prices = prices.resample('M').median()\n",
        "monthly_prices.head(24)"
      ],
      "execution_count": null,
      "outputs": [
        {
          "output_type": "execute_result",
          "data": {
            "text/plain": [
              "2012-01-31 00:00:00+00:00    355.380\n",
              "2012-02-29 00:00:00+00:00    378.295\n",
              "2012-03-31 00:00:00+00:00    408.850\n",
              "2012-04-30 00:00:00+00:00    420.900\n",
              "2012-05-31 00:00:00+00:00    405.390\n",
              "2012-06-30 00:00:00+00:00    402.790\n",
              "2012-07-31 00:00:00+00:00    380.370\n",
              "2012-08-31 00:00:00+00:00    295.380\n",
              "2012-09-30 00:00:00+00:00    332.990\n",
              "2012-10-31 00:00:00+00:00    286.440\n",
              "2012-11-30 00:00:00+00:00    263.559\n",
              "2012-12-31 00:00:00+00:00    282.040\n",
              "2013-01-31 00:00:00+00:00    299.570\n",
              "2013-02-28 00:00:00+00:00    315.520\n",
              "2013-03-31 00:00:00+00:00    321.510\n",
              "2013-04-30 00:00:00+00:00    340.875\n",
              "2013-05-31 00:00:00+00:00    369.900\n",
              "2013-06-30 00:00:00+00:00    364.080\n",
              "2013-07-31 00:00:00+00:00    386.145\n",
              "2013-08-31 00:00:00+00:00    405.190\n",
              "2013-09-30 00:00:00+00:00    418.919\n",
              "2013-10-31 00:00:00+00:00    442.150\n",
              "2013-11-30 00:00:00+00:00    535.985\n",
              "2013-12-31 00:00:00+00:00    522.864\n",
              "Freq: M, Name: Equity(28016 [CMG]), dtype: float64"
            ]
          },
          "metadata": {
            "tags": []
          },
          "execution_count": 6
        }
      ]
    },
    {
      "cell_type": "code",
      "metadata": {
        "deletable": true,
        "editable": true,
        "scrolled": true,
        "id": "tDmkan4CWzKK",
        "outputId": "0ec241bc-2c38-4e40-965f-d49f3ccd5204"
      },
      "source": [
        "# Data for every day, (including weekends and holidays)\n",
        "calendar_dates = pd.date_range(start=start, end=end, freq='D', tz='UTC')\n",
        "calendar_prices = prices.reindex(calendar_dates, method='ffill')\n",
        "calendar_prices.head(15)"
      ],
      "execution_count": null,
      "outputs": [
        {
          "output_type": "execute_result",
          "data": {
            "text/plain": [
              "2012-01-01 00:00:00+00:00        NaN\n",
              "2012-01-02 00:00:00+00:00        NaN\n",
              "2012-01-03 00:00:00+00:00    340.980\n",
              "2012-01-04 00:00:00+00:00    348.740\n",
              "2012-01-05 00:00:00+00:00    349.990\n",
              "2012-01-06 00:00:00+00:00    348.950\n",
              "2012-01-07 00:00:00+00:00    348.950\n",
              "2012-01-08 00:00:00+00:00    348.950\n",
              "2012-01-09 00:00:00+00:00    339.522\n",
              "2012-01-10 00:00:00+00:00    340.700\n",
              "2012-01-11 00:00:00+00:00    347.330\n",
              "2012-01-12 00:00:00+00:00    347.830\n",
              "2012-01-13 00:00:00+00:00    354.390\n",
              "2012-01-14 00:00:00+00:00    354.390\n",
              "2012-01-15 00:00:00+00:00    354.390\n",
              "Freq: D, Name: Equity(28016 [CMG]), dtype: float64"
            ]
          },
          "metadata": {
            "tags": []
          },
          "execution_count": 7
        }
      ]
    },
    {
      "cell_type": "markdown",
      "metadata": {
        "deletable": true,
        "editable": true,
        "id": "LbFDQvqZWzKL"
      },
      "source": [
        "---"
      ]
    },
    {
      "cell_type": "markdown",
      "metadata": {
        "deletable": true,
        "editable": true,
        "id": "bAjgKmWuWzKL"
      },
      "source": [
        "# Exercise 3 : Missing Data\n",
        "- Replace all instances of `NaN` using the forward fill method. \n",
        "- Instead of filling, remove all instances of `NaN` from the data."
      ]
    },
    {
      "cell_type": "code",
      "metadata": {
        "deletable": true,
        "editable": true,
        "id": "cukCUx_-WzKL",
        "outputId": "8fdf06c8-5a51-4d67-a38e-92b420b7da35"
      },
      "source": [
        "# Fill missing data using Backwards fill method\n",
        "bfilled_prices = calendar_prices.fillna(method='bfill')\n",
        "bfilled_prices.head(10)"
      ],
      "execution_count": null,
      "outputs": [
        {
          "output_type": "execute_result",
          "data": {
            "text/plain": [
              "2012-01-01 00:00:00+00:00    340.980\n",
              "2012-01-02 00:00:00+00:00    340.980\n",
              "2012-01-03 00:00:00+00:00    340.980\n",
              "2012-01-04 00:00:00+00:00    348.740\n",
              "2012-01-05 00:00:00+00:00    349.990\n",
              "2012-01-06 00:00:00+00:00    348.950\n",
              "2012-01-07 00:00:00+00:00    348.950\n",
              "2012-01-08 00:00:00+00:00    348.950\n",
              "2012-01-09 00:00:00+00:00    339.522\n",
              "2012-01-10 00:00:00+00:00    340.700\n",
              "Freq: D, Name: Equity(28016 [CMG]), dtype: float64"
            ]
          },
          "metadata": {
            "tags": []
          },
          "execution_count": 8
        }
      ]
    },
    {
      "cell_type": "code",
      "metadata": {
        "deletable": true,
        "editable": true,
        "scrolled": true,
        "id": "hhsCoaAcWzKL",
        "outputId": "8f50c4cc-9625-4611-c607-2a12112f2b75"
      },
      "source": [
        "# Drop instances of nan in the data\n",
        "dropped_prices = calendar_prices.dropna()\n",
        "dropped_prices.head(10)"
      ],
      "execution_count": null,
      "outputs": [
        {
          "output_type": "execute_result",
          "data": {
            "text/plain": [
              "2012-01-03 00:00:00+00:00    340.980\n",
              "2012-01-04 00:00:00+00:00    348.740\n",
              "2012-01-05 00:00:00+00:00    349.990\n",
              "2012-01-06 00:00:00+00:00    348.950\n",
              "2012-01-07 00:00:00+00:00    348.950\n",
              "2012-01-08 00:00:00+00:00    348.950\n",
              "2012-01-09 00:00:00+00:00    339.522\n",
              "2012-01-10 00:00:00+00:00    340.700\n",
              "2012-01-11 00:00:00+00:00    347.330\n",
              "2012-01-12 00:00:00+00:00    347.830\n",
              "Freq: D, Name: Equity(28016 [CMG]), dtype: float64"
            ]
          },
          "metadata": {
            "tags": []
          },
          "execution_count": 9
        }
      ]
    },
    {
      "cell_type": "markdown",
      "metadata": {
        "deletable": true,
        "editable": true,
        "id": "tiXq5ZDbWzKM"
      },
      "source": [
        "----"
      ]
    },
    {
      "cell_type": "markdown",
      "metadata": {
        "deletable": true,
        "editable": true,
        "id": "7J-51dr6WzKM"
      },
      "source": [
        "#Exercise 4 : Time Series Analysis with pandas\n",
        "## a. General Information\n",
        "Print the count, mean, standard deviation, minimum, 25th, 50th, and 75th percentiles, and the max of our series s. "
      ]
    },
    {
      "cell_type": "code",
      "metadata": {
        "deletable": true,
        "editable": true,
        "id": "xU993l2WWzKM",
        "outputId": "ba266379-a9da-4597-c40f-64bc6eab5b5c"
      },
      "source": [
        "print \"Summary Statistics\"\n",
        "print prices.describe()"
      ],
      "execution_count": null,
      "outputs": [
        {
          "output_type": "stream",
          "text": [
            "Summary Statistics\n",
            "count    1006.000000\n",
            "mean      501.637439\n",
            "std       146.697204\n",
            "min       236.240000\n",
            "25%       371.605000\n",
            "50%       521.280000\n",
            "75%       646.753750\n",
            "max       757.770000\n",
            "Name: Equity(28016 [CMG]), dtype: float64\n"
          ],
          "name": "stdout"
        }
      ]
    },
    {
      "cell_type": "markdown",
      "metadata": {
        "deletable": true,
        "editable": true,
        "id": "se2QBPjBWzKM"
      },
      "source": [
        "## b. Series Operations\n",
        "- Get the additive and multiplicative returns of this series. \n",
        "- Calculate the rolling mean with a 60 day window.\n",
        "- Calculate the standard deviation with a 60 day window."
      ]
    },
    {
      "cell_type": "code",
      "metadata": {
        "deletable": true,
        "editable": true,
        "id": "5ILXRtiIWzKM"
      },
      "source": [
        "data = get_pricing('GE', fields='open_price', start_date='2016-01-01', end_date='2017-01-01')\n",
        "\n",
        "mult_returns = data.pct_change()[1:] #Multiplicative returns \n",
        "add_returns = data.diff()[1:] #Additive returns "
      ],
      "execution_count": null,
      "outputs": []
    },
    {
      "cell_type": "code",
      "metadata": {
        "deletable": true,
        "editable": true,
        "id": "nXvwlompWzKM"
      },
      "source": [
        "# Rolling mean\n",
        "rolling_mean = data.rolling(window=60).mean()\n",
        "rolling_mean.name = \"60-day rolling mean\""
      ],
      "execution_count": null,
      "outputs": []
    },
    {
      "cell_type": "code",
      "metadata": {
        "collapsed": true,
        "deletable": true,
        "editable": true,
        "id": "QxzJRGnMWzKN"
      },
      "source": [
        "# Rolling Standard Deviation\n",
        "rolling_std = data.rolling(window=60).std()\n",
        "rolling_std.name = \"60-day rolling volatility\""
      ],
      "execution_count": null,
      "outputs": []
    },
    {
      "cell_type": "markdown",
      "metadata": {
        "deletable": true,
        "editable": true,
        "id": "-WU-LHPKWzKN"
      },
      "source": [
        "----"
      ]
    },
    {
      "cell_type": "markdown",
      "metadata": {
        "deletable": true,
        "editable": true,
        "id": "m5Fu1W1eWzKN"
      },
      "source": [
        "# Exercise 5 : DataFrames\n",
        "## a. Indexing\n",
        "Form a DataFrame out of `dict_data` with `l` as its index."
      ]
    },
    {
      "cell_type": "code",
      "metadata": {
        "deletable": true,
        "editable": true,
        "id": "YsiSny87WzKN",
        "outputId": "085689b3-8c47-4c3d-e26b-68bc4f8f7b1a"
      },
      "source": [
        "l = ['First','Second', 'Third', 'Fourth', 'Fifth']\n",
        "dict_data = {'a' : [1, 2, 3, 4, 5], \n",
        "             'b' : ['L', 'K', 'J', 'M', 'Z'],\n",
        "             'c' : np.random.normal(0, 1, 5)\n",
        "            }\n",
        "\n",
        "# Adding l as an index to dict_data\n",
        "frame_data = pd.DataFrame(dict_data, index=l)\n",
        "print frame_data"
      ],
      "execution_count": null,
      "outputs": [
        {
          "output_type": "stream",
          "text": [
            "        a  b         c\n",
            "First   1  L -0.382419\n",
            "Second  2  K -0.007889\n",
            "Third   3  J  1.121356\n",
            "Fourth  4  M -1.099923\n",
            "Fifth   5  Z  0.052579\n"
          ],
          "name": "stdout"
        }
      ]
    },
    {
      "cell_type": "markdown",
      "metadata": {
        "deletable": true,
        "editable": true,
        "id": "xPi8h85AWzKN"
      },
      "source": [
        "## b. DataFrames Manipulation\n",
        "- Concatenate the following two series to form a dataframe. \n",
        "- Rename the columns to `Good Numbers` and `Bad Numbers`. \n",
        "- Change the index to be a datetime index starting on `2016-01-01`."
      ]
    },
    {
      "cell_type": "code",
      "metadata": {
        "deletable": true,
        "editable": true,
        "id": "zDXGnWQZWzKO",
        "outputId": "3722e220-d526-4b6d-a5d9-94b1d2b65a5c"
      },
      "source": [
        "s1 = pd.Series([2, 3, 5, 7, 11, 13], name='prime')\n",
        "s2 = pd.Series([1, 4, 6, 8, 9, 10], name='other')\n",
        "\n",
        "numbers = pd.concat([s1, s2], axis=1) # Concatenate the two series\n",
        "numbers.columns = ['Useful Numbers', 'Not Useful Numbers'] # Rename the two columns\n",
        "numbers.index = pd.date_range(\"2016-01-01\", periods=len(numbers)) # Index change\n",
        "print numbers"
      ],
      "execution_count": null,
      "outputs": [
        {
          "output_type": "stream",
          "text": [
            "            Useful Numbers  Not Useful Numbers\n",
            "2016-01-01               2                   1\n",
            "2016-01-02               3                   4\n",
            "2016-01-03               5                   6\n",
            "2016-01-04               7                   8\n",
            "2016-01-05              11                   9\n",
            "2016-01-06              13                  10\n"
          ],
          "name": "stdout"
        }
      ]
    },
    {
      "cell_type": "markdown",
      "metadata": {
        "deletable": true,
        "editable": true,
        "id": "Gyy68wpLWzKO"
      },
      "source": [
        "----"
      ]
    },
    {
      "cell_type": "markdown",
      "metadata": {
        "deletable": true,
        "editable": true,
        "id": "UgTrN7mxWzKO"
      },
      "source": [
        "# Exercise 6 : Accessing DataFrame elements.\n",
        "## a. Columns\n",
        "- Check the data type of one of the DataFrame's columns.\n",
        "- Print the values associated with time range `2013-01-01` to `2013-01-10`."
      ]
    },
    {
      "cell_type": "code",
      "metadata": {
        "deletable": true,
        "editable": true,
        "id": "AIuguO3MWzKO",
        "outputId": "fed1f42b-df72-4881-889e-68bcca8a4474"
      },
      "source": [
        "symbol = [\"XOM\", \"BP\", \"COP\", \"TOT\"]\n",
        "start = \"2012-01-01\"\n",
        "end = \"2016-01-01\"\n",
        "prices = get_pricing(symbol, start_date=start, end_date=end, fields=\"price\")\n",
        "if isinstance(symbol, list):\n",
        "    prices.columns = map(lambda x: x.symbol, prices.columns)\n",
        "else:\n",
        "    prices.name = symbol\n",
        "\n",
        "# Check Type of Data for these two.    \n",
        "prices.XOM.head()\n",
        "prices.loc[:, 'XOM'].head()"
      ],
      "execution_count": null,
      "outputs": [
        {
          "output_type": "execute_result",
          "data": {
            "text/plain": [
              "2012-01-03 00:00:00+00:00    76.706\n",
              "2012-01-04 00:00:00+00:00    76.804\n",
              "2012-01-05 00:00:00+00:00    76.518\n",
              "2012-01-06 00:00:00+00:00    76.054\n",
              "2012-01-09 00:00:00+00:00    76.286\n",
              "Freq: C, Name: XOM, dtype: float64"
            ]
          },
          "metadata": {
            "tags": []
          },
          "execution_count": 16
        }
      ]
    },
    {
      "cell_type": "code",
      "metadata": {
        "deletable": true,
        "editable": true,
        "id": "zgDIi8OrWzKO",
        "outputId": "3175d2ee-3bf5-4beb-8462-0010c62a89f9"
      },
      "source": [
        "# Print data type\n",
        "print type(prices.XOM)\n",
        "print type(prices.loc[:, 'XOM'])"
      ],
      "execution_count": null,
      "outputs": [
        {
          "output_type": "stream",
          "text": [
            "<class 'pandas.core.series.Series'>\n",
            "<class 'pandas.core.series.Series'>\n"
          ],
          "name": "stdout"
        }
      ]
    },
    {
      "cell_type": "code",
      "metadata": {
        "deletable": true,
        "editable": true,
        "id": "1dlqAXNPWzKP",
        "outputId": "35b40446-df28-4e1c-dea4-b6bc07ccb18c"
      },
      "source": [
        "# Print values associated with time range\n",
        "prices.loc['2013-01-01':'2013-01-10']"
      ],
      "execution_count": null,
      "outputs": [
        {
          "output_type": "execute_result",
          "data": {
            "text/html": [
              "<div>\n",
              "<table border=\"1\" class=\"dataframe\">\n",
              "  <thead>\n",
              "    <tr style=\"text-align: right;\">\n",
              "      <th></th>\n",
              "      <th>XOM</th>\n",
              "      <th>BP</th>\n",
              "      <th>COP</th>\n",
              "      <th>TOT</th>\n",
              "    </tr>\n",
              "  </thead>\n",
              "  <tbody>\n",
              "    <tr>\n",
              "      <th>2013-01-02 00:00:00+00:00</th>\n",
              "      <td>81.186</td>\n",
              "      <td>36.119</td>\n",
              "      <td>52.038</td>\n",
              "      <td>45.732</td>\n",
              "    </tr>\n",
              "    <tr>\n",
              "      <th>2013-01-03 00:00:00+00:00</th>\n",
              "      <td>81.040</td>\n",
              "      <td>36.843</td>\n",
              "      <td>52.021</td>\n",
              "      <td>45.366</td>\n",
              "    </tr>\n",
              "    <tr>\n",
              "      <th>2013-01-04 00:00:00+00:00</th>\n",
              "      <td>81.360</td>\n",
              "      <td>37.183</td>\n",
              "      <td>52.592</td>\n",
              "      <td>45.523</td>\n",
              "    </tr>\n",
              "    <tr>\n",
              "      <th>2013-01-07 00:00:00+00:00</th>\n",
              "      <td>80.472</td>\n",
              "      <td>36.953</td>\n",
              "      <td>52.003</td>\n",
              "      <td>44.966</td>\n",
              "    </tr>\n",
              "    <tr>\n",
              "      <th>2013-01-08 00:00:00+00:00</th>\n",
              "      <td>80.912</td>\n",
              "      <td>36.953</td>\n",
              "      <td>51.309</td>\n",
              "      <td>44.853</td>\n",
              "    </tr>\n",
              "    <tr>\n",
              "      <th>2013-01-09 00:00:00+00:00</th>\n",
              "      <td>80.674</td>\n",
              "      <td>37.685</td>\n",
              "      <td>51.203</td>\n",
              "      <td>44.844</td>\n",
              "    </tr>\n",
              "    <tr>\n",
              "      <th>2013-01-10 00:00:00+00:00</th>\n",
              "      <td>81.561</td>\n",
              "      <td>38.315</td>\n",
              "      <td>51.441</td>\n",
              "      <td>45.584</td>\n",
              "    </tr>\n",
              "  </tbody>\n",
              "</table>\n",
              "</div>"
            ],
            "text/plain": [
              "                              XOM      BP     COP     TOT\n",
              "2013-01-02 00:00:00+00:00  81.186  36.119  52.038  45.732\n",
              "2013-01-03 00:00:00+00:00  81.040  36.843  52.021  45.366\n",
              "2013-01-04 00:00:00+00:00  81.360  37.183  52.592  45.523\n",
              "2013-01-07 00:00:00+00:00  80.472  36.953  52.003  44.966\n",
              "2013-01-08 00:00:00+00:00  80.912  36.953  51.309  44.853\n",
              "2013-01-09 00:00:00+00:00  80.674  37.685  51.203  44.844\n",
              "2013-01-10 00:00:00+00:00  81.561  38.315  51.441  45.584"
            ]
          },
          "metadata": {
            "tags": []
          },
          "execution_count": 18
        }
      ]
    },
    {
      "cell_type": "markdown",
      "metadata": {
        "deletable": true,
        "editable": true,
        "id": "4O0A6nAOWzKP"
      },
      "source": [
        "----"
      ]
    },
    {
      "cell_type": "markdown",
      "metadata": {
        "deletable": true,
        "editable": true,
        "id": "3sMbby41WzKQ"
      },
      "source": [
        "# Exercise 7 : Boolean Indexing\n",
        "## a. Filtering.\n",
        "- Filter pricing data from the last question (stored in `prices`) to only print values where:\n",
        "    - BP > 30\n",
        "    - XOM < 100\n",
        "    - The intersection of both above conditions (BP > 30 **and** XOM < 100)\n",
        "    - The union of the previous composite condition along with TOT having no `nan` values ((BP > 30 **and** XOM < 100) **or** TOT is non-`NaN`).\n",
        "- Add a column for TSLA and drop the column for XOM."
      ]
    },
    {
      "cell_type": "code",
      "metadata": {
        "deletable": true,
        "editable": true,
        "id": "2Pu9aPu2WzKQ",
        "outputId": "1735757e-c0d1-4083-cfc5-6889847579c2"
      },
      "source": [
        "# Filter data \n",
        "# BP > 30\n",
        "print prices.loc[prices.BP > 30].head()\n",
        "# XOM < 100\n",
        "print prices.loc[prices.XOM < 100].head()\n",
        "# BP > 30 AND XOM < 100\n",
        "print prices.loc[(prices.BP > 30) & (prices.XOM < 100)].head()\n",
        "# The union of (BP > 30 AND XOM < 100) with TOT being non-nan\n",
        "print prices.loc[((prices.BP > 30) & (prices.XOM < 100)) | (~ prices.TOT.isnull())].head()"
      ],
      "execution_count": null,
      "outputs": [
        {
          "output_type": "stream",
          "text": [
            "                              XOM      BP     COP     TOT\n",
            "2012-01-03 00:00:00+00:00  76.706  35.867  47.522  43.390\n",
            "2012-01-04 00:00:00+00:00  76.804  36.371  47.304  43.200\n",
            "2012-01-05 00:00:00+00:00  76.518  35.949  46.913  42.356\n",
            "2012-01-06 00:00:00+00:00  76.054  35.819  46.561  41.951\n",
            "2012-01-09 00:00:00+00:00  76.286  35.811  46.721  42.381\n",
            "                              XOM      BP     COP     TOT\n",
            "2012-01-03 00:00:00+00:00  76.706  35.867  47.522  43.390\n",
            "2012-01-04 00:00:00+00:00  76.804  36.371  47.304  43.200\n",
            "2012-01-05 00:00:00+00:00  76.518  35.949  46.913  42.356\n",
            "2012-01-06 00:00:00+00:00  76.054  35.819  46.561  41.951\n",
            "2012-01-09 00:00:00+00:00  76.286  35.811  46.721  42.381\n",
            "                              XOM      BP     COP     TOT\n",
            "2012-01-03 00:00:00+00:00  76.706  35.867  47.522  43.390\n",
            "2012-01-04 00:00:00+00:00  76.804  36.371  47.304  43.200\n",
            "2012-01-05 00:00:00+00:00  76.518  35.949  46.913  42.356\n",
            "2012-01-06 00:00:00+00:00  76.054  35.819  46.561  41.951\n",
            "2012-01-09 00:00:00+00:00  76.286  35.811  46.721  42.381\n",
            "                              XOM      BP     COP     TOT\n",
            "2012-01-03 00:00:00+00:00  76.706  35.867  47.522  43.390\n",
            "2012-01-04 00:00:00+00:00  76.804  36.371  47.304  43.200\n",
            "2012-01-05 00:00:00+00:00  76.518  35.949  46.913  42.356\n",
            "2012-01-06 00:00:00+00:00  76.054  35.819  46.561  41.951\n",
            "2012-01-09 00:00:00+00:00  76.286  35.811  46.721  42.381\n"
          ],
          "name": "stdout"
        }
      ]
    },
    {
      "cell_type": "code",
      "metadata": {
        "deletable": true,
        "editable": true,
        "id": "xqiMsOGQWzKQ",
        "outputId": "4e40ce61-651c-4b85-9126-ae405e46fd0b"
      },
      "source": [
        "# Adding TSLA \n",
        "s_1 = get_pricing('TSLA', start_date=start, end_date=end, fields='price')\n",
        "prices.loc[:, 'TSLA'] = s_1\n",
        "\n",
        "# Dropping XOM\n",
        "prices = prices.drop('XOM', axis=1)\n",
        "prices.head(5)"
      ],
      "execution_count": null,
      "outputs": [
        {
          "output_type": "execute_result",
          "data": {
            "text/html": [
              "<div>\n",
              "<table border=\"1\" class=\"dataframe\">\n",
              "  <thead>\n",
              "    <tr style=\"text-align: right;\">\n",
              "      <th></th>\n",
              "      <th>BP</th>\n",
              "      <th>COP</th>\n",
              "      <th>TOT</th>\n",
              "      <th>TSLA</th>\n",
              "    </tr>\n",
              "  </thead>\n",
              "  <tbody>\n",
              "    <tr>\n",
              "      <th>2012-01-03 00:00:00+00:00</th>\n",
              "      <td>35.867</td>\n",
              "      <td>47.522</td>\n",
              "      <td>43.390</td>\n",
              "      <td>28.06</td>\n",
              "    </tr>\n",
              "    <tr>\n",
              "      <th>2012-01-04 00:00:00+00:00</th>\n",
              "      <td>36.371</td>\n",
              "      <td>47.304</td>\n",
              "      <td>43.200</td>\n",
              "      <td>27.71</td>\n",
              "    </tr>\n",
              "    <tr>\n",
              "      <th>2012-01-05 00:00:00+00:00</th>\n",
              "      <td>35.949</td>\n",
              "      <td>46.913</td>\n",
              "      <td>42.356</td>\n",
              "      <td>27.12</td>\n",
              "    </tr>\n",
              "    <tr>\n",
              "      <th>2012-01-06 00:00:00+00:00</th>\n",
              "      <td>35.819</td>\n",
              "      <td>46.561</td>\n",
              "      <td>41.951</td>\n",
              "      <td>26.94</td>\n",
              "    </tr>\n",
              "    <tr>\n",
              "      <th>2012-01-09 00:00:00+00:00</th>\n",
              "      <td>35.811</td>\n",
              "      <td>46.721</td>\n",
              "      <td>42.381</td>\n",
              "      <td>27.21</td>\n",
              "    </tr>\n",
              "  </tbody>\n",
              "</table>\n",
              "</div>"
            ],
            "text/plain": [
              "                               BP     COP     TOT   TSLA\n",
              "2012-01-03 00:00:00+00:00  35.867  47.522  43.390  28.06\n",
              "2012-01-04 00:00:00+00:00  36.371  47.304  43.200  27.71\n",
              "2012-01-05 00:00:00+00:00  35.949  46.913  42.356  27.12\n",
              "2012-01-06 00:00:00+00:00  35.819  46.561  41.951  26.94\n",
              "2012-01-09 00:00:00+00:00  35.811  46.721  42.381  27.21"
            ]
          },
          "metadata": {
            "tags": []
          },
          "execution_count": 20
        }
      ]
    },
    {
      "cell_type": "markdown",
      "metadata": {
        "deletable": true,
        "editable": true,
        "id": "jd-89F4ZWzKQ"
      },
      "source": [
        "## b. DataFrame Manipulation (again)\n",
        "- Concatenate these DataFrames.\n",
        "- Fill the missing data with 0s"
      ]
    },
    {
      "cell_type": "code",
      "metadata": {
        "deletable": true,
        "editable": true,
        "id": "vVrCTyMGWzKR",
        "outputId": "99cff83e-4f4e-462c-f756-7e6b26a4fab9"
      },
      "source": [
        "df_1 = get_pricing(['SPY', 'VXX'], start_date=start, end_date=end, fields='price')\n",
        "df_2 = get_pricing(['MSFT', 'AAPL', 'GOOG'], start_date=start, end_date=end, fields='price')\n",
        "# Concatenate the dataframes\n",
        "df_3 = pd.concat([df_1, df_2], axis=1)\n",
        "df_3.head()"
      ],
      "execution_count": null,
      "outputs": [
        {
          "output_type": "execute_result",
          "data": {
            "text/html": [
              "<div>\n",
              "<table border=\"1\" class=\"dataframe\">\n",
              "  <thead>\n",
              "    <tr style=\"text-align: right;\">\n",
              "      <th></th>\n",
              "      <th>Equity(8554 [SPY])</th>\n",
              "      <th>Equity(38054 [VXX])</th>\n",
              "      <th>Equity(5061 [MSFT])</th>\n",
              "      <th>Equity(24 [AAPL])</th>\n",
              "      <th>Equity(46631 [GOOG])</th>\n",
              "    </tr>\n",
              "  </thead>\n",
              "  <tbody>\n",
              "    <tr>\n",
              "      <th>2012-01-03 00:00:00+00:00</th>\n",
              "      <td>118.414</td>\n",
              "      <td>538.72</td>\n",
              "      <td>23.997</td>\n",
              "      <td>54.684</td>\n",
              "      <td>NaN</td>\n",
              "    </tr>\n",
              "    <tr>\n",
              "      <th>2012-01-04 00:00:00+00:00</th>\n",
              "      <td>118.498</td>\n",
              "      <td>527.84</td>\n",
              "      <td>24.498</td>\n",
              "      <td>54.995</td>\n",
              "      <td>NaN</td>\n",
              "    </tr>\n",
              "    <tr>\n",
              "      <th>2012-01-05 00:00:00+00:00</th>\n",
              "      <td>118.850</td>\n",
              "      <td>516.32</td>\n",
              "      <td>24.749</td>\n",
              "      <td>55.597</td>\n",
              "      <td>NaN</td>\n",
              "    </tr>\n",
              "    <tr>\n",
              "      <th>2012-01-06 00:00:00+00:00</th>\n",
              "      <td>118.600</td>\n",
              "      <td>508.00</td>\n",
              "      <td>25.151</td>\n",
              "      <td>56.194</td>\n",
              "      <td>NaN</td>\n",
              "    </tr>\n",
              "    <tr>\n",
              "      <th>2012-01-09 00:00:00+00:00</th>\n",
              "      <td>118.795</td>\n",
              "      <td>500.64</td>\n",
              "      <td>24.811</td>\n",
              "      <td>56.098</td>\n",
              "      <td>NaN</td>\n",
              "    </tr>\n",
              "  </tbody>\n",
              "</table>\n",
              "</div>"
            ],
            "text/plain": [
              "                           Equity(8554 [SPY])  Equity(38054 [VXX])  \\\n",
              "2012-01-03 00:00:00+00:00             118.414               538.72   \n",
              "2012-01-04 00:00:00+00:00             118.498               527.84   \n",
              "2012-01-05 00:00:00+00:00             118.850               516.32   \n",
              "2012-01-06 00:00:00+00:00             118.600               508.00   \n",
              "2012-01-09 00:00:00+00:00             118.795               500.64   \n",
              "\n",
              "                           Equity(5061 [MSFT])  Equity(24 [AAPL])  \\\n",
              "2012-01-03 00:00:00+00:00               23.997             54.684   \n",
              "2012-01-04 00:00:00+00:00               24.498             54.995   \n",
              "2012-01-05 00:00:00+00:00               24.749             55.597   \n",
              "2012-01-06 00:00:00+00:00               25.151             56.194   \n",
              "2012-01-09 00:00:00+00:00               24.811             56.098   \n",
              "\n",
              "                           Equity(46631 [GOOG])  \n",
              "2012-01-03 00:00:00+00:00                   NaN  \n",
              "2012-01-04 00:00:00+00:00                   NaN  \n",
              "2012-01-05 00:00:00+00:00                   NaN  \n",
              "2012-01-06 00:00:00+00:00                   NaN  \n",
              "2012-01-09 00:00:00+00:00                   NaN  "
            ]
          },
          "metadata": {
            "tags": []
          },
          "execution_count": 21
        }
      ]
    },
    {
      "cell_type": "code",
      "metadata": {
        "deletable": true,
        "editable": true,
        "id": "lQbQN1X-WzKR",
        "outputId": "ed0bb959-e78b-417e-a2f1-d3afbe1f53cc"
      },
      "source": [
        "# Fill GOOG missing data with nan\n",
        "filled0_df_3 = df_3.fillna(0)\n",
        "filled0_df_3.head(5)"
      ],
      "execution_count": null,
      "outputs": [
        {
          "output_type": "execute_result",
          "data": {
            "text/html": [
              "<div>\n",
              "<table border=\"1\" class=\"dataframe\">\n",
              "  <thead>\n",
              "    <tr style=\"text-align: right;\">\n",
              "      <th></th>\n",
              "      <th>Equity(8554 [SPY])</th>\n",
              "      <th>Equity(38054 [VXX])</th>\n",
              "      <th>Equity(5061 [MSFT])</th>\n",
              "      <th>Equity(24 [AAPL])</th>\n",
              "      <th>Equity(46631 [GOOG])</th>\n",
              "    </tr>\n",
              "  </thead>\n",
              "  <tbody>\n",
              "    <tr>\n",
              "      <th>2012-01-03 00:00:00+00:00</th>\n",
              "      <td>118.414</td>\n",
              "      <td>538.72</td>\n",
              "      <td>23.997</td>\n",
              "      <td>54.684</td>\n",
              "      <td>0.0</td>\n",
              "    </tr>\n",
              "    <tr>\n",
              "      <th>2012-01-04 00:00:00+00:00</th>\n",
              "      <td>118.498</td>\n",
              "      <td>527.84</td>\n",
              "      <td>24.498</td>\n",
              "      <td>54.995</td>\n",
              "      <td>0.0</td>\n",
              "    </tr>\n",
              "    <tr>\n",
              "      <th>2012-01-05 00:00:00+00:00</th>\n",
              "      <td>118.850</td>\n",
              "      <td>516.32</td>\n",
              "      <td>24.749</td>\n",
              "      <td>55.597</td>\n",
              "      <td>0.0</td>\n",
              "    </tr>\n",
              "    <tr>\n",
              "      <th>2012-01-06 00:00:00+00:00</th>\n",
              "      <td>118.600</td>\n",
              "      <td>508.00</td>\n",
              "      <td>25.151</td>\n",
              "      <td>56.194</td>\n",
              "      <td>0.0</td>\n",
              "    </tr>\n",
              "    <tr>\n",
              "      <th>2012-01-09 00:00:00+00:00</th>\n",
              "      <td>118.795</td>\n",
              "      <td>500.64</td>\n",
              "      <td>24.811</td>\n",
              "      <td>56.098</td>\n",
              "      <td>0.0</td>\n",
              "    </tr>\n",
              "  </tbody>\n",
              "</table>\n",
              "</div>"
            ],
            "text/plain": [
              "                           Equity(8554 [SPY])  Equity(38054 [VXX])  \\\n",
              "2012-01-03 00:00:00+00:00             118.414               538.72   \n",
              "2012-01-04 00:00:00+00:00             118.498               527.84   \n",
              "2012-01-05 00:00:00+00:00             118.850               516.32   \n",
              "2012-01-06 00:00:00+00:00             118.600               508.00   \n",
              "2012-01-09 00:00:00+00:00             118.795               500.64   \n",
              "\n",
              "                           Equity(5061 [MSFT])  Equity(24 [AAPL])  \\\n",
              "2012-01-03 00:00:00+00:00               23.997             54.684   \n",
              "2012-01-04 00:00:00+00:00               24.498             54.995   \n",
              "2012-01-05 00:00:00+00:00               24.749             55.597   \n",
              "2012-01-06 00:00:00+00:00               25.151             56.194   \n",
              "2012-01-09 00:00:00+00:00               24.811             56.098   \n",
              "\n",
              "                           Equity(46631 [GOOG])  \n",
              "2012-01-03 00:00:00+00:00                   0.0  \n",
              "2012-01-04 00:00:00+00:00                   0.0  \n",
              "2012-01-05 00:00:00+00:00                   0.0  \n",
              "2012-01-06 00:00:00+00:00                   0.0  \n",
              "2012-01-09 00:00:00+00:00                   0.0  "
            ]
          },
          "metadata": {
            "tags": []
          },
          "execution_count": 22
        }
      ]
    },
    {
      "cell_type": "markdown",
      "metadata": {
        "deletable": true,
        "editable": true,
        "id": "CKj715owWzKR"
      },
      "source": [
        "---"
      ]
    },
    {
      "cell_type": "markdown",
      "metadata": {
        "deletable": true,
        "editable": true,
        "id": "yHPPvG10WzKR"
      },
      "source": [
        "# Exercise 8 : Time Series Analysis\n",
        "## a. Summary\n",
        "- Print out a summary of the `prices` DataFrame from above.\n",
        "- Take the log returns and print the first 10 values.\n",
        "- Print the multiplicative returns of each company.\n",
        "- Normalize and plot the returns from 2014 to 2015.\n",
        "- Plot a 60 day window rolling mean of the prices.\n",
        "- Plot a 60 day window rolling standfard deviation of the prices."
      ]
    },
    {
      "cell_type": "code",
      "metadata": {
        "deletable": true,
        "editable": true,
        "id": "D9AaQg5QWzKR",
        "outputId": "53c13349-5613-40de-8a03-6cc83baa1c38"
      },
      "source": [
        "# Summary\n",
        "prices.describe()"
      ],
      "execution_count": null,
      "outputs": [
        {
          "output_type": "execute_result",
          "data": {
            "text/html": [
              "<div>\n",
              "<table border=\"1\" class=\"dataframe\">\n",
              "  <thead>\n",
              "    <tr style=\"text-align: right;\">\n",
              "      <th></th>\n",
              "      <th>BP</th>\n",
              "      <th>COP</th>\n",
              "      <th>TOT</th>\n",
              "      <th>TSLA</th>\n",
              "    </tr>\n",
              "  </thead>\n",
              "  <tbody>\n",
              "    <tr>\n",
              "      <th>count</th>\n",
              "      <td>1006.000000</td>\n",
              "      <td>1006.000000</td>\n",
              "      <td>1006.000000</td>\n",
              "      <td>1006.000000</td>\n",
              "    </tr>\n",
              "    <tr>\n",
              "      <th>mean</th>\n",
              "      <td>38.079349</td>\n",
              "      <td>58.185060</td>\n",
              "      <td>49.209090</td>\n",
              "      <td>147.455109</td>\n",
              "    </tr>\n",
              "    <tr>\n",
              "      <th>std</th>\n",
              "      <td>4.122068</td>\n",
              "      <td>9.379062</td>\n",
              "      <td>7.354246</td>\n",
              "      <td>89.673401</td>\n",
              "    </tr>\n",
              "    <tr>\n",
              "      <th>min</th>\n",
              "      <td>28.911000</td>\n",
              "      <td>41.647000</td>\n",
              "      <td>35.264000</td>\n",
              "      <td>22.750000</td>\n",
              "    </tr>\n",
              "    <tr>\n",
              "      <th>25%</th>\n",
              "      <td>35.382250</td>\n",
              "      <td>49.921250</td>\n",
              "      <td>44.005500</td>\n",
              "      <td>35.085000</td>\n",
              "    </tr>\n",
              "    <tr>\n",
              "      <th>50%</th>\n",
              "      <td>37.366500</td>\n",
              "      <td>57.437000</td>\n",
              "      <td>47.947500</td>\n",
              "      <td>178.125000</td>\n",
              "    </tr>\n",
              "    <tr>\n",
              "      <th>75%</th>\n",
              "      <td>40.820750</td>\n",
              "      <td>64.554000</td>\n",
              "      <td>53.452000</td>\n",
              "      <td>227.107500</td>\n",
              "    </tr>\n",
              "    <tr>\n",
              "      <th>max</th>\n",
              "      <td>48.904000</td>\n",
              "      <td>81.824000</td>\n",
              "      <td>68.841000</td>\n",
              "      <td>286.040000</td>\n",
              "    </tr>\n",
              "  </tbody>\n",
              "</table>\n",
              "</div>"
            ],
            "text/plain": [
              "                BP          COP          TOT         TSLA\n",
              "count  1006.000000  1006.000000  1006.000000  1006.000000\n",
              "mean     38.079349    58.185060    49.209090   147.455109\n",
              "std       4.122068     9.379062     7.354246    89.673401\n",
              "min      28.911000    41.647000    35.264000    22.750000\n",
              "25%      35.382250    49.921250    44.005500    35.085000\n",
              "50%      37.366500    57.437000    47.947500   178.125000\n",
              "75%      40.820750    64.554000    53.452000   227.107500\n",
              "max      48.904000    81.824000    68.841000   286.040000"
            ]
          },
          "metadata": {
            "tags": []
          },
          "execution_count": 23
        }
      ]
    },
    {
      "cell_type": "code",
      "metadata": {
        "deletable": true,
        "editable": true,
        "id": "AA_t_OC2WzKS",
        "outputId": "bfa10c6b-c02d-4d33-d98a-c88a79d48ac6"
      },
      "source": [
        "# Natural Log of the returns and print out the first 10 values\n",
        "np.log(prices).head(10)"
      ],
      "execution_count": null,
      "outputs": [
        {
          "output_type": "execute_result",
          "data": {
            "text/html": [
              "<div>\n",
              "<table border=\"1\" class=\"dataframe\">\n",
              "  <thead>\n",
              "    <tr style=\"text-align: right;\">\n",
              "      <th></th>\n",
              "      <th>BP</th>\n",
              "      <th>COP</th>\n",
              "      <th>TOT</th>\n",
              "      <th>TSLA</th>\n",
              "    </tr>\n",
              "  </thead>\n",
              "  <tbody>\n",
              "    <tr>\n",
              "      <th>2012-01-03 00:00:00+00:00</th>\n",
              "      <td>3.579818</td>\n",
              "      <td>3.861193</td>\n",
              "      <td>3.770229</td>\n",
              "      <td>3.334345</td>\n",
              "    </tr>\n",
              "    <tr>\n",
              "      <th>2012-01-04 00:00:00+00:00</th>\n",
              "      <td>3.593772</td>\n",
              "      <td>3.856595</td>\n",
              "      <td>3.765840</td>\n",
              "      <td>3.321793</td>\n",
              "    </tr>\n",
              "    <tr>\n",
              "      <th>2012-01-05 00:00:00+00:00</th>\n",
              "      <td>3.582101</td>\n",
              "      <td>3.848295</td>\n",
              "      <td>3.746110</td>\n",
              "      <td>3.300271</td>\n",
              "    </tr>\n",
              "    <tr>\n",
              "      <th>2012-01-06 00:00:00+00:00</th>\n",
              "      <td>3.578478</td>\n",
              "      <td>3.840763</td>\n",
              "      <td>3.736502</td>\n",
              "      <td>3.293612</td>\n",
              "    </tr>\n",
              "    <tr>\n",
              "      <th>2012-01-09 00:00:00+00:00</th>\n",
              "      <td>3.578255</td>\n",
              "      <td>3.844194</td>\n",
              "      <td>3.746700</td>\n",
              "      <td>3.303585</td>\n",
              "    </tr>\n",
              "    <tr>\n",
              "      <th>2012-01-10 00:00:00+00:00</th>\n",
              "      <td>3.586154</td>\n",
              "      <td>3.849254</td>\n",
              "      <td>3.751948</td>\n",
              "      <td>3.318540</td>\n",
              "    </tr>\n",
              "    <tr>\n",
              "      <th>2012-01-11 00:00:00+00:00</th>\n",
              "      <td>3.578004</td>\n",
              "      <td>3.831507</td>\n",
              "      <td>3.738288</td>\n",
              "      <td>3.340385</td>\n",
              "    </tr>\n",
              "    <tr>\n",
              "      <th>2012-01-12 00:00:00+00:00</th>\n",
              "      <td>3.581183</td>\n",
              "      <td>3.814256</td>\n",
              "      <td>3.724801</td>\n",
              "      <td>3.341093</td>\n",
              "    </tr>\n",
              "    <tr>\n",
              "      <th>2012-01-13 00:00:00+00:00</th>\n",
              "      <td>3.571418</td>\n",
              "      <td>3.808594</td>\n",
              "      <td>3.714182</td>\n",
              "      <td>3.124565</td>\n",
              "    </tr>\n",
              "    <tr>\n",
              "      <th>2012-01-17 00:00:00+00:00</th>\n",
              "      <td>3.582101</td>\n",
              "      <td>3.814256</td>\n",
              "      <td>3.742017</td>\n",
              "      <td>3.279030</td>\n",
              "    </tr>\n",
              "  </tbody>\n",
              "</table>\n",
              "</div>"
            ],
            "text/plain": [
              "                                 BP       COP       TOT      TSLA\n",
              "2012-01-03 00:00:00+00:00  3.579818  3.861193  3.770229  3.334345\n",
              "2012-01-04 00:00:00+00:00  3.593772  3.856595  3.765840  3.321793\n",
              "2012-01-05 00:00:00+00:00  3.582101  3.848295  3.746110  3.300271\n",
              "2012-01-06 00:00:00+00:00  3.578478  3.840763  3.736502  3.293612\n",
              "2012-01-09 00:00:00+00:00  3.578255  3.844194  3.746700  3.303585\n",
              "2012-01-10 00:00:00+00:00  3.586154  3.849254  3.751948  3.318540\n",
              "2012-01-11 00:00:00+00:00  3.578004  3.831507  3.738288  3.340385\n",
              "2012-01-12 00:00:00+00:00  3.581183  3.814256  3.724801  3.341093\n",
              "2012-01-13 00:00:00+00:00  3.571418  3.808594  3.714182  3.124565\n",
              "2012-01-17 00:00:00+00:00  3.582101  3.814256  3.742017  3.279030"
            ]
          },
          "metadata": {
            "tags": []
          },
          "execution_count": 24
        }
      ]
    },
    {
      "cell_type": "code",
      "metadata": {
        "deletable": true,
        "editable": true,
        "id": "fF0ifzaYWzKS",
        "outputId": "68f3febd-1f01-4deb-94dc-a5a4cf42d91e"
      },
      "source": [
        "# Multiplicative returns\n",
        "mult_returns = prices.pct_change()[1:]\n",
        "mult_returns.head()"
      ],
      "execution_count": null,
      "outputs": [
        {
          "output_type": "execute_result",
          "data": {
            "text/html": [
              "<div>\n",
              "<table border=\"1\" class=\"dataframe\">\n",
              "  <thead>\n",
              "    <tr style=\"text-align: right;\">\n",
              "      <th></th>\n",
              "      <th>BP</th>\n",
              "      <th>COP</th>\n",
              "      <th>TOT</th>\n",
              "      <th>TSLA</th>\n",
              "    </tr>\n",
              "  </thead>\n",
              "  <tbody>\n",
              "    <tr>\n",
              "      <th>2012-01-04 00:00:00+00:00</th>\n",
              "      <td>0.014052</td>\n",
              "      <td>-0.004587</td>\n",
              "      <td>-0.004379</td>\n",
              "      <td>-0.012473</td>\n",
              "    </tr>\n",
              "    <tr>\n",
              "      <th>2012-01-05 00:00:00+00:00</th>\n",
              "      <td>-0.011603</td>\n",
              "      <td>-0.008266</td>\n",
              "      <td>-0.019537</td>\n",
              "      <td>-0.021292</td>\n",
              "    </tr>\n",
              "    <tr>\n",
              "      <th>2012-01-06 00:00:00+00:00</th>\n",
              "      <td>-0.003616</td>\n",
              "      <td>-0.007503</td>\n",
              "      <td>-0.009562</td>\n",
              "      <td>-0.006637</td>\n",
              "    </tr>\n",
              "    <tr>\n",
              "      <th>2012-01-09 00:00:00+00:00</th>\n",
              "      <td>-0.000223</td>\n",
              "      <td>0.003436</td>\n",
              "      <td>0.010250</td>\n",
              "      <td>0.010022</td>\n",
              "    </tr>\n",
              "    <tr>\n",
              "      <th>2012-01-10 00:00:00+00:00</th>\n",
              "      <td>0.007931</td>\n",
              "      <td>0.005073</td>\n",
              "      <td>0.005262</td>\n",
              "      <td>0.015068</td>\n",
              "    </tr>\n",
              "  </tbody>\n",
              "</table>\n",
              "</div>"
            ],
            "text/plain": [
              "                                 BP       COP       TOT      TSLA\n",
              "2012-01-04 00:00:00+00:00  0.014052 -0.004587 -0.004379 -0.012473\n",
              "2012-01-05 00:00:00+00:00 -0.011603 -0.008266 -0.019537 -0.021292\n",
              "2012-01-06 00:00:00+00:00 -0.003616 -0.007503 -0.009562 -0.006637\n",
              "2012-01-09 00:00:00+00:00 -0.000223  0.003436  0.010250  0.010022\n",
              "2012-01-10 00:00:00+00:00  0.007931  0.005073  0.005262  0.015068"
            ]
          },
          "metadata": {
            "tags": []
          },
          "execution_count": 25
        }
      ]
    },
    {
      "cell_type": "code",
      "metadata": {
        "deletable": true,
        "editable": true,
        "id": "DFdIiIxfWzKS",
        "outputId": "09a2b424-a5d3-48a1-9d22-3d5d06f6a0ae"
      },
      "source": [
        "# Normalizing the returns and plotting one year of data\n",
        "norm_returns = (mult_returns - mult_returns.mean(axis=0))/mult_returns.std(axis=0)\n",
        "norm_returns.loc['2014-01-01':'2015-01-01'].plot();"
      ],
      "execution_count": null,
      "outputs": [
        {
          "output_type": "display_data",
          "data": {
            "image/png": "[encoded data removed]",
            "text/plain": [
              "<matplotlib.figure.Figure at 0x7fc7e04f5ad0>"
            ]
          },
          "metadata": {
            "tags": []
          }
        }
      ]
    },
    {
      "cell_type": "code",
      "metadata": {
        "deletable": true,
        "editable": true,
        "scrolled": true,
        "colab": {
          "base_uri": "https://localhost:8080/",
          "height": 231
        },
        "id": "8AhWOziDWzKS",
        "outputId": "06b73120-fe0c-4fa5-d414-483c606d6a0f"
      },
      "source": [
        "\n",
        "# Rolling mean\n",
        "rolling_mean = prices.rolling(window=60).mean()\n",
        "\n",
        "# Rolling standard deviation\n",
        "rolling_std = prices.rolling(window=60).std()\n",
        "\n",
        "# Plotting \n",
        "mean = rolling_mean.plot();\n",
        "plt.title(\"Rolling Mean of Prices\")\n",
        "plt.xlabel(\"Date\")\n",
        "plt.ylabel(\"Price\")\n",
        "plt.legend();\n",
        "\n",
        "std = rolling_std.plot();\n",
        "plt.title(\"Rolling standard deviation of Prices\")\n",
        "plt.xlabel(\"Date\")\n",
        "plt.ylabel(\"Price\")\n",
        "plt.legend();"
      ],
      "execution_count": 1,
      "outputs": [
        {
          "output_type": "error",
          "ename": "NameError",
          "evalue": "ignored",
          "traceback": [
            "\u001b[0;31m---------------------------------------------------------------------------\u001b[0m",
            "\u001b[0;31mNameError\u001b[0m                                 Traceback (most recent call last)",
            "\u001b[0;32m<ipython-input-1-07643715cb8e>\u001b[0m in \u001b[0;36m<module>\u001b[0;34m()\u001b[0m\n\u001b[1;32m      1\u001b[0m \u001b[0;34m\u001b[0m\u001b[0m\n\u001b[1;32m      2\u001b[0m \u001b[0;31m# Rolling mean\u001b[0m\u001b[0;34m\u001b[0m\u001b[0;34m\u001b[0m\u001b[0;34m\u001b[0m\u001b[0m\n\u001b[0;32m----> 3\u001b[0;31m \u001b[0mrolling_mean\u001b[0m \u001b[0;34m=\u001b[0m \u001b[0mprices\u001b[0m\u001b[0;34m.\u001b[0m\u001b[0mrolling\u001b[0m\u001b[0;34m(\u001b[0m\u001b[0mwindow\u001b[0m\u001b[0;34m=\u001b[0m\u001b[0;36m60\u001b[0m\u001b[0;34m)\u001b[0m\u001b[0;34m.\u001b[0m\u001b[0mmean\u001b[0m\u001b[0;34m(\u001b[0m\u001b[0;34m)\u001b[0m\u001b[0;34m\u001b[0m\u001b[0;34m\u001b[0m\u001b[0m\n\u001b[0m\u001b[1;32m      4\u001b[0m \u001b[0;34m\u001b[0m\u001b[0m\n\u001b[1;32m      5\u001b[0m \u001b[0;31m# Rolling standard deviation\u001b[0m\u001b[0;34m\u001b[0m\u001b[0;34m\u001b[0m\u001b[0;34m\u001b[0m\u001b[0m\n",
            "\u001b[0;31mNameError\u001b[0m: name 'prices' is not defined"
          ]
        }
      ]
    },
    {
      "cell_type": "markdown",
      "metadata": {
        "id": "SRztFNS5WzKS"
      },
      "source": [
        "---"
      ]
    },
    {
      "cell_type": "markdown",
      "metadata": {
        "deletable": true,
        "editable": true,
        "id": "KHGowHhAWzKT"
      },
      "source": [
        "Congratulations on completing the Introduction to pandas exercises!\n",
        "\n",
        "As you learn more about writing trading algorithms and the Quantopian platform, be sure to check out the daily [Quantopian Contest](https://www.quantopian.com/contest), in which you can compete for a cash prize every day.\n",
        "\n",
        "Start by going through the [Writing a Contest Algorithm](https://www.quantopian.com/tutorials/contest) Tutorial."
      ]
    },
    {
      "cell_type": "markdown",
      "metadata": {
        "collapsed": true,
        "deletable": true,
        "editable": true,
        "id": "4FCABHtfWzKT"
      },
      "source": [
        "*This presentation is for informational purposes only and does not constitute an offer to sell, a solicitation to buy, or a recommendation for any security; nor does it constitute an offer to provide investment advisory or other services by Quantopian, Inc. (\"Quantopian\"). Nothing contained herein constitutes investment advice or offers any opinion with respect to the suitability of any security, and any views expressed herein should not be taken as advice to buy, sell, or hold any security or as an endorsement of any security or company.  In preparing the information contained herein, Quantopian, Inc. has not taken into account the investment needs, objectives, and financial circumstances of any particular investor. Any views expressed and data illustrated herein were prepared based upon information, believed to be reliable, available to Quantopian, Inc. at the time of publication. Quantopian makes no guarantees as to their accuracy or completeness. All information is subject to change and may quickly become unreliable for various reasons, including changes in market conditions or economic circumstances.*"
      ]
    }
  ]
}