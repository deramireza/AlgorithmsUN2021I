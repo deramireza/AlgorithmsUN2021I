{
  "nbformat": 4,
  "nbformat_minor": 0,
  "metadata": {
    "kernelspec": {
      "name": "python3",
      "display_name": "Python 3"
    },
    "colab": {
      "name": "deramirezLecture3.ipynb",
      "provenance": [],
      "collapsed_sections": [
        "3uKJfzBAdBi9"
      ],
      "include_colab_link": true
    }
  },
  "cells": [
    {
      "cell_type": "markdown",
      "metadata": {
        "id": "view-in-github",
        "colab_type": "text"
      },
      "source": [
        "<a href=\"https://colab.research.google.com/github/deramireza/AlgorithmsUN2021I/blob/main/lab1/deramirezLecture3.ipynb\" target=\"_parent\"><img src=\"https://colab.research.google.com/assets/colab-badge.svg\" alt=\"Open In Colab\"/></a>"
      ]
    },
    {
      "cell_type": "markdown",
      "metadata": {
        "id": "alHiCBgUdBiS"
      },
      "source": [
        "# Introduction to NumPy\n",
        "by Maxwell Margenot\n",
        "\n",
        "Part of the Quantopian Lecture Series:\n",
        "\n",
        "* [www.quantopian.com/lectures](https://www.quantopian.com/lectures)\n",
        "* [github.com/quantopian/research_public](https://github.com/quantopian/research_public)\n",
        "\n",
        "Notebook released under the Creative Commons Attribution 4.0 License."
      ]
    },
    {
      "cell_type": "markdown",
      "metadata": {
        "id": "xbeh_pH3dBiV"
      },
      "source": [
        "NumPy is an incredibly powerful package in Python that is ubiquitous throughout the Quantopian platform. It has strong integration with Pandas, another tool we will be covering in the lecture series. NumPy adds support for multi-dimensional arrays and mathematical functions that allow you to easily perform linear algebra calculations. This lecture will be a collection of linear algebra examples computed using NumPy."
      ]
    },
    {
      "cell_type": "code",
      "metadata": {
        "collapsed": true,
        "id": "pEMdnnlBdBiX"
      },
      "source": [
        "import numpy as np\n",
        "import matplotlib.pyplot as plt"
      ],
      "execution_count": 5,
      "outputs": []
    },
    {
      "cell_type": "markdown",
      "metadata": {
        "id": "TEDdLABedBiY"
      },
      "source": [
        "### Basic NumPy arrays"
      ]
    },
    {
      "cell_type": "markdown",
      "metadata": {
        "id": "EA3gLEdRdBiZ"
      },
      "source": [
        "The most basic way that we could make use of NumPy in finance is calculating the mean return of a portfolio. Say that we have a list containing the historical return of several stocks."
      ]
    },
    {
      "cell_type": "code",
      "metadata": {
        "collapsed": true,
        "id": "sjZ09I_FdBia"
      },
      "source": [
        "stock_list = [3.5, 5, 2, 8, 4.2]"
      ],
      "execution_count": 8,
      "outputs": []
    },
    {
      "cell_type": "code",
      "metadata": {
        "id": "YQaL8PZysh7K"
      },
      "source": [
        "example = [9.3, 1.76, 1.78, 4.44, 6.01, 7.0]"
      ],
      "execution_count": 1,
      "outputs": []
    },
    {
      "cell_type": "markdown",
      "metadata": {
        "id": "3VghGYvTdBia"
      },
      "source": [
        "We can make an array by calling a function on the list:"
      ]
    },
    {
      "cell_type": "code",
      "metadata": {
        "colab": {
          "base_uri": "https://localhost:8080/"
        },
        "id": "AMzA42V0dBib",
        "outputId": "0bc96439-5312-46d4-c4a1-e9ae4af5930c"
      },
      "source": [
        "returns = np.array(stock_list)\n",
        "print(returns, type(returns))"
      ],
      "execution_count": 9,
      "outputs": [
        {
          "output_type": "stream",
          "text": [
            "[3.5 5.  2.  8.  4.2] <class 'numpy.ndarray'>\n"
          ],
          "name": "stdout"
        }
      ]
    },
    {
      "cell_type": "code",
      "metadata": {
        "colab": {
          "base_uri": "https://localhost:8080/"
        },
        "id": "8vfdGCJPskLK",
        "outputId": "a9ca5e6a-4185-4599-bdcc-fd728e3bd145"
      },
      "source": [
        "returns1 = np.array(example)\n",
        "print(returns1, type(returns1))"
      ],
      "execution_count": 10,
      "outputs": [
        {
          "output_type": "stream",
          "text": [
            "[9.3  1.76 1.78 4.44 6.01 7.  ] <class 'numpy.ndarray'>\n"
          ],
          "name": "stdout"
        }
      ]
    },
    {
      "cell_type": "markdown",
      "metadata": {
        "id": "z70tZ1rbdBic"
      },
      "source": [
        "You'll notice that the type of our array is 'ndarray', not just 'array'. This is because NumPy arrays can be created with multiple dimensions. If we pass np.array() a list of lists, it will create a 2-dimensional array. If we pass a list of lists of lists, it will create a 3-dimensional array, and so on and so forth."
      ]
    },
    {
      "cell_type": "code",
      "metadata": {
        "colab": {
          "base_uri": "https://localhost:8080/"
        },
        "id": "iC4H9dSTdBid",
        "outputId": "9c973128-2a69-4a40-e463-25db652ea7c4"
      },
      "source": [
        "A = np.array([[1, 2], [3, 4]])\n",
        "print(A, type(A))"
      ],
      "execution_count": 11,
      "outputs": [
        {
          "output_type": "stream",
          "text": [
            "[[1 2]\n",
            " [3 4]] <class 'numpy.ndarray'>\n"
          ],
          "name": "stdout"
        }
      ]
    },
    {
      "cell_type": "code",
      "metadata": {
        "colab": {
          "base_uri": "https://localhost:8080/"
        },
        "id": "rj5vAFhusomT",
        "outputId": "47fb06c7-c5f3-442a-9211-c97ff5ae117a"
      },
      "source": [
        "B = np.array([[1, 7, 5], [63, 64, 61], [80, 91, 4], [10, 1111, 2]])\n",
        "print(B, type(B))"
      ],
      "execution_count": 12,
      "outputs": [
        {
          "output_type": "stream",
          "text": [
            "[[   1    7    5]\n",
            " [  63   64   61]\n",
            " [  80   91    4]\n",
            " [  10 1111    2]] <class 'numpy.ndarray'>\n"
          ],
          "name": "stdout"
        }
      ]
    },
    {
      "cell_type": "markdown",
      "metadata": {
        "id": "WJWBZf4EdBie"
      },
      "source": [
        "We can access the dimensions of an array by looking at its `shape` member variable."
      ]
    },
    {
      "cell_type": "code",
      "metadata": {
        "colab": {
          "base_uri": "https://localhost:8080/"
        },
        "id": "GkqFBjWfdBie",
        "outputId": "b005c914-fd78-445c-9cf7-926d4f9d9c00"
      },
      "source": [
        "print(A.shape)"
      ],
      "execution_count": 13,
      "outputs": [
        {
          "output_type": "stream",
          "text": [
            "(2, 2)\n"
          ],
          "name": "stdout"
        }
      ]
    },
    {
      "cell_type": "code",
      "metadata": {
        "colab": {
          "base_uri": "https://localhost:8080/"
        },
        "id": "fYNQ7LNQs2Ft",
        "outputId": "745371d1-32d1-4465-ff0f-cd68d0b0ea7b"
      },
      "source": [
        "print(B.shape)"
      ],
      "execution_count": 14,
      "outputs": [
        {
          "output_type": "stream",
          "text": [
            "(4, 3)\n"
          ],
          "name": "stdout"
        }
      ]
    },
    {
      "cell_type": "markdown",
      "metadata": {
        "id": "rEBZu4w0dBif"
      },
      "source": [
        "Arrays are indexed in much the same way as lists in Python. Elements of a list begin indexing from $0$ and end at $n - 1$, where $n$ is the length of the array."
      ]
    },
    {
      "cell_type": "code",
      "metadata": {
        "colab": {
          "base_uri": "https://localhost:8080/"
        },
        "id": "LV2ZDMvvdBig",
        "outputId": "feee7843-ea97-4207-b4ee-c54b212dc83d"
      },
      "source": [
        "print(returns[0], returns[len(returns) - 1])"
      ],
      "execution_count": 16,
      "outputs": [
        {
          "output_type": "stream",
          "text": [
            "3.5 4.2\n"
          ],
          "name": "stdout"
        }
      ]
    },
    {
      "cell_type": "code",
      "metadata": {
        "colab": {
          "base_uri": "https://localhost:8080/"
        },
        "id": "Tdz5K3Dts75a",
        "outputId": "8a354355-b90d-48bb-f7fe-583dc8be60be"
      },
      "source": [
        "print(returns1[0], returns1[len(returns1) - 1])"
      ],
      "execution_count": 15,
      "outputs": [
        {
          "output_type": "stream",
          "text": [
            "9.3 7.0\n"
          ],
          "name": "stdout"
        }
      ]
    },
    {
      "cell_type": "markdown",
      "metadata": {
        "id": "5X4uDP4ZdBig"
      },
      "source": [
        "We can take a slice of an array using a colon, just like in a list."
      ]
    },
    {
      "cell_type": "code",
      "metadata": {
        "colab": {
          "base_uri": "https://localhost:8080/"
        },
        "id": "c3kOFFkedBih",
        "outputId": "3f15308d-e95f-415f-b23c-5de00262b7b8"
      },
      "source": [
        "print(returns[1:3])"
      ],
      "execution_count": 20,
      "outputs": [
        {
          "output_type": "stream",
          "text": [
            "[5. 2.]\n"
          ],
          "name": "stdout"
        }
      ]
    },
    {
      "cell_type": "code",
      "metadata": {
        "colab": {
          "base_uri": "https://localhost:8080/"
        },
        "id": "qBgOILBCtBKM",
        "outputId": "a45eeb3d-58d0-4160-e80e-4abb8db76c70"
      },
      "source": [
        "print(returns1[2:4])"
      ],
      "execution_count": 18,
      "outputs": [
        {
          "output_type": "stream",
          "text": [
            "[1.78 4.44]\n"
          ],
          "name": "stdout"
        }
      ]
    },
    {
      "cell_type": "markdown",
      "metadata": {
        "id": "kBOPkTKxdBii"
      },
      "source": [
        "A slice of an array, like in a list, will select a group of elements in the array starting from the first element indicated and going up to (but not including) the last element indicated.\n",
        "\n",
        "In the case of multidimensional arrays, many of the same conventions with slicing and indexing hold. We can access the first column of a 2-dimensional array like so:"
      ]
    },
    {
      "cell_type": "code",
      "metadata": {
        "colab": {
          "base_uri": "https://localhost:8080/"
        },
        "id": "BaNDBmoKdBii",
        "outputId": "6b0222c2-6c6e-4c6b-8370-38dd1bd71641"
      },
      "source": [
        "print(A[:, 0])"
      ],
      "execution_count": 21,
      "outputs": [
        {
          "output_type": "stream",
          "text": [
            "[1 3]\n"
          ],
          "name": "stdout"
        }
      ]
    },
    {
      "cell_type": "code",
      "metadata": {
        "colab": {
          "base_uri": "https://localhost:8080/"
        },
        "id": "6nkUznFutHO-",
        "outputId": "a5ba7ad4-56c9-4812-dae9-530a6c76f15c"
      },
      "source": [
        "print(B[:, 0])"
      ],
      "execution_count": 22,
      "outputs": [
        {
          "output_type": "stream",
          "text": [
            "[ 1 63 80 10]\n"
          ],
          "name": "stdout"
        }
      ]
    },
    {
      "cell_type": "markdown",
      "metadata": {
        "id": "8ZnXbUYYdBij"
      },
      "source": [
        "And the first row of a 2-dimensional array like so:"
      ]
    },
    {
      "cell_type": "code",
      "metadata": {
        "colab": {
          "base_uri": "https://localhost:8080/"
        },
        "id": "d7-WaC_2dBij",
        "outputId": "75df7de7-1b5c-48e1-abd7-c302ee982920"
      },
      "source": [
        "print(A[0, :])"
      ],
      "execution_count": 24,
      "outputs": [
        {
          "output_type": "stream",
          "text": [
            "[1 2]\n"
          ],
          "name": "stdout"
        }
      ]
    },
    {
      "cell_type": "code",
      "metadata": {
        "colab": {
          "base_uri": "https://localhost:8080/"
        },
        "id": "Rw3DSut2tNYi",
        "outputId": "36874c28-d563-459b-a91e-77ad8986a86f"
      },
      "source": [
        "print(B[0, :])"
      ],
      "execution_count": 23,
      "outputs": [
        {
          "output_type": "stream",
          "text": [
            "[1 7 5]\n"
          ],
          "name": "stdout"
        }
      ]
    },
    {
      "cell_type": "markdown",
      "metadata": {
        "id": "IH0vRo5cdBik"
      },
      "source": [
        "Notice that each slice of the array returns yet another array!"
      ]
    },
    {
      "cell_type": "code",
      "metadata": {
        "colab": {
          "base_uri": "https://localhost:8080/"
        },
        "id": "o-HuzCvMdBik",
        "outputId": "7ce390f9-8ae7-449f-84fc-56cc6faf7db9"
      },
      "source": [
        "print(type(A[0,:]))"
      ],
      "execution_count": 27,
      "outputs": [
        {
          "output_type": "stream",
          "text": [
            "<class 'numpy.ndarray'>\n"
          ],
          "name": "stdout"
        }
      ]
    },
    {
      "cell_type": "code",
      "metadata": {
        "colab": {
          "base_uri": "https://localhost:8080/"
        },
        "id": "r-b8bfjDtRq-",
        "outputId": "bb44dbf1-bc49-4399-c15e-a2285234c5a9"
      },
      "source": [
        "print(type(B[0,:]))"
      ],
      "execution_count": 28,
      "outputs": [
        {
          "output_type": "stream",
          "text": [
            "<class 'numpy.ndarray'>\n"
          ],
          "name": "stdout"
        }
      ]
    },
    {
      "cell_type": "markdown",
      "metadata": {
        "id": "dFe6YV6QdBil"
      },
      "source": [
        "Passing only one index to a 2-dimensional array will result in returning the row with the given index as well, providing us with another way to access individual rows."
      ]
    },
    {
      "cell_type": "code",
      "metadata": {
        "colab": {
          "base_uri": "https://localhost:8080/"
        },
        "id": "qg8yaM8odBil",
        "outputId": "958fb939-a2ce-4c15-f383-446f6c339b9d"
      },
      "source": [
        "print(A[0])"
      ],
      "execution_count": 29,
      "outputs": [
        {
          "output_type": "stream",
          "text": [
            "[1 2]\n"
          ],
          "name": "stdout"
        }
      ]
    },
    {
      "cell_type": "code",
      "metadata": {
        "colab": {
          "base_uri": "https://localhost:8080/"
        },
        "id": "DcUIXARjtVJ0",
        "outputId": "f48b4e6b-39aa-4a9a-ff68-dc31e176055d"
      },
      "source": [
        "print(B[3])"
      ],
      "execution_count": 30,
      "outputs": [
        {
          "output_type": "stream",
          "text": [
            "[  10 1111    2]\n"
          ],
          "name": "stdout"
        }
      ]
    },
    {
      "cell_type": "markdown",
      "metadata": {
        "id": "TarYdIMrdBim"
      },
      "source": [
        "Accessing the index of an individual element will return only the element."
      ]
    },
    {
      "cell_type": "code",
      "metadata": {
        "id": "bcqZBZSgdBin",
        "colab": {
          "base_uri": "https://localhost:8080/"
        },
        "outputId": "b65dc28a-c3db-48d5-e8d3-5f33ab234d28"
      },
      "source": [
        "print(A[1, 1])"
      ],
      "execution_count": 31,
      "outputs": [
        {
          "output_type": "stream",
          "text": [
            "4\n"
          ],
          "name": "stdout"
        }
      ]
    },
    {
      "cell_type": "code",
      "metadata": {
        "colab": {
          "base_uri": "https://localhost:8080/"
        },
        "id": "tT-cRdq1taBq",
        "outputId": "d7777569-2513-4388-8993-db684521ec15"
      },
      "source": [
        "print(B[2, 2])"
      ],
      "execution_count": 33,
      "outputs": [
        {
          "output_type": "stream",
          "text": [
            "4\n"
          ],
          "name": "stdout"
        }
      ]
    },
    {
      "cell_type": "markdown",
      "metadata": {
        "id": "Us7xsJnkdBin"
      },
      "source": [
        "#### Array functions\n",
        "\n",
        "Functions built into NumPy can be easily called on arrays. Most functions are applied to an array element-wise (as scalar multiplication is). For example, if we call `log()` on an array, the logarithm will be taken of each element."
      ]
    },
    {
      "cell_type": "code",
      "metadata": {
        "id": "eCcKV8FSdBio",
        "colab": {
          "base_uri": "https://localhost:8080/"
        },
        "outputId": "700010d0-589a-447d-d285-981ef9fbebc9"
      },
      "source": [
        "print(np.log(returns))"
      ],
      "execution_count": 34,
      "outputs": [
        {
          "output_type": "stream",
          "text": [
            "[1.25276297 1.60943791 0.69314718 2.07944154 1.43508453]\n"
          ],
          "name": "stdout"
        }
      ]
    },
    {
      "cell_type": "code",
      "metadata": {
        "colab": {
          "base_uri": "https://localhost:8080/"
        },
        "id": "KY6PS0SNtkYu",
        "outputId": "385baf27-5438-4a6f-a8ec-788a34494c04"
      },
      "source": [
        "print(np.log(returns1))"
      ],
      "execution_count": 35,
      "outputs": [
        {
          "output_type": "stream",
          "text": [
            "[2.2300144  0.56531381 0.57661336 1.49065438 1.79342475 1.94591015]\n"
          ],
          "name": "stdout"
        }
      ]
    },
    {
      "cell_type": "markdown",
      "metadata": {
        "id": "fJROR9JvdBio"
      },
      "source": [
        "Some functions return a single value. This is because they treat the array as a collection (similar to a list), performing the designated function. For example, the `mean()` function will do exactly what you expect, calculating the mean of an array."
      ]
    },
    {
      "cell_type": "code",
      "metadata": {
        "id": "iXaTOdNSdBip",
        "colab": {
          "base_uri": "https://localhost:8080/"
        },
        "outputId": "3d650a65-dbda-471f-f09c-463f2d03a950"
      },
      "source": [
        "print(np.mean(returns))"
      ],
      "execution_count": 36,
      "outputs": [
        {
          "output_type": "stream",
          "text": [
            "4.54\n"
          ],
          "name": "stdout"
        }
      ]
    },
    {
      "cell_type": "code",
      "metadata": {
        "colab": {
          "base_uri": "https://localhost:8080/"
        },
        "id": "pDEZJYiDtmTZ",
        "outputId": "a5fb13ca-b68e-43e1-dd68-d31299548930"
      },
      "source": [
        "print(np.mean(returns1))"
      ],
      "execution_count": 37,
      "outputs": [
        {
          "output_type": "stream",
          "text": [
            "5.048333333333333\n"
          ],
          "name": "stdout"
        }
      ]
    },
    {
      "cell_type": "markdown",
      "metadata": {
        "id": "Y3_GlyQNdBip"
      },
      "source": [
        "Or the `max()` function will return the maximum element of an array."
      ]
    },
    {
      "cell_type": "code",
      "metadata": {
        "colab": {
          "base_uri": "https://localhost:8080/"
        },
        "id": "FGwfQSE9dBiq",
        "outputId": "ec59a5a7-539e-4265-8132-2dfe4355a904"
      },
      "source": [
        "print(np.max(returns))"
      ],
      "execution_count": 38,
      "outputs": [
        {
          "output_type": "stream",
          "text": [
            "8.0\n"
          ],
          "name": "stdout"
        }
      ]
    },
    {
      "cell_type": "code",
      "metadata": {
        "colab": {
          "base_uri": "https://localhost:8080/"
        },
        "id": "IR-jp0Osto_L",
        "outputId": "6cbfdeff-a3ab-4bc2-bc41-7eb2e608b788"
      },
      "source": [
        "print(np.max(returns1))"
      ],
      "execution_count": 39,
      "outputs": [
        {
          "output_type": "stream",
          "text": [
            "9.3\n"
          ],
          "name": "stdout"
        }
      ]
    },
    {
      "cell_type": "markdown",
      "metadata": {
        "id": "EU7rzmhLdBiq"
      },
      "source": [
        "For further reading on the universal functions in NumPy, check out the [documentation](https://docs.scipy.org/doc/numpy/user/quickstart.html#universal-functions)."
      ]
    },
    {
      "cell_type": "markdown",
      "metadata": {
        "id": "i2O-jg7GdBir"
      },
      "source": [
        "### Return to the returns\n",
        "\n",
        "Now let's modify our returns array with scalar values. If we add a scalar value to an array it will be added to every element of the array. If we multiply an array by a scalar value it will be multiplied against every element of the array. If we do both, both will happen!"
      ]
    },
    {
      "cell_type": "code",
      "metadata": {
        "scrolled": false,
        "colab": {
          "base_uri": "https://localhost:8080/"
        },
        "id": "dhbqMn9RdBir",
        "outputId": "2528aae0-ea94-4738-c776-c265162c9f66"
      },
      "source": [
        "returns*2 + 5"
      ],
      "execution_count": 41,
      "outputs": [
        {
          "output_type": "execute_result",
          "data": {
            "text/plain": [
              "array([12. , 15. ,  9. , 21. , 13.4])"
            ]
          },
          "metadata": {
            "tags": []
          },
          "execution_count": 41
        }
      ]
    },
    {
      "cell_type": "code",
      "metadata": {
        "colab": {
          "base_uri": "https://localhost:8080/"
        },
        "id": "knCYAMWWtr4v",
        "outputId": "39d9bf57-df15-49a5-b630-7fc1b2138047"
      },
      "source": [
        "returns1*4 + 1"
      ],
      "execution_count": 45,
      "outputs": [
        {
          "output_type": "execute_result",
          "data": {
            "text/plain": [
              "array([38.2 ,  8.04,  8.12, 18.76, 25.04, 29.  ])"
            ]
          },
          "metadata": {
            "tags": []
          },
          "execution_count": 45
        }
      ]
    },
    {
      "cell_type": "markdown",
      "metadata": {
        "id": "iTvgUvSUdBis"
      },
      "source": [
        "NumPy also has functions specifically built to operate on arrays. Let's take the mean and standard deviation of this group of returns."
      ]
    },
    {
      "cell_type": "code",
      "metadata": {
        "colab": {
          "base_uri": "https://localhost:8080/"
        },
        "id": "MRoegtcudBis",
        "outputId": "6ebf0cf0-b2e5-4cea-c166-61fb2bc13dd4"
      },
      "source": [
        "print(\"Mean: \", np.mean(returns), \"Std Dev: \", np.std(returns))"
      ],
      "execution_count": 46,
      "outputs": [
        {
          "output_type": "stream",
          "text": [
            "Mean:  4.54 Std Dev:  1.9915822855207364\n"
          ],
          "name": "stdout"
        }
      ]
    },
    {
      "cell_type": "code",
      "metadata": {
        "colab": {
          "base_uri": "https://localhost:8080/"
        },
        "id": "eet2lpkVtxsh",
        "outputId": "3eda8a68-0f29-4b8d-fad3-12b8ab156a78"
      },
      "source": [
        "print(\"Mean: \", np.mean(returns1), \"Std Dev: \", np.std(returns1))"
      ],
      "execution_count": 47,
      "outputs": [
        {
          "output_type": "stream",
          "text": [
            "Mean:  5.048333333333333 Std Dev:  2.7287263003500777\n"
          ],
          "name": "stdout"
        }
      ]
    },
    {
      "cell_type": "markdown",
      "metadata": {
        "id": "Qgmkj1-9dBit"
      },
      "source": [
        "Let's simulate a universe of stocks using NumPy's functions. First we need to create the arrays to hold the assets and returns that we will use to build a portfolio. This is because arrays are created with a fixed size. Their dimensions can't be changed without creating a new array."
      ]
    },
    {
      "cell_type": "code",
      "metadata": {
        "collapsed": true,
        "id": "nHyFvJc2dBit"
      },
      "source": [
        "N = 10\n",
        "assets = np.zeros((N, 100))\n",
        "returns = np.zeros((N, 100))"
      ],
      "execution_count": 52,
      "outputs": []
    },
    {
      "cell_type": "code",
      "metadata": {
        "id": "3_qeKKTgt360"
      },
      "source": [
        "N1 = 24\n",
        "assets1 = np.zeros((N1, 150))\n",
        "returns1 = np.zeros((N1, 150))"
      ],
      "execution_count": 54,
      "outputs": []
    },
    {
      "cell_type": "markdown",
      "metadata": {
        "id": "-24LL8qtdBiu"
      },
      "source": [
        "This function, `zeroes()`, creates a NumPy array with the given dimensions that is entirely filled in with $0$. We can pass a single value or a tuple of as many dimensions as we like. Passing in the tuple `(N, 100)`, will return a two-dimensional array with $N$ rows and $100$ columns. Our result is a $N \\times 100$ array.\n",
        "\n",
        "Now we will simulate a base asset. We want the universe of stocks to be correlated with each other so we will use this initial value to generate the others."
      ]
    },
    {
      "cell_type": "code",
      "metadata": {
        "id": "CeMrJLLsdBiu"
      },
      "source": [
        "R_1 = np.random.normal(1.01, 0.03, 100)\n",
        "returns[0] = R_1\n",
        "assets[0] = np.cumprod(R_1)"
      ],
      "execution_count": 56,
      "outputs": []
    },
    {
      "cell_type": "code",
      "metadata": {
        "id": "L9_Qn9bAu8dw"
      },
      "source": [
        "R_2 = np.random.normal(1.011, 0.033, 150)\n",
        "returns1[0] = R_2\n",
        "assets1[0] = np.cumprod(R_2)"
      ],
      "execution_count": 64,
      "outputs": []
    },
    {
      "cell_type": "markdown",
      "metadata": {
        "id": "2Amdz2nKdBiv"
      },
      "source": [
        "The `random` module in NumPy is exceedingly useful. It contains methods for sampling from many different probability distributions, some of which are covered in the [random variables lecture](https://www.quantopian.com/lectures/random-variables) in the Quantopian lecture series. In this case we draw $N = 100$ random samples from a normal distribution with mean $1.01$ and standard deviation $0.03$. We treat these as the daily percentage returns of our asset and take the cumulative product of these samples to get the current price.\n",
        "\n",
        "The way we have generated our universe, the the individual $R_i$ vectors are each 1-dimensional arrays and the `returns` and `assets` variables contain 2-dimensional arrays. Above, we set the initial row of both `returns` and `assets` to be the first $R_i$ vector and the cumulative asset price based on those returns, respectively.\n",
        "\n",
        "We will now use this base asset to create a few other random assets that are correlated with it."
      ]
    },
    {
      "cell_type": "code",
      "metadata": {
        "id": "2glYE-pmdBiw"
      },
      "source": [
        "# Generate assets that are correlated with R_1\n",
        "for i in range(1, N):\n",
        "    R_i = R_1 + np.random.normal(0.001, 0.02, 100)\n",
        "    returns[i] = R_i # Set each row of returns equal to the new R_i array\n",
        "    assets[i] = np.cumprod(R_i)\n",
        "    \n",
        "mean_returns = [(np.mean(R) - 1)*100 for R in returns]\n",
        "return_volatilities = [np.std(R) for R in returns]"
      ],
      "execution_count": 65,
      "outputs": []
    },
    {
      "cell_type": "code",
      "metadata": {
        "id": "h9Q8lCyXvHF9"
      },
      "source": [
        "for i in range(1, N1):\n",
        "    R_i = R_2 + np.random.normal(0.001, 0.02, 150)\n",
        "    returns1[i] = R_i\n",
        "    assets1[i] = np.cumprod(R_i)\n",
        "    \n",
        "mean_returns1 = [(np.mean(R) - 1)*100 for R in returns1]\n",
        "return_volatilities1 = [np.std(R) for R in returns1]"
      ],
      "execution_count": 66,
      "outputs": []
    },
    {
      "cell_type": "markdown",
      "metadata": {
        "id": "Ju9b4f3NdBiw"
      },
      "source": [
        "Here we generate the remaining $N - 1$ securities that we want in our universe by adding random noise to $R_1$. This ensures that our $N - 1$ other assets will be correlated with the base asset because they have some underlying information that is shared.\n",
        "\n",
        "Let's plot what the mean return of each asset looks like:"
      ]
    },
    {
      "cell_type": "code",
      "metadata": {
        "scrolled": false,
        "colab": {
          "base_uri": "https://localhost:8080/",
          "height": 295
        },
        "id": "JgxqR5kTdBix",
        "outputId": "3f74e9ff-f107-4589-d0e4-b1189f3ca9a8"
      },
      "source": [
        "plt.bar(np.arange(len(mean_returns)), mean_returns)\n",
        "plt.xlabel('Stock')\n",
        "plt.ylabel('Returns')\n",
        "plt.title('Returns for {0} Random Assets'.format(N));"
      ],
      "execution_count": 67,
      "outputs": [
        {
          "output_type": "display_data",
          "data": {
            "image/png": "[encoded data removed]",
            "text/plain": [
              "<Figure size 432x288 with 1 Axes>"
            ]
          },
          "metadata": {
            "tags": [],
            "needs_background": "light"
          }
        }
      ]
    },
    {
      "cell_type": "code",
      "metadata": {
        "colab": {
          "base_uri": "https://localhost:8080/",
          "height": 295
        },
        "id": "YGtqBUUtvTDB",
        "outputId": "cd823233-0133-429f-9cd3-569739338047"
      },
      "source": [
        "plt.bar(np.arange(len(mean_returns1)), mean_returns1)\n",
        "plt.xlabel('Stock')\n",
        "plt.ylabel('Returns')\n",
        "plt.title('Returns for {0} Random Assets'.format(N1));"
      ],
      "execution_count": 68,
      "outputs": [
        {
          "output_type": "display_data",
          "data": {
            "image/png": "[encoded data removed]",
            "text/plain": [
              "<Figure size 432x288 with 1 Axes>"
            ]
          },
          "metadata": {
            "tags": [],
            "needs_background": "light"
          }
        }
      ]
    },
    {
      "cell_type": "markdown",
      "metadata": {
        "id": "3LUGkfovdBix"
      },
      "source": [
        "### Calculating Expected Return\n",
        "\n",
        "So we have a universe of stocks. Great! Now let's put them together in a portfolio and calculate its expected return and risk.\n",
        "\n",
        "We will start off by generating $N$ random weights for each asset in our portfolio."
      ]
    },
    {
      "cell_type": "code",
      "metadata": {
        "id": "Ez4m2bmidBiy"
      },
      "source": [
        "weights = np.random.uniform(0, 1, N)\n",
        "weights = weights/np.sum(weights)"
      ],
      "execution_count": 75,
      "outputs": []
    },
    {
      "cell_type": "code",
      "metadata": {
        "id": "oFnjSmAxvg55"
      },
      "source": [
        "weights1 = np.random.uniform(0, 1, N1)\n",
        "weights1 = weights1/np.sum(weights1)"
      ],
      "execution_count": 76,
      "outputs": []
    },
    {
      "cell_type": "markdown",
      "metadata": {
        "id": "HQNWGNrzdBiy"
      },
      "source": [
        "We have to rescale the weights so that they all add up to $1$. We do this by scaling the weights vector by the sum total of all the weights. This step ensures that we will be using $100\\%$ of the portfolio's cash.\n",
        "\n",
        "To calculate the mean return of the portfolio, we have to scale each asset's return by its designated weight. We can pull each element of each array and multiply them individually, but it's quicker to use NumPy's linear algebra methods. The function that we want is `dot()`. This will calculate the dot product between two arrays for us. So if $v = \\left[ 1, 2, 3 \\right]$ and $w = \\left[4, 5, 6 \\right]$, then:\n",
        "\n",
        "$$ v \\cdot w = 1 \\times 4 + 2 \\times 5 + 3 \\times 6 $$\n",
        "\n",
        "For a one-dimensional vector, the dot product will multiply each element pointwise and add all the products together! In our case, we have a vector of weights, $\\omega = \\left[ \\omega_1, \\omega_2, \\dots \\omega_N\\right]$ and a vector of returns, $\\mu = \\left[ \\mu_1, \\mu_2, \\dots, \\mu_N\\right]$. If we take the dot product of these two we will get:\n",
        "\n",
        "$$ \\omega \\cdot \\mu = \\omega_1\\mu_1 + \\omega_2\\mu_2 + \\dots + \\omega_N\\mu_N = \\mu_P $$\n",
        "\n",
        "This yields the sum of all the asset returns scaled by their respective weights. This the the portfolio's overall expected return!"
      ]
    },
    {
      "cell_type": "code",
      "metadata": {
        "colab": {
          "base_uri": "https://localhost:8080/"
        },
        "id": "JGLcrNhKdBiz",
        "outputId": "6eafe47d-08eb-4af2-cc64-fddbb5b7c8b8"
      },
      "source": [
        "p_returns = np.dot(weights, mean_returns)\n",
        "print(\"Expected return of the portfolio: \", p_returns)"
      ],
      "execution_count": 77,
      "outputs": [
        {
          "output_type": "stream",
          "text": [
            "Expected return of the portfolio:  0.802703685114079\n"
          ],
          "name": "stdout"
        }
      ]
    },
    {
      "cell_type": "code",
      "metadata": {
        "colab": {
          "base_uri": "https://localhost:8080/"
        },
        "id": "3oENRakcvlPM",
        "outputId": "48dff61e-9fc9-489b-d75c-9bc2014c5c37"
      },
      "source": [
        "p_returns1 = np.dot(weights1, mean_returns1)\n",
        "print(\"Expected return of the portfolio: \", p_returns1)"
      ],
      "execution_count": 78,
      "outputs": [
        {
          "output_type": "stream",
          "text": [
            "Expected return of the portfolio:  1.289650254354716\n"
          ],
          "name": "stdout"
        }
      ]
    },
    {
      "cell_type": "markdown",
      "metadata": {
        "id": "pPL9Qkw2dBi1"
      },
      "source": [
        "Calculating the mean return is fairly intuitive and does not require too much explanation of linear algebra. However, calculating the variance of our portfolio requires a bit more background."
      ]
    },
    {
      "cell_type": "markdown",
      "metadata": {
        "id": "Xj91PoZWdBi2"
      },
      "source": [
        "#### Beware of NaN values\n",
        "\n",
        "Most of the time, all of these calculations will work without an issue. However, when working with real data we run the risk of having `nan` values in our arrays. This is NumPy's way of saying that the data there is missing or doesn't exist. These `nan` values can lead to errors in mathematical calculations so it is important to be aware of whether your array contains `nan` values and to know how to drop them."
      ]
    },
    {
      "cell_type": "code",
      "metadata": {
        "colab": {
          "base_uri": "https://localhost:8080/"
        },
        "id": "qhcXSkR-dBi2",
        "outputId": "91b33ef0-420e-4e45-8a9e-cc16ad465346"
      },
      "source": [
        "v = np.array([1, 2, np.nan, 4, 5])\n",
        "print(v)"
      ],
      "execution_count": 80,
      "outputs": [
        {
          "output_type": "stream",
          "text": [
            "[ 1.  2. nan  4.  5.]\n"
          ],
          "name": "stdout"
        }
      ]
    },
    {
      "cell_type": "code",
      "metadata": {
        "colab": {
          "base_uri": "https://localhost:8080/"
        },
        "id": "CKCwLiazvqYY",
        "outputId": "7239867d-d303-41de-b15f-b89fdfa55f06"
      },
      "source": [
        "z = np.array([17, np.nan, np.nan, 2.3, np.nan, 3.44, 6.2, 7, 4.5])\n",
        "print(z)"
      ],
      "execution_count": 82,
      "outputs": [
        {
          "output_type": "stream",
          "text": [
            "[17.     nan   nan  2.3    nan  3.44  6.2   7.    4.5 ]\n"
          ],
          "name": "stdout"
        }
      ]
    },
    {
      "cell_type": "markdown",
      "metadata": {
        "id": "m3dwngOYdBi4"
      },
      "source": [
        "Let's see what happens when we try to take the mean of this array."
      ]
    },
    {
      "cell_type": "code",
      "metadata": {
        "colab": {
          "base_uri": "https://localhost:8080/"
        },
        "id": "cODjPyO4dBi4",
        "outputId": "2f850ab9-49d1-480b-c6ba-7e680e5c3d61"
      },
      "source": [
        "print(np.mean(v))"
      ],
      "execution_count": 83,
      "outputs": [
        {
          "output_type": "stream",
          "text": [
            "nan\n"
          ],
          "name": "stdout"
        }
      ]
    },
    {
      "cell_type": "code",
      "metadata": {
        "colab": {
          "base_uri": "https://localhost:8080/"
        },
        "id": "2C8guRHWv1p6",
        "outputId": "e03f0761-5cd6-4b57-db37-6c56b266fb99"
      },
      "source": [
        "print(np.mean(z))"
      ],
      "execution_count": 84,
      "outputs": [
        {
          "output_type": "stream",
          "text": [
            "nan\n"
          ],
          "name": "stdout"
        }
      ]
    },
    {
      "cell_type": "markdown",
      "metadata": {
        "id": "U3nu1ar6dBi5"
      },
      "source": [
        "Clearly, `nan` values can have a large impact on our calculations. Fortunately, we can check for `nan` values with the `isnan()` function."
      ]
    },
    {
      "cell_type": "code",
      "metadata": {
        "colab": {
          "base_uri": "https://localhost:8080/"
        },
        "id": "_iBV5Ux2dBi6",
        "outputId": "d159ed8b-4bb7-413e-ba15-be29cf6301fb"
      },
      "source": [
        "np.isnan(v)"
      ],
      "execution_count": 86,
      "outputs": [
        {
          "output_type": "execute_result",
          "data": {
            "text/plain": [
              "array([False, False,  True, False, False])"
            ]
          },
          "metadata": {
            "tags": []
          },
          "execution_count": 86
        }
      ]
    },
    {
      "cell_type": "code",
      "metadata": {
        "colab": {
          "base_uri": "https://localhost:8080/"
        },
        "id": "IRF7nOsev3_L",
        "outputId": "26812d8e-7c24-4c0c-856e-a9246db5231a"
      },
      "source": [
        "np.isnan(z)"
      ],
      "execution_count": 87,
      "outputs": [
        {
          "output_type": "execute_result",
          "data": {
            "text/plain": [
              "array([False,  True,  True, False,  True, False, False, False, False])"
            ]
          },
          "metadata": {
            "tags": []
          },
          "execution_count": 87
        }
      ]
    },
    {
      "cell_type": "markdown",
      "metadata": {
        "id": "SzKYhVuqdBi7"
      },
      "source": [
        "Calling `isnan()` on an array will call the function on each value of the array, returning a value of `True` if the element is `nan` and `False` if the element is valid. Now, knowing whether your array contains `nan` values is all well and good, but how do we remove `nan`s? Handily enough, NumPy arrays can be indexed by boolean values (`True` or `False`). If we use a boolean array to index an array, we will remove all values of the array that register as `False` under the condition. We use the `isnan()` function in create a boolean array, assigning a `True` value to everything that is *not* `nan` and a `False` to the `nan`s and we use that to index the same array."
      ]
    },
    {
      "cell_type": "code",
      "metadata": {
        "colab": {
          "base_uri": "https://localhost:8080/"
        },
        "id": "376-LvXtdBi7",
        "outputId": "57b03e88-f176-4661-87b3-90bb8839e53d"
      },
      "source": [
        "ix = ~np.isnan(v) # the ~ indicates a logical not, inverting the bools\n",
        "print(v[ix]) # We can also just write v = v[~np.isnan(v)]"
      ],
      "execution_count": 88,
      "outputs": [
        {
          "output_type": "stream",
          "text": [
            "[1. 2. 4. 5.]\n"
          ],
          "name": "stdout"
        }
      ]
    },
    {
      "cell_type": "code",
      "metadata": {
        "colab": {
          "base_uri": "https://localhost:8080/"
        },
        "id": "FEKiACEFv6yQ",
        "outputId": "146a71db-a0ac-43fc-8ceb-4684eb0a71fd"
      },
      "source": [
        "jx = ~np.isnan(z)\n",
        "print(z[jx])"
      ],
      "execution_count": 89,
      "outputs": [
        {
          "output_type": "stream",
          "text": [
            "[17.    2.3   3.44  6.2   7.    4.5 ]\n"
          ],
          "name": "stdout"
        }
      ]
    },
    {
      "cell_type": "code",
      "metadata": {
        "colab": {
          "base_uri": "https://localhost:8080/"
        },
        "id": "DylZE-iedBi8",
        "outputId": "63936bf9-4f5e-42a5-b3d5-8bddcc93f5c4"
      },
      "source": [
        "print(np.mean(v[ix]))"
      ],
      "execution_count": 90,
      "outputs": [
        {
          "output_type": "stream",
          "text": [
            "3.0\n"
          ],
          "name": "stdout"
        }
      ]
    },
    {
      "cell_type": "code",
      "metadata": {
        "colab": {
          "base_uri": "https://localhost:8080/"
        },
        "id": "6i1RT1BpwA8P",
        "outputId": "5f010139-8ab9-440f-eb84-788dfa9dff4f"
      },
      "source": [
        "print(np.mean(z[jx]))"
      ],
      "execution_count": 91,
      "outputs": [
        {
          "output_type": "stream",
          "text": [
            "6.739999999999999\n"
          ],
          "name": "stdout"
        }
      ]
    },
    {
      "cell_type": "markdown",
      "metadata": {
        "id": "FWHG0l7jdBi8"
      },
      "source": [
        "There are a few shortcuts to this process in the form of NumPy functions specifically built to handle them, such as `nanmean()`."
      ]
    },
    {
      "cell_type": "code",
      "metadata": {
        "colab": {
          "base_uri": "https://localhost:8080/"
        },
        "id": "J2QZgbhJdBi8",
        "outputId": "a106d68d-025b-4aee-f6fd-a4da4dc5ba5e"
      },
      "source": [
        "print(np.nanmean(v))"
      ],
      "execution_count": 93,
      "outputs": [
        {
          "output_type": "stream",
          "text": [
            "3.0\n"
          ],
          "name": "stdout"
        }
      ]
    },
    {
      "cell_type": "code",
      "metadata": {
        "colab": {
          "base_uri": "https://localhost:8080/"
        },
        "id": "dxsOfIflwDuz",
        "outputId": "2132518c-dabc-4ca3-a6dc-8d4a5a8df7cf"
      },
      "source": [
        "print(np.nanmean(z))"
      ],
      "execution_count": 94,
      "outputs": [
        {
          "output_type": "stream",
          "text": [
            "6.739999999999999\n"
          ],
          "name": "stdout"
        }
      ]
    },
    {
      "cell_type": "markdown",
      "metadata": {
        "id": "liyCIVJUdBi9"
      },
      "source": [
        "The `nanmean()` function simply calculates the mean of the array as if there were no `nan` values at all! There are a few more of these functions, so feel free to read more about them in the [documentation](https://docs.scipy.org/doc/numpy/user/index.html). These indeterminate values are more an issue with data than linear algebra itself so it is helpful that there are ways to handle them."
      ]
    },
    {
      "cell_type": "markdown",
      "metadata": {
        "id": "3uKJfzBAdBi9"
      },
      "source": [
        "### Conclusion\n",
        "\n",
        "Linear algebra is pervasive in finance and in general. For example, the calculation of *optimal* weights according to modern portfolio theory is done using linear algebra techniques. The arrays and functions in NumPy allow us to handle these calculations in an intuitive way. For a quick intro to linear algebra and how to use NumPy to do more significant matrix calculations, proceed to the next section."
      ]
    },
    {
      "cell_type": "markdown",
      "metadata": {
        "id": "V-cXhYlDdBi9"
      },
      "source": [
        "## A brief foray into linear algebra\n",
        "\n",
        "Let's start with a basic overview of some linear algebra. Linear algebra comes down to the multiplication and composition of scalar and matrix values. A scalar value is just a real number that we multiply against an array. When we scale a matrix or array using a scalar, we multiply each individual element of that matrix or array by the scalar.\n",
        "\n",
        "A matrix is a collection of values, typically represented by an $m \\times n$ grid, where $m$ is the number of rows and $n$ is the number of columns. The edge lengths $m$ and $n$ do not necessarily have to be different. If we have $m = n$, we call this a square matrix. A particularly interesting case of a matrix is when $m = 1$ or $n = 1$. In this case we have a special case of a matrix that we call a vector. While there is a matrix object in NumPy we will be doing everything using NumPy arrays because they can have dimensions greater than $2$. For the purpose of this section, we will be using matrix and array interchangeably.\n",
        "\n",
        "We can express the matrix equation as:\n",
        "\n",
        "$$ y = A\\cdot x $$\n",
        "\n",
        "Where $A$ is an $m \\times n$ matrix, $y$ is a $m \\times 1$ vector, and $x$ is a $n \\times 1$ vector. On the right-hand side of the equation we are multiplying a matrix by a vector. This requires a little bit more clarification, lest we think that we can go about multiplying any matrices by any other matrices.\n",
        "\n",
        "#### Matrix multiplication\n",
        "\n",
        "With matrix multiplication, the order in which the matrices are multiplied matters. Multiplying a matrix on the left side by another matrix may be just fine, but multiplying on the right may be undefined."
      ]
    },
    {
      "cell_type": "code",
      "metadata": {
        "id": "7k0IoSkVwOrm"
      },
      "source": [
        "A = np.array([\n",
        "        [1, 2, 3, 12, 6],\n",
        "        [4, 5, 6, 15, 20],\n",
        "        [7, 8, 9, 10, 10]        \n",
        "    ])\n",
        "B = np.array([\n",
        "        [4, 4, 2],\n",
        "        [2, 3, 1],\n",
        "        [6, 5, 8],\n",
        "        [9, 9, 9]\n",
        "    ])"
      ],
      "execution_count": 95,
      "outputs": []
    },
    {
      "cell_type": "code",
      "metadata": {
        "collapsed": true,
        "id": "Z4qibxl-dBi9"
      },
      "source": [
        "C = np.array([\n",
        "        [6, 6, 4, 15, 3],\n",
        "        [3, 6, 1, 18, 14],\n",
        "        [5, 1, 2, 21, 9]        \n",
        "    ])\n",
        "D = np.array([\n",
        "        [4, 3, 1],\n",
        "        [9, 8, 2],\n",
        "        [5, 9, 3],\n",
        "        [5, 16, 2]\n",
        "    ])"
      ],
      "execution_count": 98,
      "outputs": []
    },
    {
      "cell_type": "markdown",
      "metadata": {
        "id": "FBPs3TRldBi9"
      },
      "source": [
        "Notice that the above-defined matrices, $A$ and $B$, have different dimensions. $A$ is $3 \\times 5$ and $B$ is $4 \\times 3$. The general rule of what can and cannot be multiplied in which order is based on the dimensions of the matrices. Specifically, the number of columns in the matrix on the left must be equal to the number of rows in the matrix on the right. In super informal terms, let's say that we have an $m \\times n$ matrix and a $p \\times q$ matrix. If we multiply the first by the second on the right, we get the following:\n",
        "\n",
        "$$ (m \\times n) \\cdot (p \\times q) = (m \\times q) $$\n",
        "\n",
        "So the resultant product has the same number of rows as the left matrix and the same number of columns as the right matrix. This limitation of matrix multiplication with regards to dimensions is important to keep track of when writing code. To demonstrate this, we use the `dot()` function to multiply our matrices below:"
      ]
    },
    {
      "cell_type": "code",
      "metadata": {
        "id": "u5zsz1AUdBi-"
      },
      "source": [
        "print(np.dot(A, B))"
      ],
      "execution_count": null,
      "outputs": []
    },
    {
      "cell_type": "markdown",
      "metadata": {
        "id": "aRFhKz6AdBi-"
      },
      "source": [
        "These results make sense in accordance with our rule. Multiplying a $3 \\times 5$ matrix on the right by a $4 \\times 3$ matrix results in an error while multiplying a $4 \\times 3$ matrix on the right by a $3 \\times 5$ matrix results in a $4 \\times 5$ matrix."
      ]
    },
    {
      "cell_type": "code",
      "metadata": {
        "colab": {
          "base_uri": "https://localhost:8080/"
        },
        "id": "5QZ1sR3ldBi-",
        "outputId": "4e528634-39c3-4c18-8869-ff0bdfe8a4ef"
      },
      "source": [
        "print(np.dot(B, A))"
      ],
      "execution_count": 100,
      "outputs": [
        {
          "output_type": "stream",
          "text": [
            "[[ 34  44  54 128 124]\n",
            " [ 21  27  33  79  82]\n",
            " [ 82 101 120 227 216]\n",
            " [108 135 162 333 324]]\n"
          ],
          "name": "stdout"
        }
      ]
    },
    {
      "cell_type": "code",
      "metadata": {
        "id": "2FeJrfWowhmM"
      },
      "source": [
        "print(np.dot(C, D))"
      ],
      "execution_count": null,
      "outputs": []
    },
    {
      "cell_type": "code",
      "metadata": {
        "colab": {
          "base_uri": "https://localhost:8080/"
        },
        "id": "5-evMTjhwk5Y",
        "outputId": "569789f8-74d5-4041-cd7b-0f5871cfb3dd"
      },
      "source": [
        "print(np.dot(D, C))"
      ],
      "execution_count": 102,
      "outputs": [
        {
          "output_type": "stream",
          "text": [
            "[[ 38  43  21 135  63]\n",
            " [ 88 104  48 321 157]\n",
            " [ 72  87  35 300 168]\n",
            " [ 88 128  40 405 257]]\n"
          ],
          "name": "stdout"
        }
      ]
    },
    {
      "cell_type": "markdown",
      "metadata": {
        "id": "nou7iigVdBi-"
      },
      "source": [
        "### Portfolio Variance\n",
        "\n",
        "Let's return to our portfolio example from before. We calculated the expected return of the portfolio, but how do we calculate the variance? We start by trying to evaluate the portfolio as a sum of each individual asset, scaled by it's weight.\n",
        "\n",
        "$$ VAR[P] = VAR[\\omega_1 S_1 + \\omega_2 S_2 + \\cdots + \\omega_N S_N] $$\n",
        "\n",
        "Where $S_0, \\cdots, S_N$ are the assets contained within our universe. If all of our assets were independent of each other, we could simply evaluate this as\n",
        "\n",
        "$$ VAR[P] = VAR[\\omega_1 S_1] + VAR[\\omega_2 S_2] + \\cdots + VAR[\\omega_N S_N] = \\omega_1^2\\sigma_1^2 + \\omega_2^2\\sigma_2^2 + \\cdots + \\omega_N^2\\sigma_N^2 $$\n",
        "\n",
        "However, all of our assets depend on each other by their construction. They are all in some way related to our base asset and therefore each other. We thus have to calculate the variance of the portfolio by including the individual pairwise covariances of each asset. Our formula for the variance of the portfolio:\n",
        "\n",
        "$$ VAR[P] = \\sigma_P^2 = \\sum_i \\omega_i^2\\sigma_i^2 + \\sum_i\\sum_{i\\neq j} \\omega_i\\omega_j\\sigma_i\\sigma_j\\rho_{i, j}, \\ i, j \\in \\lbrace 1, 2, \\cdots, N \\rbrace $$\n",
        "\n",
        "Where $\\rho_{i,j}$ is the correlation between $S_i$ and $S_j$, $\\rho_{i, j} = \\frac{COV[S_i, S_j]}{\\sigma_i\\sigma_j}$. This seems exceedingly complicated, but we can easily handle all of this using NumPy arrays. First, we calculate the covariance matrix that relates all the individual stocks in our universe."
      ]
    },
    {
      "cell_type": "code",
      "metadata": {
        "colab": {
          "base_uri": "https://localhost:8080/"
        },
        "id": "IyF4nox8dBi_",
        "outputId": "631ee0f6-1bf6-4c73-dd88-a81847702ac8"
      },
      "source": [
        "cov_mat = np.cov(returns)\n",
        "print(cov_mat)"
      ],
      "execution_count": 103,
      "outputs": [
        {
          "output_type": "stream",
          "text": [
            "[[0.00094357 0.00091801 0.00095383 0.00098868 0.00109267 0.0009269\n",
            "  0.000903   0.00098473 0.00099896 0.00092983]\n",
            " [0.00091801 0.00129472 0.00094531 0.0009871  0.00102442 0.00094104\n",
            "  0.00089504 0.00096685 0.0009176  0.0009431 ]\n",
            " [0.00095383 0.00094531 0.00129689 0.00102427 0.00104972 0.00099474\n",
            "  0.00093859 0.00093686 0.00098912 0.00096228]\n",
            " [0.00098868 0.0009871  0.00102427 0.00147145 0.00108686 0.00096722\n",
            "  0.00099811 0.00100195 0.00098895 0.00092424]\n",
            " [0.00109267 0.00102442 0.00104972 0.00108686 0.00167782 0.00103565\n",
            "  0.00105218 0.00120372 0.0012375  0.00110081]\n",
            " [0.0009269  0.00094104 0.00099474 0.00096722 0.00103565 0.00127349\n",
            "  0.00089843 0.00089588 0.00099618 0.00090488]\n",
            " [0.000903   0.00089504 0.00093859 0.00099811 0.00105218 0.00089843\n",
            "  0.0013575  0.00089453 0.00095897 0.00090679]\n",
            " [0.00098473 0.00096685 0.00093686 0.00100195 0.00120372 0.00089588\n",
            "  0.00089453 0.0014035  0.00109341 0.00097992]\n",
            " [0.00099896 0.0009176  0.00098912 0.00098895 0.0012375  0.00099618\n",
            "  0.00095897 0.00109341 0.00141942 0.00095047]\n",
            " [0.00092983 0.0009431  0.00096228 0.00092424 0.00110081 0.00090488\n",
            "  0.00090679 0.00097992 0.00095047 0.0013705 ]]\n"
          ],
          "name": "stdout"
        }
      ]
    },
    {
      "cell_type": "code",
      "metadata": {
        "colab": {
          "base_uri": "https://localhost:8080/"
        },
        "id": "NODC8EXwxXGq",
        "outputId": "2bc19162-8ff9-4746-d3a1-7926a0f654f5"
      },
      "source": [
        "cov_mat1 = np.cov(returns1)\n",
        "print(cov_mat1)"
      ],
      "execution_count": 104,
      "outputs": [
        {
          "output_type": "stream",
          "text": [
            "[[0.00099535 0.0010102  0.00101648 0.00101409 0.0010677  0.00107315\n",
            "  0.0010212  0.00108607 0.00101718 0.00104041 0.00099898 0.00095592\n",
            "  0.0010133  0.00097923 0.00105637 0.0009836  0.00096279 0.0010208\n",
            "  0.0009501  0.00106628 0.0009863  0.0010058  0.00100915 0.0009964 ]\n",
            " [0.0010102  0.00143492 0.00101301 0.00100548 0.00109029 0.00106702\n",
            "  0.00105336 0.00109834 0.00104834 0.00107341 0.00099351 0.00096611\n",
            "  0.0009958  0.00100808 0.00103508 0.00098181 0.00096249 0.00105206\n",
            "  0.00094248 0.0010542  0.00096688 0.0009785  0.0010139  0.00097529]\n",
            " [0.00101648 0.00101301 0.00141896 0.00099268 0.0011104  0.0010931\n",
            "  0.001054   0.00108014 0.00102613 0.00103798 0.00107071 0.00094379\n",
            "  0.00102639 0.00099929 0.00110247 0.00100416 0.0010157  0.00102836\n",
            "  0.00099111 0.00106129 0.00104702 0.00102621 0.00100728 0.00099806]\n",
            " [0.00101409 0.00100548 0.00099268 0.00147502 0.0010848  0.00108808\n",
            "  0.00105496 0.00103648 0.00106278 0.00103022 0.00097688 0.00092441\n",
            "  0.00111486 0.00102804 0.0010778  0.00093382 0.00094932 0.00106147\n",
            "  0.00094641 0.00107852 0.00104663 0.00104217 0.00103531 0.00102464]\n",
            " [0.0010677  0.00109029 0.0011104  0.0010848  0.00154735 0.00112036\n",
            "  0.00109543 0.00113824 0.00108378 0.00109815 0.00105268 0.00104624\n",
            "  0.00106949 0.00106222 0.00111364 0.00102481 0.00101962 0.00107102\n",
            "  0.00099334 0.00113853 0.00108729 0.00101825 0.00109558 0.00108498]\n",
            " [0.00107315 0.00106702 0.0010931  0.00108808 0.00112036 0.00152146\n",
            "  0.0011009  0.00113415 0.00113294 0.00110969 0.00103396 0.00104076\n",
            "  0.00106223 0.00105335 0.0011232  0.00109742 0.00105392 0.00113751\n",
            "  0.00099612 0.0011237  0.00107402 0.00113415 0.00110194 0.00105181]\n",
            " [0.0010212  0.00105336 0.001054   0.00105496 0.00109543 0.0011009\n",
            "  0.00141338 0.00108674 0.00102689 0.00110749 0.00102173 0.00101152\n",
            "  0.00104228 0.00102445 0.0010559  0.00101291 0.00097905 0.001044\n",
            "  0.00095807 0.0011124  0.00102284 0.00103873 0.00103947 0.0010367 ]\n",
            " [0.00108607 0.00109834 0.00108014 0.00103648 0.00113824 0.00113415\n",
            "  0.00108674 0.00158203 0.00113655 0.00112051 0.00109738 0.00106059\n",
            "  0.00103833 0.00105291 0.00120067 0.00108222 0.00103349 0.00105991\n",
            "  0.00105131 0.00117327 0.00105743 0.00112922 0.00109855 0.00108925]\n",
            " [0.00101718 0.00104834 0.00102613 0.00106278 0.00108378 0.00113294\n",
            "  0.00102689 0.00113655 0.00141297 0.00102242 0.00099752 0.00095441\n",
            "  0.00100305 0.00104486 0.00105112 0.00098752 0.00090681 0.00106112\n",
            "  0.00099125 0.00105751 0.00103411 0.00102833 0.00099913 0.00098729]\n",
            " [0.00104041 0.00107341 0.00103798 0.00103022 0.00109815 0.00110969\n",
            "  0.00110749 0.00112051 0.00102242 0.0014073  0.00100088 0.00104666\n",
            "  0.00108956 0.00101568 0.00111738 0.00107114 0.00105714 0.00105083\n",
            "  0.00097048 0.0011494  0.00100261 0.0010596  0.00105853 0.0010912 ]\n",
            " [0.00099898 0.00099351 0.00107071 0.00097688 0.00105268 0.00103396\n",
            "  0.00102173 0.00109738 0.00099752 0.00100088 0.00138289 0.00094543\n",
            "  0.00095527 0.00090178 0.00105961 0.00097823 0.00102096 0.00105168\n",
            "  0.00096893 0.00113343 0.00098293 0.00103341 0.00099973 0.00100921]\n",
            " [0.00095592 0.00096611 0.00094379 0.00092441 0.00104624 0.00104076\n",
            "  0.00101152 0.00106059 0.00095441 0.00104666 0.00094543 0.0013255\n",
            "  0.00098376 0.00092388 0.0010084  0.00098808 0.00096769 0.00095418\n",
            "  0.00090609 0.0010352  0.00091882 0.0010146  0.00093544 0.00095309]\n",
            " [0.0010133  0.0009958  0.00102639 0.00111486 0.00106949 0.00106223\n",
            "  0.00104228 0.00103833 0.00100305 0.00108956 0.00095527 0.00098376\n",
            "  0.00150494 0.00101125 0.00112016 0.00096319 0.00096903 0.00105067\n",
            "  0.00093556 0.00110711 0.00109292 0.00102251 0.00103241 0.00099127]\n",
            " [0.00097923 0.00100808 0.00099929 0.00102804 0.00106222 0.00105335\n",
            "  0.00102445 0.00105291 0.00104486 0.00101568 0.00090178 0.00092388\n",
            "  0.00101125 0.00128728 0.00106293 0.00095946 0.00093982 0.00099534\n",
            "  0.00090978 0.00103113 0.00097228 0.00097545 0.0010103  0.00103048]\n",
            " [0.00105637 0.00103508 0.00110247 0.0010778  0.00111364 0.0011232\n",
            "  0.0010559  0.00120067 0.00105112 0.00111738 0.00105961 0.0010084\n",
            "  0.00112016 0.00106293 0.00146912 0.00107237 0.00101024 0.00106915\n",
            "  0.00101608 0.00115573 0.00107311 0.00108499 0.00108633 0.00107721]\n",
            " [0.0009836  0.00098181 0.00100416 0.00093382 0.00102481 0.00109742\n",
            "  0.00101291 0.00108222 0.00098752 0.00107114 0.00097823 0.00098808\n",
            "  0.00096319 0.00095946 0.00107237 0.00136489 0.00101441 0.00096616\n",
            "  0.00097706 0.00108266 0.0009551  0.00102207 0.00098768 0.00094713]\n",
            " [0.00096279 0.00096249 0.0010157  0.00094932 0.00101962 0.00105392\n",
            "  0.00097905 0.00103349 0.00090681 0.00105714 0.00102096 0.00096769\n",
            "  0.00096903 0.00093982 0.00101024 0.00101441 0.00123713 0.00102853\n",
            "  0.00089323 0.00106671 0.0008978  0.00098992 0.00096013 0.00099369]\n",
            " [0.0010208  0.00105206 0.00102836 0.00106147 0.00107102 0.00113751\n",
            "  0.001044   0.00105991 0.00106112 0.00105083 0.00105168 0.00095418\n",
            "  0.00105067 0.00099534 0.00106915 0.00096616 0.00102853 0.00144196\n",
            "  0.00092196 0.00112254 0.00098621 0.0010393  0.00099549 0.00105753]\n",
            " [0.0009501  0.00094248 0.00099111 0.00094641 0.00099334 0.00099612\n",
            "  0.00095807 0.00105131 0.00099125 0.00097048 0.00096893 0.00090609\n",
            "  0.00093556 0.00090978 0.00101608 0.00097706 0.00089323 0.00092196\n",
            "  0.00134222 0.00101243 0.0009235  0.00099322 0.00105036 0.00095058]\n",
            " [0.00106628 0.0010542  0.00106129 0.00107852 0.00113853 0.0011237\n",
            "  0.0011124  0.00117327 0.00105751 0.0011494  0.00113343 0.0010352\n",
            "  0.00110711 0.00103113 0.00115573 0.00108266 0.00106671 0.00112254\n",
            "  0.00101243 0.00151553 0.00103749 0.00108294 0.00104712 0.00111206]\n",
            " [0.0009863  0.00096688 0.00104702 0.00104663 0.00108729 0.00107402\n",
            "  0.00102284 0.00105743 0.00103411 0.00100261 0.00098293 0.00091882\n",
            "  0.00109292 0.00097228 0.00107311 0.0009551  0.0008978  0.00098621\n",
            "  0.0009235  0.00103749 0.00132509 0.00097912 0.00099322 0.00094902]\n",
            " [0.0010058  0.0009785  0.00102621 0.00104217 0.00101825 0.00113415\n",
            "  0.00103873 0.00112922 0.00102833 0.0010596  0.00103341 0.0010146\n",
            "  0.00102251 0.00097545 0.00108499 0.00102207 0.00098992 0.0010393\n",
            "  0.00099322 0.00108294 0.00097912 0.00130631 0.00097587 0.00099604]\n",
            " [0.00100915 0.0010139  0.00100728 0.00103531 0.00109558 0.00110194\n",
            "  0.00103947 0.00109855 0.00099913 0.00105853 0.00099973 0.00093544\n",
            "  0.00103241 0.0010103  0.00108633 0.00098768 0.00096013 0.00099549\n",
            "  0.00105036 0.00104712 0.00099322 0.00097587 0.00144451 0.00101598]\n",
            " [0.0009964  0.00097529 0.00099806 0.00102464 0.00108498 0.00105181\n",
            "  0.0010367  0.00108925 0.00098729 0.0010912  0.00100921 0.00095309\n",
            "  0.00099127 0.00103048 0.00107721 0.00094713 0.00099369 0.00105753\n",
            "  0.00095058 0.00111206 0.00094902 0.00099604 0.00101598 0.00142125]]\n"
          ],
          "name": "stdout"
        }
      ]
    },
    {
      "cell_type": "markdown",
      "metadata": {
        "id": "6kir6d-xdBi_"
      },
      "source": [
        "This array is not formatted particularly nicely, but a covariance matrix is a very important concept. The covariance matrix is of the form:\n",
        "\n",
        "$$ \\left[\\begin{matrix}\n",
        "VAR[S_1] & COV[S_1, S_2] & \\cdots & COV[S_1, S_N] \\\\\n",
        "COV[S_2, S_1] & VAR[S_2] & \\cdots & COV[S_2, S_N] \\\\\n",
        "\\vdots & \\vdots & \\ddots & \\vdots \\\\\n",
        "COV[S_N, S_1] & COV[S_N, S_2] & \\cdots & VAR[S_N]\n",
        "\\end{matrix}\\right] $$\n",
        "\n",
        "So each diagonal entry is the variance of that asset at that index and each off-diagonal holds the covariance of two assets indexed by the column and row number. What is important is that once we have the covariance matrix we are able to do some very quick linear algebra to calculate the variance of the overall portfolio. We can represent the variance of the portfolio in array form as:\n",
        "\n",
        "$$ \\sigma_p^2 = \\omega \\ C \\ \\omega^\\intercal$$\n",
        "\n",
        "Where $C$ is the covariance matrix of all the assets and $\\omega$ is the array containing the weights of each individual asset. The superscript $\\intercal$ on the second $\\omega$ listed above denotes the **transpose** of $\\omega$. For a reference on the evaluation of the variance of a portfolio as a matrix equation, please see the Wikipedia article on [modern portfolio theory](https://en.wikipedia.org/wiki/Modern_portfolio_theory).\n",
        "\n",
        "The transpose of an array is what you get when you switch the rows and columns of an array. This has the effect of reflecting an array across what you might imagine as a diagonal. For example, take our array $A$ from before:"
      ]
    },
    {
      "cell_type": "code",
      "metadata": {
        "id": "beUsh4xLdBi_",
        "colab": {
          "base_uri": "https://localhost:8080/"
        },
        "outputId": "13691235-7b0c-4c07-a362-3ce14f2e58a8"
      },
      "source": [
        "print(A)"
      ],
      "execution_count": 105,
      "outputs": [
        {
          "output_type": "stream",
          "text": [
            "[[ 1  2  3 12  6]\n",
            " [ 4  5  6 15 20]\n",
            " [ 7  8  9 10 10]]\n"
          ],
          "name": "stdout"
        }
      ]
    },
    {
      "cell_type": "markdown",
      "metadata": {
        "id": "uP5hkOa5dBjA"
      },
      "source": [
        "The transpose looks like a mirror image of the same array."
      ]
    },
    {
      "cell_type": "code",
      "metadata": {
        "colab": {
          "base_uri": "https://localhost:8080/"
        },
        "id": "CCWvF2vZxhTX",
        "outputId": "02161a21-4e9a-49f5-b424-28807f34b9a4"
      },
      "source": [
        "print(C)"
      ],
      "execution_count": 106,
      "outputs": [
        {
          "output_type": "stream",
          "text": [
            "[[ 6  6  4 15  3]\n",
            " [ 3  6  1 18 14]\n",
            " [ 5  1  2 21  9]]\n"
          ],
          "name": "stdout"
        }
      ]
    },
    {
      "cell_type": "code",
      "metadata": {
        "id": "85nao8Q1dBjA",
        "colab": {
          "base_uri": "https://localhost:8080/"
        },
        "outputId": "ccca6901-b591-4231-bd6a-5260fc0394d5"
      },
      "source": [
        "print(np.transpose(A))"
      ],
      "execution_count": 107,
      "outputs": [
        {
          "output_type": "stream",
          "text": [
            "[[ 1  4  7]\n",
            " [ 2  5  8]\n",
            " [ 3  6  9]\n",
            " [12 15 10]\n",
            " [ 6 20 10]]\n"
          ],
          "name": "stdout"
        }
      ]
    },
    {
      "cell_type": "code",
      "metadata": {
        "colab": {
          "base_uri": "https://localhost:8080/"
        },
        "id": "UD8mOsQQxkfc",
        "outputId": "c47cc1ad-fc11-48d7-d6c2-a8ea84c0fcf2"
      },
      "source": [
        "print(np.transpose(C))"
      ],
      "execution_count": 108,
      "outputs": [
        {
          "output_type": "stream",
          "text": [
            "[[ 6  3  5]\n",
            " [ 6  6  1]\n",
            " [ 4  1  2]\n",
            " [15 18 21]\n",
            " [ 3 14  9]]\n"
          ],
          "name": "stdout"
        }
      ]
    },
    {
      "cell_type": "markdown",
      "metadata": {
        "id": "hC7Lgh6udBjA"
      },
      "source": [
        "But $\\omega$ here is a 1-dimensional array, a vector! It makes perfect to take the transpose of $A$, a $3 \\times 5$ array, as the output will be a $5 \\times 3$ array, but a 1-dimensional array is not quite as intuitive. A typical 1-dimensional array can be thought of as a $1 \\times n$ horizontal vector. Thus, taking the tranpose of this array essentially means changing it into a $n \\times 1$ vertical vector. This makes sense because 1-dimensional arrays are still arrays and any multiplication done between 1-dimensional and higher dimensional arrays must keep in line with our dimensionality issue of matrix multiplication.\n",
        "\n",
        "To make a long story short, we think of $\\omega$ as $1 \\times N$ since we have $N$ securities. This makes it so that $\\omega^\\intercal$ is $N \\times 1$. Again, our covariance matrix is $N \\times N$. So the overall multiplication works out like so, in informal terms:\n",
        "\n",
        "$$ \\text{Dimensions}(\\sigma_p^2) = \\text{Dimensions}(\\omega C \\omega^\\intercal) = (1 \\times N)\\cdot (N \\times N)\\cdot (N \\times 1) = (1 \\times 1)$$\n",
        "\n",
        "Multiplying the covariance matrix on the left by the plain horizontal vector and on the right by that vector's transpose results in the calculation of a single scalar ($1 \\times 1$) value, our portfolio's variance.\n",
        "\n",
        "So knowing this, let's proceed and calculate the portfolio variance! We can easily calculate the product of these arrays by using `dot()` for matrix multiplication, though this time we have to do it twice."
      ]
    },
    {
      "cell_type": "code",
      "metadata": {
        "scrolled": false,
        "id": "TWZvCpgRdBjA",
        "colab": {
          "base_uri": "https://localhost:8080/"
        },
        "outputId": "5e0cf8c2-4ce6-4d40-9fa7-af49618f2ff6"
      },
      "source": [
        "# Calculating the portfolio volatility\n",
        "var_p = np.dot(np.dot(weights, cov_mat), weights.T)\n",
        "vol_p = np.sqrt(var_p)\n",
        "print(\"Portfolio volatility: \", vol_p)"
      ],
      "execution_count": 109,
      "outputs": [
        {
          "output_type": "stream",
          "text": [
            "Portfolio volatility:  0.03183167458456856\n"
          ],
          "name": "stdout"
        }
      ]
    },
    {
      "cell_type": "code",
      "metadata": {
        "colab": {
          "base_uri": "https://localhost:8080/"
        },
        "id": "5t-LrhxbxoMv",
        "outputId": "57baf035-ffca-4ccc-ed51-38163ab7b2a7"
      },
      "source": [
        "var_p1 = np.dot(np.dot(weights1, cov_mat1), weights1.T)\n",
        "vol_p1 = np.sqrt(var_p1)\n",
        "print(\"Portfolio volatility: \", vol_p1)"
      ],
      "execution_count": 110,
      "outputs": [
        {
          "output_type": "stream",
          "text": [
            "Portfolio volatility:  0.032450121429066156\n"
          ],
          "name": "stdout"
        }
      ]
    },
    {
      "cell_type": "markdown",
      "metadata": {
        "id": "mUWZ3Y24dBjA"
      },
      "source": [
        "To confirm this calculation, let's simply evaluate the volatility of the portfolio using only NumPy functions."
      ]
    },
    {
      "cell_type": "code",
      "metadata": {
        "id": "rTMaG-S4dBjB",
        "colab": {
          "base_uri": "https://localhost:8080/"
        },
        "outputId": "03762c26-0682-43e5-c793-db9fa4b733f1"
      },
      "source": [
        "# Confirming calculation\n",
        "vol_p_alt = np.sqrt(np.var(np.dot(weights, returns), ddof=1))\n",
        "print(\"Portfolio volatility: \", vol_p_alt)"
      ],
      "execution_count": 111,
      "outputs": [
        {
          "output_type": "stream",
          "text": [
            "Portfolio volatility:  0.031831674584568564\n"
          ],
          "name": "stdout"
        }
      ]
    },
    {
      "cell_type": "code",
      "metadata": {
        "colab": {
          "base_uri": "https://localhost:8080/"
        },
        "id": "AX87M0hexv5o",
        "outputId": "0a01045f-5fb2-48b5-e026-ade1f0d307da"
      },
      "source": [
        "vol_p_alt1 = np.sqrt(np.var(np.dot(weights1, returns1), ddof=1))\n",
        "print(\"Portfolio volatility: \", vol_p_alt1)"
      ],
      "execution_count": 112,
      "outputs": [
        {
          "output_type": "stream",
          "text": [
            "Portfolio volatility:  0.03245012142906614\n"
          ],
          "name": "stdout"
        }
      ]
    },
    {
      "cell_type": "markdown",
      "metadata": {
        "id": "ckCQfrbVdBjB"
      },
      "source": [
        "The `ddof` parameter is a simple integer input that tells the function the number of degrees of freedom to take into account. This is a more statistical concept, but what this tells us that our matrix calculation is correct!\n",
        "\n",
        "A lot of this might not make sense at first glance. It helps to go back and forth between the theory and the code representations until you have a better grasp of the mathematics involved. It is definitely not necessary to be an expert on linear algebra and on matrix operations, but linear algebra can help to streamline the process of working with large amounts of data. For further reading on NumPy, check out the [documentation](https://docs.scipy.org/doc/numpy/user/index.html)."
      ]
    },
    {
      "cell_type": "markdown",
      "metadata": {
        "id": "inTR_Fa6dBjB"
      },
      "source": [
        "*This presentation is for informational purposes only and does not constitute an offer to sell, a solicitation to buy, or a recommendation for any security; nor does it constitute an offer to provide investment advisory or other services by Quantopian, Inc. (\"Quantopian\"). Nothing contained herein constitutes investment advice or offers any opinion with respect to the suitability of any security, and any views expressed herein should not be taken as advice to buy, sell, or hold any security or as an endorsement of any security or company.  In preparing the information contained herein, Quantopian, Inc. has not taken into account the investment needs, objectives, and financial circumstances of any particular investor. Any views expressed and data illustrated herein were prepared based upon information, believed to be reliable, available to Quantopian, Inc. at the time of publication. Quantopian makes no guarantees as to their accuracy or completeness. All information is subject to change and may quickly become unreliable for various reasons, including changes in market conditions or economic circumstances.*"
      ]
    }
  ]
}